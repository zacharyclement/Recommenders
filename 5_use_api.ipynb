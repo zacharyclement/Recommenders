{
 "cells": [
  {
   "cell_type": "code",
   "execution_count": 7,
   "id": "01ae6eb1-645c-447d-b1f7-bbf07de3978b",
   "metadata": {},
   "outputs": [],
   "source": [
    "import tensorflow as tf\n",
    "import numpy as np\n",
    "import os\n",
    "import requests\n",
    "import json"
   ]
  },
  {
   "cell_type": "markdown",
   "id": "28a09226-44bb-485e-b488-e1fe66b1e2c0",
   "metadata": {},
   "source": [
    "# Get Content Recommendations for a Given User ID\n",
    "flask app must be running. see read me for instructions on getting flask app running."
   ]
  },
  {
   "cell_type": "code",
   "execution_count": 88,
   "id": "b3d05ae7-a999-4571-a70c-db2899629b76",
   "metadata": {},
   "outputs": [
    {
     "name": "stdout",
     "output_type": "stream",
     "text": [
      "<Response [200]>\n"
     ]
    },
    {
     "data": {
      "text/plain": [
       "{\"b'a533f2f57a'\": 0.67427635,\n",
       " \"b'487d868f96'\": 0.6728412,\n",
       " \"b'73e16a0447'\": 0.66920125,\n",
       " \"b'a1671b9953'\": 0.6617259,\n",
       " \"b'639ae113f9'\": 0.65509045,\n",
       " \"b'c7d5f7710d'\": 0.6438377,\n",
       " \"b'20b0745a31'\": 0.6413824,\n",
       " \"b'49a9f915b5'\": 0.6396617,\n",
       " \"b'9f943715a3'\": 0.6361379,\n",
       " \"b'19e9799800'\": 0.6309099}"
      ]
     },
     "execution_count": 88,
     "metadata": {},
     "output_type": "execute_result"
    }
   ],
   "source": [
    "# send a user to get recommendations from\n",
    "USER_ID = \"82216a2c7d\"\n",
    "\n",
    "url = 'http://localhost:3000/recommender'\n",
    "event_data = {'user_id': USER_ID}\n",
    "\n",
    "r = requests.post(url, json=event_data)\n",
    "print(r)\n",
    "\n",
    "# returns a ranked key:value pair of content_id: predicted_engaged_pct of top 10 recommendations\n",
    "json.loads(json.loads(r.text))"
   ]
  },
  {
   "cell_type": "markdown",
   "id": "7ddf7f29-3444-49e2-8fc6-37e3a2685b11",
   "metadata": {},
   "source": [
    "# Dev - Initial Model Loading - Dev"
   ]
  },
  {
   "cell_type": "code",
   "execution_count": 87,
   "id": "59133b62-da00-4d9a-8f6d-cd802ebc136b",
   "metadata": {},
   "outputs": [
    {
     "name": "stdout",
     "output_type": "stream",
     "text": [
      "\n",
      "Recommendations: [[b'49a9f915b5' b'a533f2f57a' b'20b0745a31' b'487d868f96' b'19e9799800'\n",
      "  b'a1671b9953' b'9f943715a3' b'25ad9f4d85' b'd7dad09669' b'73e16a0447']]\n",
      "\n",
      "content from retrieval (unsorted content_ids):  tf.Tensor(\n",
      "[b'49a9f915b5' b'a533f2f57a' b'20b0745a31' b'487d868f96' b'19e9799800'\n",
      " b'a1671b9953' b'9f943715a3' b'25ad9f4d85' b'd7dad09669' b'73e16a0447'], shape=(10,), dtype=string)\n",
      "----------------\n",
      "Ranked Content\n",
      "Ratings for user 82216a2c7d:\n",
      "content_id | score\n",
      "b'73e16a0447': [[0.36834288]]\n",
      "b'a1671b9953': [[0.367317]]\n",
      "b'487d868f96': [[0.36708573]]\n",
      "b'd7dad09669': [[0.36350384]]\n",
      "b'25ad9f4d85': [[0.35258558]]\n",
      "b'a533f2f57a': [[0.3521912]]\n",
      "b'49a9f915b5': [[0.3467191]]\n",
      "b'19e9799800': [[0.33223924]]\n",
      "b'20b0745a31': [[0.3312234]]\n",
      "b'9f943715a3': [[0.32872432]]\n"
     ]
    },
    {
     "data": {
      "text/plain": [
       "{\"b'73e16a0447'\": 0.36834288,\n",
       " \"b'a1671b9953'\": 0.367317,\n",
       " \"b'487d868f96'\": 0.36708573,\n",
       " \"b'd7dad09669'\": 0.36350384,\n",
       " \"b'25ad9f4d85'\": 0.35258558,\n",
       " \"b'a533f2f57a'\": 0.3521912,\n",
       " \"b'49a9f915b5'\": 0.3467191,\n",
       " \"b'19e9799800'\": 0.33223924,\n",
       " \"b'20b0745a31'\": 0.3312234,\n",
       " \"b'9f943715a3'\": 0.32872432}"
      ]
     },
     "execution_count": 87,
     "metadata": {},
     "output_type": "execute_result"
    }
   ],
   "source": [
    " # Load Retrieval; can also be done in TensorFlow Serving.\n",
    "    \n",
    "cwd = os.getcwd()\n",
    "print()\n",
    "retrieval_path = os.path.join(cwd, \"retrieval_model\")\n",
    "loaded_retrieval = tf.saved_model.load(retrieval_path)\n",
    "\n",
    "# Pass a user id in, get top predicted movie titles back.\n",
    "_ , content_ids_recommended = loaded_retrieval([USER_ID])\n",
    "\n",
    "print(f\"Recommendations: {content_ids_recommended}\")\n",
    "\n",
    "cwd = os.getcwd()\n",
    "print()\n",
    "ranking_path = os.path.join(cwd, \"ranking_model\")\n",
    "\n",
    "\n",
    "loaded_ranking = tf.saved_model.load(ranking_path)\n",
    "\n",
    "final_ratings = {}\n",
    "\n",
    "content_ids_from_retrieval = content_ids_recommended[0]\n",
    "\n",
    "print(\"content from retrieval (unsorted content_ids): \", content_ids_from_retrieval)\n",
    "\n",
    "for content_id in content_ids_from_retrieval:\n",
    "    content_id = content_id.numpy()\n",
    "    final_ratings[content_id] = loaded_ranking(\n",
    "        # user | content_id\n",
    "        {\"user_id\": np.array([f\"{USER_ID}\"]), \"content_id\": np.array([content_id])}\n",
    "    )\n",
    "\n",
    "print(\"----------------\")\n",
    "print(\"Ranked Content\")\n",
    "print(f\"Ratings for user {USER_ID}:\")\n",
    "print(\"content_id | score\")\n",
    "\n",
    "api_return = {}\n",
    "for content_id, score in sorted(\n",
    "    final_ratings.items(), key=lambda x: x[1], reverse=True\n",
    "):\n",
    "    print(f\"{content_id}: {score}\")\n",
    "    api_return[f'{content_id}'] = score.numpy()[0][0]\n",
    "\n",
    "    \n",
    "api_return   "
   ]
  },
  {
   "cell_type": "code",
   "execution_count": 11,
   "id": "478c5a44-b1ac-493b-8b25-8e36a0f40bc6",
   "metadata": {},
   "outputs": [
    {
     "name": "stdout",
     "output_type": "stream",
     "text": [
      "\n"
     ]
    }
   ],
   "source": []
  }
 ],
 "metadata": {
  "kernelspec": {
   "display_name": "Python 3",
   "language": "python",
   "name": "python3"
  },
  "language_info": {
   "codemirror_mode": {
    "name": "ipython",
    "version": 3
   },
   "file_extension": ".py",
   "mimetype": "text/x-python",
   "name": "python",
   "nbconvert_exporter": "python",
   "pygments_lexer": "ipython3",
   "version": "3.8.8"
  }
 },
 "nbformat": 4,
 "nbformat_minor": 5
}
