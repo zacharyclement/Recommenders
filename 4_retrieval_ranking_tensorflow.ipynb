{
 "cells": [
  {
   "cell_type": "code",
   "execution_count": 92,
   "id": "0cecda41-786d-48b8-ab43-d0591fb8fce5",
   "metadata": {},
   "outputs": [],
   "source": [
    "import datetime\n",
    "import os\n",
    "import pprint\n",
    "import tempfile\n",
    "from typing import Dict, Text\n",
    "import matplotlib.pyplot as plt\n",
    "\n",
    "import mlflow\n",
    "import numpy as np\n",
    "import pandas as pd\n",
    "import seaborn as sns\n",
    "import surprise\n",
    "import tensorflow as tf\n",
    "import tensorflow_recommenders as tfrs\n",
    "\n",
    "import tensorflow_datasets as tfds"
   ]
  },
  {
   "cell_type": "markdown",
   "id": "60231b17-25b0-4c01-8904-d6990c5fc2e1",
   "metadata": {},
   "source": [
    "# Load Data"
   ]
  },
  {
   "cell_type": "code",
   "execution_count": 111,
   "id": "29ff594c-5756-4555-8a58-c4f45a5d34d7",
   "metadata": {},
   "outputs": [],
   "source": [
    "df_ratings = pd.read_csv(\"ratings.csv\")\n",
    "df_content = pd.read_csv(\"content.csv\")"
   ]
  },
  {
   "cell_type": "code",
   "execution_count": 112,
   "id": "34424cf6-0939-4fa4-be86-027e2964d8d0",
   "metadata": {},
   "outputs": [
    {
     "data": {
      "text/html": [
       "<div>\n",
       "<style scoped>\n",
       "    .dataframe tbody tr th:only-of-type {\n",
       "        vertical-align: middle;\n",
       "    }\n",
       "\n",
       "    .dataframe tbody tr th {\n",
       "        vertical-align: top;\n",
       "    }\n",
       "\n",
       "    .dataframe thead th {\n",
       "        text-align: right;\n",
       "    }\n",
       "</style>\n",
       "<table border=\"1\" class=\"dataframe\">\n",
       "  <thead>\n",
       "    <tr style=\"text-align: right;\">\n",
       "      <th></th>\n",
       "      <th>user_id</th>\n",
       "      <th>content_id</th>\n",
       "      <th>count</th>\n",
       "      <th>engaged_pct</th>\n",
       "    </tr>\n",
       "  </thead>\n",
       "  <tbody>\n",
       "    <tr>\n",
       "      <th>0</th>\n",
       "      <td>000a544834</td>\n",
       "      <td>5c7ee2dd80</td>\n",
       "      <td>1</td>\n",
       "      <td>0.500000</td>\n",
       "    </tr>\n",
       "    <tr>\n",
       "      <th>1</th>\n",
       "      <td>000a544834</td>\n",
       "      <td>f8e78525fc</td>\n",
       "      <td>1</td>\n",
       "      <td>0.333333</td>\n",
       "    </tr>\n",
       "    <tr>\n",
       "      <th>2</th>\n",
       "      <td>000d2a6006</td>\n",
       "      <td>03bc268791</td>\n",
       "      <td>1</td>\n",
       "      <td>0.333333</td>\n",
       "    </tr>\n",
       "    <tr>\n",
       "      <th>3</th>\n",
       "      <td>000d2a6006</td>\n",
       "      <td>0b3e27a1d1</td>\n",
       "      <td>1</td>\n",
       "      <td>0.333333</td>\n",
       "    </tr>\n",
       "    <tr>\n",
       "      <th>4</th>\n",
       "      <td>000d2a6006</td>\n",
       "      <td>1d39c1c449</td>\n",
       "      <td>3</td>\n",
       "      <td>0.750000</td>\n",
       "    </tr>\n",
       "    <tr>\n",
       "      <th>...</th>\n",
       "      <td>...</td>\n",
       "      <td>...</td>\n",
       "      <td>...</td>\n",
       "      <td>...</td>\n",
       "    </tr>\n",
       "    <tr>\n",
       "      <th>120237</th>\n",
       "      <td>fff07ebc97</td>\n",
       "      <td>5df80dbcc0</td>\n",
       "      <td>2</td>\n",
       "      <td>0.500000</td>\n",
       "    </tr>\n",
       "    <tr>\n",
       "      <th>120238</th>\n",
       "      <td>fff07ebc97</td>\n",
       "      <td>bed9cfbff5</td>\n",
       "      <td>2</td>\n",
       "      <td>0.500000</td>\n",
       "    </tr>\n",
       "    <tr>\n",
       "      <th>120239</th>\n",
       "      <td>fff5c815f7</td>\n",
       "      <td>1c64591529</td>\n",
       "      <td>1</td>\n",
       "      <td>1.000000</td>\n",
       "    </tr>\n",
       "    <tr>\n",
       "      <th>120240</th>\n",
       "      <td>fff5c815f7</td>\n",
       "      <td>7e36cdfc2c</td>\n",
       "      <td>2</td>\n",
       "      <td>0.666667</td>\n",
       "    </tr>\n",
       "    <tr>\n",
       "      <th>120241</th>\n",
       "      <td>fff5c815f7</td>\n",
       "      <td>b2f77c9143</td>\n",
       "      <td>2</td>\n",
       "      <td>0.666667</td>\n",
       "    </tr>\n",
       "  </tbody>\n",
       "</table>\n",
       "<p>120242 rows × 4 columns</p>\n",
       "</div>"
      ],
      "text/plain": [
       "           user_id  content_id  count  engaged_pct\n",
       "0       000a544834  5c7ee2dd80      1     0.500000\n",
       "1       000a544834  f8e78525fc      1     0.333333\n",
       "2       000d2a6006  03bc268791      1     0.333333\n",
       "3       000d2a6006  0b3e27a1d1      1     0.333333\n",
       "4       000d2a6006  1d39c1c449      3     0.750000\n",
       "...            ...         ...    ...          ...\n",
       "120237  fff07ebc97  5df80dbcc0      2     0.500000\n",
       "120238  fff07ebc97  bed9cfbff5      2     0.500000\n",
       "120239  fff5c815f7  1c64591529      1     1.000000\n",
       "120240  fff5c815f7  7e36cdfc2c      2     0.666667\n",
       "120241  fff5c815f7  b2f77c9143      2     0.666667\n",
       "\n",
       "[120242 rows x 4 columns]"
      ]
     },
     "execution_count": 112,
     "metadata": {},
     "output_type": "execute_result"
    }
   ],
   "source": [
    "df_ratings"
   ]
  },
  {
   "cell_type": "code",
   "execution_count": 113,
   "id": "7602aea3-e0df-49b1-88e4-50ffbee054e7",
   "metadata": {},
   "outputs": [
    {
     "data": {
      "text/html": [
       "<div>\n",
       "<style scoped>\n",
       "    .dataframe tbody tr th:only-of-type {\n",
       "        vertical-align: middle;\n",
       "    }\n",
       "\n",
       "    .dataframe tbody tr th {\n",
       "        vertical-align: top;\n",
       "    }\n",
       "\n",
       "    .dataframe thead th {\n",
       "        text-align: right;\n",
       "    }\n",
       "</style>\n",
       "<table border=\"1\" class=\"dataframe\">\n",
       "  <thead>\n",
       "    <tr style=\"text-align: right;\">\n",
       "      <th></th>\n",
       "      <th>content_id</th>\n",
       "    </tr>\n",
       "  </thead>\n",
       "  <tbody>\n",
       "    <tr>\n",
       "      <th>0</th>\n",
       "      <td>f260f3f3ce</td>\n",
       "    </tr>\n",
       "    <tr>\n",
       "      <th>1</th>\n",
       "      <td>bce874342a</td>\n",
       "    </tr>\n",
       "    <tr>\n",
       "      <th>2</th>\n",
       "      <td>bbf2753b99</td>\n",
       "    </tr>\n",
       "    <tr>\n",
       "      <th>3</th>\n",
       "      <td>a9b6c93c3a</td>\n",
       "    </tr>\n",
       "    <tr>\n",
       "      <th>4</th>\n",
       "      <td>0c93cc1338</td>\n",
       "    </tr>\n",
       "    <tr>\n",
       "      <th>...</th>\n",
       "      <td>...</td>\n",
       "    </tr>\n",
       "    <tr>\n",
       "      <th>578</th>\n",
       "      <td>2ca0fce09f</td>\n",
       "    </tr>\n",
       "    <tr>\n",
       "      <th>579</th>\n",
       "      <td>5c57c25574</td>\n",
       "    </tr>\n",
       "    <tr>\n",
       "      <th>580</th>\n",
       "      <td>58bb410bc8</td>\n",
       "    </tr>\n",
       "    <tr>\n",
       "      <th>581</th>\n",
       "      <td>a842a97d1a</td>\n",
       "    </tr>\n",
       "    <tr>\n",
       "      <th>582</th>\n",
       "      <td>2ce01b7f37</td>\n",
       "    </tr>\n",
       "  </tbody>\n",
       "</table>\n",
       "<p>583 rows × 1 columns</p>\n",
       "</div>"
      ],
      "text/plain": [
       "     content_id\n",
       "0    f260f3f3ce\n",
       "1    bce874342a\n",
       "2    bbf2753b99\n",
       "3    a9b6c93c3a\n",
       "4    0c93cc1338\n",
       "..          ...\n",
       "578  2ca0fce09f\n",
       "579  5c57c25574\n",
       "580  58bb410bc8\n",
       "581  a842a97d1a\n",
       "582  2ce01b7f37\n",
       "\n",
       "[583 rows x 1 columns]"
      ]
     },
     "execution_count": 113,
     "metadata": {},
     "output_type": "execute_result"
    }
   ],
   "source": [
    "df_content"
   ]
  },
  {
   "cell_type": "markdown",
   "id": "0040940c-fdd0-4a3b-a153-6e26ca0be370",
   "metadata": {},
   "source": [
    "# Modeling\n",
    "Implement both retrieval and ranking models. Track with MlFlow. This system is for: user -> item. Generally calculated using a dot product for matrix factorization. Item -> item is usualy on a product page to recommend similar products. Can get item to item using cosine similarity measure.  Optimizing for a single objective (multi object is avaailable - ratings and clicks)\n",
    "\n",
    "<strong>Retrieval</strong> - two tower - https://blog.tensorflow.org/2020/09/introducing-tensorflow-recommenders.html\n",
    "takes a user id and returns a subset of good candidates. Oversimplies model to implicit (engaged implicit +, viewed implicit -). The oversimplification speeds up the model.\n",
    "\n",
    "<strong>ranking</strong> - https://www.tensorflow.org/recommenders/examples/basic_ranking\n",
    "takes ad user id and a subset of good candidates and returns the best candidate. Here we use engagement pct as a proxy for an explicit rating. ranking is inherently expensive, so we want to only rank a small subset of possibilities."
   ]
  },
  {
   "cell_type": "markdown",
   "id": "aa61b7eb-5bc0-45fe-a6e1-282f7ef01ccb",
   "metadata": {},
   "source": [
    "## Load data into TensorFlow"
   ]
  },
  {
   "cell_type": "code",
   "execution_count": 5,
   "id": "d5d472f7-b412-41d5-bdd3-af1ec2eef93b",
   "metadata": {},
   "outputs": [],
   "source": [
    "# mlflow autolog not working with this model\n",
    "# mlflow.tensorflow.autolog() #keras autolog is deprecated"
   ]
  },
  {
   "cell_type": "code",
   "execution_count": 110,
   "id": "6a9537bf-98eb-4abf-a437-0f2f7e887b50",
   "metadata": {},
   "outputs": [
    {
     "name": "stdout",
     "output_type": "stream",
     "text": [
      "ratings:  {'user_id': TensorSpec(shape=(), dtype=tf.string, name=None), 'content_id': TensorSpec(shape=(), dtype=tf.string, name=None), 'engaged_pct': TensorSpec(shape=(), dtype=tf.float64, name=None)}\n",
      "content:  {'content_id': TensorSpec(shape=(), dtype=tf.string, name=None)}\n"
     ]
    }
   ],
   "source": [
    "# global variables used in getting predictions\n",
    "USER_ID = \"82216a2c7d\"\n",
    "CONTENT_ID = \"49a9f915b5\"\n",
    "\n",
    "ratings_raw = tf.data.Dataset.from_tensor_slices(\n",
    "    dict(df_ratings[[\"user_id\", \"content_id\"]])\n",
    ")\n",
    "\n",
    "ratings_raw = tf.data.Dataset.from_tensor_slices(\n",
    "    dict(df_ratings[[\"user_id\", \"content_id\", \"engaged_pct\"]])\n",
    ")\n",
    "content_raw = tf.data.Dataset.from_tensor_slices(dict(df_content[[\"content_id\"]]))\n",
    "#print(\"implicit: \", ratings_raw.element_spec)\n",
    "print(\"ratings: \", ratings_raw.element_spec)\n",
    "print(\"content: \", content_raw.element_spec)"
   ]
  },
  {
   "cell_type": "markdown",
   "id": "1fb00de3-862b-49c7-be7b-4efaba98bc50",
   "metadata": {},
   "source": [
    "## Retrieval"
   ]
  },
  {
   "cell_type": "code",
   "execution_count": 115,
   "id": "322cca22-dbd5-49dd-a447-3297f3bbf418",
   "metadata": {},
   "outputs": [
    {
     "name": "stdout",
     "output_type": "stream",
     "text": [
      "users_content length:  120242\n",
      "content length:  583\n"
     ]
    }
   ],
   "source": [
    "# map data\n",
    "ratings_retrieval = ratings_raw.map(\n",
    "    lambda x: {\"user_id\": x[\"user_id\"], \"content_id\": x[\"content_id\"]}\n",
    ")\n",
    "\n",
    "content_retrieval = content_raw.map(lambda x: x[\"content_id\"])\n",
    "\n",
    "print(\"users_content length: \", len(ratings_retrieval))\n",
    "print(\"content length: \", len(content_retrieval))"
   ]
  },
  {
   "cell_type": "code",
   "execution_count": 116,
   "id": "9f091eba-0378-421f-bd8f-ab60d12417fa",
   "metadata": {},
   "outputs": [
    {
     "name": "stdout",
     "output_type": "stream",
     "text": [
      "length of shuffled:  120242\n",
      "training set size:  90181\n",
      "test set size:  30061\n"
     ]
    }
   ],
   "source": [
    "# Ratings: Shuffle and split into train and test\n",
    "\n",
    "tf.random.set_seed(42)\n",
    "shuffled_ratings = ratings_retrieval.shuffle(\n",
    "    buffer_size=1_000, seed=42, reshuffle_each_iteration=False\n",
    ")\n",
    "print(\"length of shuffled: \", len(shuffled_ratings))\n",
    "\n",
    "to_take_ratings = int(len(shuffled_ratings) * 0.75)\n",
    "remaining_ratings = int(len(shuffled_ratings) - to_take_ratings)\n",
    "\n",
    "print(\"training set size: \", to_take_ratings)\n",
    "print(\"test set size: \", remaining_ratings)\n",
    "\n",
    "train_retrieval = shuffled_ratings.take(to_take_ratings)\n",
    "test_retrieval = shuffled_ratings.skip(to_take_ratings).take(remaining_ratings)"
   ]
  },
  {
   "cell_type": "code",
   "execution_count": 117,
   "id": "b011bc52-bb1e-47fb-81c7-7368b5596315",
   "metadata": {},
   "outputs": [
    {
     "name": "stdout",
     "output_type": "stream",
     "text": [
      "number of unique titles:  583\n",
      "number of unique users:  7066\n"
     ]
    },
    {
     "data": {
      "text/plain": [
       "array([b'00733d9430', b'008c372b81', b'01af663e58', b'024775977e',\n",
       "       b'02538907fb'], dtype=object)"
      ]
     },
     "execution_count": 117,
     "metadata": {},
     "output_type": "execute_result"
    }
   ],
   "source": [
    "# get uniques\n",
    "\n",
    "content_ids_retrieval = content_retrieval.batch(1_000)\n",
    "user_ids_retrieval = ratings_retrieval.batch(1_000).map(lambda x: x[\"user_id\"])\n",
    "\n",
    "unique_content_ids_retrieval = np.unique(np.concatenate(list(content_ids_retrieval)))\n",
    "unique_user_ids_retrieval = np.unique(np.concatenate(list(user_ids_retrieval)))\n",
    "\n",
    "print(\"number of unique titles: \", len(unique_content_ids_retrieval))\n",
    "print(\"number of unique users: \", len(unique_user_ids_retrieval))\n",
    "\n",
    "# look at top 10\n",
    "unique_content_ids_retrieval[:5]"
   ]
  },
  {
   "cell_type": "markdown",
   "id": "999d7a6e-8f1f-498c-bcbb-0041de1622bd",
   "metadata": {},
   "source": [
    "### Define Model"
   ]
  },
  {
   "cell_type": "code",
   "execution_count": 118,
   "id": "b8c7760f-fe19-4596-8bf3-4c6d788c4506",
   "metadata": {},
   "outputs": [],
   "source": [
    "# latent variables\n",
    "embedding_dimension = 32"
   ]
  },
  {
   "cell_type": "code",
   "execution_count": 119,
   "id": "abb79cc5-0b87-4c31-993b-28725b1716bc",
   "metadata": {},
   "outputs": [],
   "source": [
    "user_retrieval_model = tf.keras.Sequential(\n",
    "    [\n",
    "        tf.keras.layers.StringLookup(\n",
    "            vocabulary=unique_user_ids_retrieval, mask_token=None\n",
    "        ),\n",
    "        tf.keras.layers.Embedding(\n",
    "            len(unique_user_ids_retrieval) + 1, embedding_dimension\n",
    "        ),\n",
    "    ]\n",
    ")"
   ]
  },
  {
   "cell_type": "code",
   "execution_count": 120,
   "id": "8bf2cc92-f0f9-42fe-8627-6ec9c6bb72a9",
   "metadata": {},
   "outputs": [],
   "source": [
    "content_retrieval_model = tf.keras.Sequential(\n",
    "    [\n",
    "        tf.keras.layers.StringLookup(\n",
    "            vocabulary=unique_content_ids_retrieval, mask_token=None\n",
    "        ),\n",
    "        tf.keras.layers.Embedding(\n",
    "            len(unique_content_ids_retrieval) + 1, embedding_dimension\n",
    "        ),\n",
    "    ]\n",
    ")\n",
    "\n",
    "#k = the number of top scoring candidates to retrieve for metric evaluation. \n",
    "metrics = tfrs.metrics.FactorizedTopK(\n",
    "    candidates=content_retrieval.batch(128).map(content_retrieval_model), k = 100\n",
    ")\n",
    "TASK_RETRIEVAL = tfrs.tasks.Retrieval(metrics=metrics)"
   ]
  },
  {
   "cell_type": "code",
   "execution_count": 121,
   "id": "7a5746ba-cd5f-4a6c-b064-d3cd29d61424",
   "metadata": {},
   "outputs": [],
   "source": [
    "# defined as the dot product between user and item embeddings. corresponds to matrix factorization.\n",
    "\n",
    "\n",
    "class RetrievalModel(tfrs.Model):\n",
    "    def __init__(self, user_model, content_model):\n",
    "        super().__init__()\n",
    "        self.content_model: tf.keras.Model = content_model\n",
    "        self.user_model: tf.keras.Model = user_model\n",
    "        self.task: tf.keras.layers.Layer = TASK_RETRIEVAL\n",
    "\n",
    "    def compute_loss(\n",
    "        self, features: Dict[Text, tf.Tensor], training=False\n",
    "    ) -> tf.Tensor:\n",
    "        # We pick out the user features and pass them into the user model.\n",
    "        user_embeddings = self.user_model(features[\"user_id\"])\n",
    "\n",
    "        # And pick out the content features and pass them into the coontent model,\n",
    "        # getting embeddings back.\n",
    "        positive_content_embeddings = self.content_model(features[\"content_id\"])\n",
    "\n",
    "        # The task computes the loss and the metrics.\n",
    "        return self.task(user_embeddings, positive_content_embeddings)"
   ]
  },
  {
   "cell_type": "markdown",
   "id": "50ec2df7-9b4f-486b-9d6c-484a45ebfb6f",
   "metadata": {},
   "source": [
    "### Fit and Evaluate"
   ]
  },
  {
   "cell_type": "code",
   "execution_count": 122,
   "id": "fcee5b31-1b12-47f0-a377-0477cf3ca8eb",
   "metadata": {},
   "outputs": [],
   "source": [
    "model_retrieval = RetrievalModel(user_retrieval_model, content_retrieval_model)\n",
    "model_retrieval.compile(optimizer=tf.keras.optimizers.Adagrad(learning_rate=0.1))"
   ]
  },
  {
   "cell_type": "code",
   "execution_count": 123,
   "id": "30728057-437d-4fd8-9803-646440581aed",
   "metadata": {},
   "outputs": [],
   "source": [
    "cached_train_retrieval = (\n",
    "    train_retrieval.shuffle(buffer_size=100_000).batch(8192).cache()\n",
    ")\n",
    "cached_test_retrieval = test_retrieval.batch(4096).cache()"
   ]
  },
  {
   "cell_type": "code",
   "execution_count": 124,
   "id": "7bc7b195-dd75-4708-9d2f-a26f6511b2f0",
   "metadata": {},
   "outputs": [
    {
     "data": {
      "text/plain": [
       "{'user_id': TensorSpec(shape=(None,), dtype=tf.string, name=None),\n",
       " 'content_id': TensorSpec(shape=(None,), dtype=tf.string, name=None)}"
      ]
     },
     "execution_count": 124,
     "metadata": {},
     "output_type": "execute_result"
    }
   ],
   "source": [
    "# need shapes for mlflow\n",
    "cached_train_retrieval.element_spec"
   ]
  },
  {
   "cell_type": "code",
   "execution_count": 125,
   "id": "fd15be9e-8e12-4afd-90d6-1a8cc2843c89",
   "metadata": {},
   "outputs": [
    {
     "name": "stdout",
     "output_type": "stream",
     "text": [
      "Epoch 1/5\n",
      "12/12 [==============================] - 11s 728ms/step - factorized_top_k/top_1_categorical_accuracy: 0.0070 - factorized_top_k/top_5_categorical_accuracy: 0.0512 - factorized_top_k/top_10_categorical_accuracy: 0.1078 - factorized_top_k/top_50_categorical_accuracy: 0.4212 - factorized_top_k/top_100_categorical_accuracy: 0.6182 - loss: 59708.5000 - regularization_loss: 0.0000e+00 - total_loss: 59708.5000\n",
      "Epoch 2/5\n",
      "12/12 [==============================] - 7s 585ms/step - factorized_top_k/top_1_categorical_accuracy: 0.0159 - factorized_top_k/top_5_categorical_accuracy: 0.1035 - factorized_top_k/top_10_categorical_accuracy: 0.1975 - factorized_top_k/top_50_categorical_accuracy: 0.6368 - factorized_top_k/top_100_categorical_accuracy: 0.8893 - loss: 52319.5563 - regularization_loss: 0.0000e+00 - total_loss: 52319.5563\n",
      "Epoch 3/5\n",
      "12/12 [==============================] - 7s 579ms/step - factorized_top_k/top_1_categorical_accuracy: 0.0217 - factorized_top_k/top_5_categorical_accuracy: 0.1357 - factorized_top_k/top_10_categorical_accuracy: 0.2476 - factorized_top_k/top_50_categorical_accuracy: 0.6921 - factorized_top_k/top_100_categorical_accuracy: 0.9152 - loss: 50625.3631 - regularization_loss: 0.0000e+00 - total_loss: 50625.3631\n",
      "Epoch 4/5\n",
      "12/12 [==============================] - 8s 630ms/step - factorized_top_k/top_1_categorical_accuracy: 0.0244 - factorized_top_k/top_5_categorical_accuracy: 0.1537 - factorized_top_k/top_10_categorical_accuracy: 0.2730 - factorized_top_k/top_50_categorical_accuracy: 0.7304 - factorized_top_k/top_100_categorical_accuracy: 0.9308 - loss: 49760.6081 - regularization_loss: 0.0000e+00 - total_loss: 49760.6081\n",
      "Epoch 5/5\n",
      "12/12 [==============================] - 7s 570ms/step - factorized_top_k/top_1_categorical_accuracy: 0.0271 - factorized_top_k/top_5_categorical_accuracy: 0.1646 - factorized_top_k/top_10_categorical_accuracy: 0.2911 - factorized_top_k/top_50_categorical_accuracy: 0.7545 - factorized_top_k/top_100_categorical_accuracy: 0.9411 - loss: 49149.1974 - regularization_loss: 0.0000e+00 - total_loss: 49149.1974\n"
     ]
    }
   ],
   "source": [
    "log_dir = \"logs/fit/\" + datetime.datetime.now().strftime(\"%Y%m%d-%H%M%S\")\n",
    "tensorboard_callback = tf.keras.callbacks.TensorBoard(log_dir=log_dir, histogram_freq=1)\n",
    "\n",
    "fitted = model_retrieval.fit(cached_train_retrieval, epochs=5, callbacks=[tensorboard_callback])"
   ]
  },
  {
   "cell_type": "code",
   "execution_count": 126,
   "id": "7784dba2-8096-40a7-806f-f3769a6954ec",
   "metadata": {},
   "outputs": [
    {
     "name": "stdout",
     "output_type": "stream",
     "text": [
      "8/8 [==============================] - 3s 248ms/step - factorized_top_k/top_1_categorical_accuracy: 0.0014 - factorized_top_k/top_5_categorical_accuracy: 0.0106 - factorized_top_k/top_10_categorical_accuracy: 0.0236 - factorized_top_k/top_50_categorical_accuracy: 0.1042 - factorized_top_k/top_100_categorical_accuracy: 0.1933 - loss: 28590.3835 - regularization_loss: 0.0000e+00 - total_loss: 28590.3835\n"
     ]
    },
    {
     "data": {
      "text/plain": [
       "{'factorized_top_k/top_1_categorical_accuracy': 0.0013971590669825673,\n",
       " 'factorized_top_k/top_5_categorical_accuracy': 0.010611755773425102,\n",
       " 'factorized_top_k/top_10_categorical_accuracy': 0.023585377261042595,\n",
       " 'factorized_top_k/top_50_categorical_accuracy': 0.10418815165758133,\n",
       " 'factorized_top_k/top_100_categorical_accuracy': 0.1933402121067047,\n",
       " 'loss': 10040.7841796875,\n",
       " 'regularization_loss': 0,\n",
       " 'total_loss': 10040.7841796875}"
      ]
     },
     "execution_count": 126,
     "metadata": {},
     "output_type": "execute_result"
    }
   ],
   "source": [
    "model_retrieval.evaluate(cached_test_retrieval, return_dict=True)"
   ]
  },
  {
   "cell_type": "markdown",
   "id": "fd03d502-9c01-4980-be21-a542a3c1665b",
   "metadata": {},
   "source": [
    "Test set performance is much worse than training performance. This is due to two factors:\n",
    "* Our model is likely to perform better on the data that it has seen, simply because it can memorize it. This overfitting phenomenon is especially strong when models have many parameters. It can be mediated by model regularization and use of user and content features that help the model generalize better to unseen data.\n",
    "* The model is re-recommending some of users' already seen content. These known-positives can crowd test content out of top K recommendations. This can be address by excluding previously seen content from test recommendations. This approach is relatively common in the recommender systems literature, but wasn't implemented here. If not recommending past content is important, we should expect appropriately specified models to learn this behaviour automatically from past user history and contextual information. Additionally, it is often appropriate to recommend the same item multiple times."
   ]
  },
  {
   "cell_type": "code",
   "execution_count": 127,
   "id": "8edb662a-7345-414c-a261-9656c2f39426",
   "metadata": {},
   "outputs": [
    {
     "data": {
      "text/plain": [
       "<matplotlib.legend.Legend at 0x7fa3a9343310>"
      ]
     },
     "execution_count": 127,
     "metadata": {},
     "output_type": "execute_result"
    },
    {
     "data": {
      "image/png": "[encoded data removed]",
      "text/plain": [
       "<Figure size 432x288 with 1 Axes>"
      ]
     },
     "metadata": {
      "needs_background": "light"
     },
     "output_type": "display_data"
    }
   ],
   "source": [
    "# look at accuracy changing by epoch\n",
    "num_validation_runs = len(fitted.history[\"factorized_top_k/top_100_categorical_accuracy\"])\n",
    "epochs = [(x + 1) for x in range(num_validation_runs)]\n",
    "\n",
    "#plt.plot(epochs, fitted.history[\"factorized_top_k/top_1_categorical_accuracy\"], label=\"top 1\")\n",
    "#plt.plot(epochs, fitted.history[\"factorized_top_k/top_10_categorical_accuracy\"], label=\"top 10\")\n",
    "plt.plot(epochs, fitted.history[\"factorized_top_k/top_100_categorical_accuracy\"], label=\"top 100\")\n",
    "plt.title(\"Accuracy vs epoch\")\n",
    "plt.xlabel(\"epoch\")\n",
    "plt.ylabel(\"Top-100 accuracy\");\n",
    "plt.legend()"
   ]
  },
  {
   "cell_type": "markdown",
   "id": "0ae3ec77-b65d-4b8e-a526-b11b9b00cb1a",
   "metadata": {},
   "source": [
    "### Get Content Recommendations - Brute Force\n",
    "The most straightforward way of retrieving top candidates in response to a query is to do it via brute force: compute user-movie scores for all possible movies, sort them, and pick a couple of top recommendations.\n",
    "\n",
    "As the number of candidate grows, the amount of time needed grows linearly: with 10 million candidates, serving top candidates would take 250 milliseconds. This is clearly too slow for a live service. This is where approximate mechanisms come in. We can use ScaNN in TFRS to accomplish this via the tfrs.layers.factorized_top_k.ScaNN layer."
   ]
  },
  {
   "cell_type": "code",
   "execution_count": 128,
   "id": "42014d1b-847a-49c8-8541-e973c5ac658b",
   "metadata": {},
   "outputs": [
    {
     "name": "stdout",
     "output_type": "stream",
     "text": [
      "content_id recommendations for user 82216a2c7d: [b'49a9f915b5' b'20b0745a31' b'a533f2f57a' b'a1671b9953' b'73e16a0447']\n"
     ]
    }
   ],
   "source": [
    "# Create BruteForce model that takes in raw user_id features, and\n",
    "brute_force_index = tfrs.layers.factorized_top_k.BruteForce(model_retrieval.user_model)\n",
    "\n",
    "# recommends content out of the entire content dataset.\n",
    "brute_force_index.index_from_dataset(\n",
    "    tf.data.Dataset.zip(\n",
    "        (\n",
    "            content_retrieval.batch(100),\n",
    "            content_retrieval.batch(100).map(model_retrieval.content_model),\n",
    "        )\n",
    "    )\n",
    ")\n",
    "\n",
    "# Get recommendations for:\n",
    "_, content_ids_recommended = brute_force_index(tf.constant([USER_ID]))\n",
    "print(\n",
    "    f\"content_id recommendations for user {USER_ID}: {content_ids_recommended[0, :5]}\"\n",
    ")"
   ]
  },
  {
   "cell_type": "markdown",
   "id": "18a4a447-54b6-4411-b89f-0486e2dbd704",
   "metadata": {},
   "source": [
    "### Create Retrieval Model Artifact"
   ]
  },
  {
   "cell_type": "code",
   "execution_count": 129,
   "id": "75eb25cc-01f4-4566-a333-e0250ad3e672",
   "metadata": {},
   "outputs": [
    {
     "name": "stdout",
     "output_type": "stream",
     "text": [
      "/Users/zach/Documents/GitHub/Recommenders\n"
     ]
    },
    {
     "name": "stderr",
     "output_type": "stream",
     "text": [
      "WARNING:absl:Found untraced functions such as query_with_exclusions while saving (showing 1 of 1). These functions will not be directly callable after loading.\n"
     ]
    },
    {
     "name": "stdout",
     "output_type": "stream",
     "text": [
      "INFO:tensorflow:Assets written to: /Users/zach/Documents/GitHub/Recommenders/retrieval_model/assets\n"
     ]
    },
    {
     "name": "stderr",
     "output_type": "stream",
     "text": [
      "INFO:tensorflow:Assets written to: /Users/zach/Documents/GitHub/Recommenders/retrieval_model/assets\n"
     ]
    }
   ],
   "source": [
    "cwd = os.getcwd()\n",
    "print(cwd)\n",
    "path = os.path.join(cwd, \"retrieval_model\")\n",
    "tf.saved_model.save(brute_force_index, path)"
   ]
  },
  {
   "cell_type": "markdown",
   "id": "77d5637c-c338-4181-a814-9751f0556ed8",
   "metadata": {},
   "source": [
    "## Ranking\n",
    "* pointwise - candidates are considered independently of each other (currently using)\n",
    "* listwise - candidates pairs are considered, consider the ordering of the entire list\n",
    "* can use explicit feedback (engage pct) as a ranking"
   ]
  },
  {
   "cell_type": "markdown",
   "id": "bd39b05a-d35b-44f3-9295-75fb1677fe80",
   "metadata": {},
   "source": [
    "### Load Data into TensorFlow"
   ]
  },
  {
   "cell_type": "code",
   "execution_count": 130,
   "id": "2d7d846d-70f8-4909-bb49-420ffd481096",
   "metadata": {},
   "outputs": [
    {
     "data": {
      "text/plain": [
       "{'user_id': TensorSpec(shape=(), dtype=tf.string, name=None),\n",
       " 'content_id': TensorSpec(shape=(), dtype=tf.string, name=None),\n",
       " 'engaged_pct': TensorSpec(shape=(), dtype=tf.float64, name=None)}"
      ]
     },
     "execution_count": 130,
     "metadata": {},
     "output_type": "execute_result"
    }
   ],
   "source": [
    "ratings_raw.element_spec"
   ]
  },
  {
   "cell_type": "code",
   "execution_count": 131,
   "id": "3aa2b874-b2e6-41b0-b1c8-c95bc1125862",
   "metadata": {},
   "outputs": [],
   "source": [
    "# use user_rating\n",
    "ratings_ranking = ratings_raw.map(\n",
    "    lambda x: {\n",
    "        \"user_id\": x[\"user_id\"],\n",
    "        \"content_id\": x[\"content_id\"],\n",
    "        \"engaged_pct\": x[\"engaged_pct\"],\n",
    "    }\n",
    ")"
   ]
  },
  {
   "cell_type": "code",
   "execution_count": 132,
   "id": "81aff7a5-429e-4c69-8934-39047832e8c8",
   "metadata": {},
   "outputs": [
    {
     "name": "stdout",
     "output_type": "stream",
     "text": [
      "length of shuffled:  120242\n",
      "training set size:  90181\n",
      "test set size:  30061\n"
     ]
    },
    {
     "data": {
      "text/plain": [
       "{'user_id': TensorSpec(shape=(), dtype=tf.string, name=None),\n",
       " 'content_id': TensorSpec(shape=(), dtype=tf.string, name=None),\n",
       " 'engaged_pct': TensorSpec(shape=(), dtype=tf.float64, name=None)}"
      ]
     },
     "execution_count": 132,
     "metadata": {},
     "output_type": "execute_result"
    }
   ],
   "source": [
    "# suffle and train/test split\n",
    "tf.random.set_seed(42)\n",
    "shuffled_ranking = ratings_ranking.shuffle(\n",
    "    buffer_size=1_000, seed=42, reshuffle_each_iteration=False\n",
    ")\n",
    "print(\"length of shuffled: \", len(shuffled_ranking))\n",
    "\n",
    "to_take_ranking = int(len(shuffled_ranking) * 0.75)\n",
    "remaining_ranking = int(len(shuffled_ranking) - to_take_ranking)\n",
    "\n",
    "print(\"training set size: \", to_take_ranking)\n",
    "print(\"test set size: \", remaining_ranking)\n",
    "\n",
    "train_ranking = shuffled_ranking.take(to_take_ranking)\n",
    "test_ranking = shuffled_ranking.skip(to_take_ranking).take(remaining_ranking)\n",
    "\n",
    "shuffled_ranking.element_spec"
   ]
  },
  {
   "cell_type": "code",
   "execution_count": 133,
   "id": "9d0f2635-1ec3-4ea9-a751-746a8e572368",
   "metadata": {},
   "outputs": [],
   "source": [
    "# get uniques. all from ratings\n",
    "content_ids_ranking = ratings_ranking.batch(1_000_000).map(lambda x: x[\"content_id\"])\n",
    "user_ids_ranking = ratings_ranking.batch(1_000_000).map(lambda x: x[\"user_id\"])\n",
    "\n",
    "unique_content_ids_ranking = np.unique(np.concatenate(list(content_ids_ranking)))\n",
    "unique_user_ids_ranking = np.unique(np.concatenate(list(user_ids_ranking)))"
   ]
  },
  {
   "cell_type": "markdown",
   "id": "573c692e-a671-4645-a731-93a988de6dd5",
   "metadata": {},
   "source": [
    "### Define Model"
   ]
  },
  {
   "cell_type": "code",
   "execution_count": 134,
   "id": "dfeba381-b518-4125-b2a4-958b7dffd552",
   "metadata": {},
   "outputs": [],
   "source": [
    "class RankingDefinitionModel(tf.keras.Model):\n",
    "    def __init__(self):\n",
    "        super().__init__()\n",
    "        embedding_dimension = 32\n",
    "\n",
    "        # Compute embeddings for users.\n",
    "        self.user_embeddings = tf.keras.Sequential(\n",
    "            [\n",
    "                tf.keras.layers.StringLookup(\n",
    "                    vocabulary=unique_user_ids_ranking, mask_token=None\n",
    "                ),\n",
    "                tf.keras.layers.Embedding(\n",
    "                    len(unique_user_ids_ranking) + 1, embedding_dimension\n",
    "                ),\n",
    "            ]\n",
    "        )\n",
    "\n",
    "        # Compute embeddings for content_ids.\n",
    "        self.content_embeddings = tf.keras.Sequential(\n",
    "            [\n",
    "                tf.keras.layers.StringLookup(\n",
    "                    vocabulary=unique_content_ids_ranking, mask_token=None\n",
    "                ),\n",
    "                tf.keras.layers.Embedding(\n",
    "                    len(unique_content_ids_ranking) + 1, embedding_dimension\n",
    "                ),\n",
    "            ]\n",
    "        )\n",
    "\n",
    "        # Compute predictions.\n",
    "        self.ratings = tf.keras.Sequential(\n",
    "            [\n",
    "                # Learn multiple dense layers.\n",
    "                tf.keras.layers.Dense(256, activation=\"relu\"),\n",
    "                tf.keras.layers.Dense(64, activation=\"relu\"),\n",
    "                # Make rating predictions in the final layer.\n",
    "                tf.keras.layers.Dense(1),\n",
    "            ]\n",
    "        )\n",
    "\n",
    "    def call(self, inputs):\n",
    "\n",
    "        user_id, content_id = inputs\n",
    "\n",
    "        user_embedding = self.user_embeddings(user_id)\n",
    "        content_embedding = self.content_embeddings(content_id)\n",
    "\n",
    "        return self.ratings(tf.concat([user_embedding, content_embedding], axis=1))"
   ]
  },
  {
   "cell_type": "code",
   "execution_count": 135,
   "id": "2f1ac1e6-b171-4d91-a359-02403376bda1",
   "metadata": {},
   "outputs": [
    {
     "name": "stdout",
     "output_type": "stream",
     "text": [
      "WARNING:tensorflow:Layers in a Sequential model should only have a single input tensor. Received: inputs=['82216a2c7d']. Consider rewriting this model with the Functional API.\n"
     ]
    },
    {
     "name": "stderr",
     "output_type": "stream",
     "text": [
      "WARNING:tensorflow:Layers in a Sequential model should only have a single input tensor. Received: inputs=['82216a2c7d']. Consider rewriting this model with the Functional API.\n"
     ]
    },
    {
     "name": "stdout",
     "output_type": "stream",
     "text": [
      "WARNING:tensorflow:Layers in a Sequential model should only have a single input tensor. Received: inputs=['49a9f915b5']. Consider rewriting this model with the Functional API.\n"
     ]
    },
    {
     "name": "stderr",
     "output_type": "stream",
     "text": [
      "WARNING:tensorflow:Layers in a Sequential model should only have a single input tensor. Received: inputs=['49a9f915b5']. Consider rewriting this model with the Functional API.\n"
     ]
    },
    {
     "data": {
      "text/plain": [
       "<tf.Tensor: shape=(1, 1), dtype=float32, numpy=array([[0.01159916]], dtype=float32)>"
      ]
     },
     "execution_count": 135,
     "metadata": {},
     "output_type": "execute_result"
    }
   ],
   "source": [
    "# user_id, content_id\n",
    "RankingDefinitionModel()(([USER_ID], [CONTENT_ID]))"
   ]
  },
  {
   "cell_type": "code",
   "execution_count": 136,
   "id": "4c3bedc2-5b35-4f31-88e4-a4565bac3733",
   "metadata": {},
   "outputs": [],
   "source": [
    "TASK_RANKING = tfrs.tasks.Ranking(\n",
    "    loss=tf.keras.losses.MeanSquaredError(),\n",
    "    metrics=[tf.keras.metrics.RootMeanSquaredError()],\n",
    ")"
   ]
  },
  {
   "cell_type": "code",
   "execution_count": 137,
   "id": "eaa94e82-f81c-4cfb-97e8-bef1bf9edc76",
   "metadata": {},
   "outputs": [],
   "source": [
    "class RankingsModel(tfrs.models.Model):\n",
    "    def __init__(self):\n",
    "        super().__init__()\n",
    "        self.ranking_model: tf.keras.Model = RankingDefinitionModel()\n",
    "        self.task: tf.keras.layers.Layer = TASK_RANKING\n",
    "\n",
    "    def call(self, features: Dict[str, tf.Tensor]) -> tf.Tensor:\n",
    "        return self.ranking_model((features[\"user_id\"], features[\"content_id\"]))\n",
    "\n",
    "    def compute_loss(\n",
    "        self, features: Dict[Text, tf.Tensor], training=False\n",
    "    ) -> tf.Tensor:\n",
    "        labels = features.pop(\"engaged_pct\")\n",
    "\n",
    "        rating_predictions = self(features)\n",
    "\n",
    "        # The task computes the loss and the metrics.\n",
    "        return self.task(labels=labels, predictions=rating_predictions)"
   ]
  },
  {
   "cell_type": "markdown",
   "id": "20a8f97c-1c96-4861-b512-afd16c54d77c",
   "metadata": {},
   "source": [
    "### Fit and Evaluate"
   ]
  },
  {
   "cell_type": "code",
   "execution_count": 138,
   "id": "4a2b8c0d-7fc1-4a57-9a0d-64b28e7bc9a8",
   "metadata": {},
   "outputs": [],
   "source": [
    "model_ranking = RankingsModel()\n",
    "model_ranking.compile(optimizer=tf.keras.optimizers.Adagrad(learning_rate=0.1))"
   ]
  },
  {
   "cell_type": "code",
   "execution_count": 139,
   "id": "a08de44c-fe73-4c9c-b0a8-28bbf8c8cc30",
   "metadata": {},
   "outputs": [],
   "source": [
    "cached_train_ranking = train_ranking.shuffle(100_000).batch(8192).cache()\n",
    "cached_test_ranking = test_ranking.batch(4096).cache()"
   ]
  },
  {
   "cell_type": "code",
   "execution_count": 140,
   "id": "033eaf08-9802-4da1-b5e0-bbb0960522ec",
   "metadata": {},
   "outputs": [
    {
     "name": "stdout",
     "output_type": "stream",
     "text": [
      "Epoch 1/5\n",
      "12/12 [==============================] - 2s 53ms/step - root_mean_squared_error: 0.3281 - loss: 0.1021 - regularization_loss: 0.0000e+00 - total_loss: 0.1021\n",
      "Epoch 2/5\n",
      "12/12 [==============================] - 0s 20ms/step - root_mean_squared_error: 0.2487 - loss: 0.0632 - regularization_loss: 0.0000e+00 - total_loss: 0.0632\n",
      "Epoch 3/5\n",
      "12/12 [==============================] - 0s 18ms/step - root_mean_squared_error: 0.2483 - loss: 0.0629 - regularization_loss: 0.0000e+00 - total_loss: 0.0629\n",
      "Epoch 4/5\n",
      "12/12 [==============================] - 0s 19ms/step - root_mean_squared_error: 0.2480 - loss: 0.0627 - regularization_loss: 0.0000e+00 - total_loss: 0.0627\n",
      "Epoch 5/5\n",
      "12/12 [==============================] - 1s 71ms/step - root_mean_squared_error: 0.2477 - loss: 0.0624 - regularization_loss: 0.0000e+00 - total_loss: 0.0624 - val_root_mean_squared_error: 0.2515 - val_loss: 0.0615 - val_regularization_loss: 0.0000e+00 - val_total_loss: 0.0615\n"
     ]
    },
    {
     "data": {
      "text/plain": [
       "<keras.callbacks.History at 0x7fa3a930a2e0>"
      ]
     },
     "execution_count": 140,
     "metadata": {},
     "output_type": "execute_result"
    }
   ],
   "source": [
    "model_ranking.fit(\n",
    "    cached_train_ranking,\n",
    "    epochs=5,\n",
    "    validation_data=cached_test_ranking,\n",
    "    validation_freq=5,\n",
    ")"
   ]
  },
  {
   "cell_type": "code",
   "execution_count": 141,
   "id": "af2bdc40-2cc1-4a2d-80d0-80b9d9809526",
   "metadata": {},
   "outputs": [
    {
     "name": "stdout",
     "output_type": "stream",
     "text": [
      "8/8 [==============================] - 0s 5ms/step - root_mean_squared_error: 0.2515 - loss: 0.0629 - regularization_loss: 0.0000e+00 - total_loss: 0.0629\n"
     ]
    },
    {
     "data": {
      "text/plain": [
       "{'root_mean_squared_error': 0.2514699101448059,\n",
       " 'loss': 0.06148726865649223,\n",
       " 'regularization_loss': 0,\n",
       " 'total_loss': 0.06148726865649223}"
      ]
     },
     "execution_count": 141,
     "metadata": {},
     "output_type": "execute_result"
    }
   ],
   "source": [
    "model_ranking.evaluate(cached_test_ranking, return_dict=True)"
   ]
  },
  {
   "cell_type": "markdown",
   "id": "40ca3b0c-2014-41a1-b483-e077f2f102dc",
   "metadata": {},
   "source": [
    "### Get Content Recommendations - Ranking"
   ]
  },
  {
   "cell_type": "code",
   "execution_count": 142,
   "id": "9022e06d-b026-443f-b467-54957cc1a819",
   "metadata": {},
   "outputs": [
    {
     "name": "stdout",
     "output_type": "stream",
     "text": [
      "content from retrieval (unsorted content_ids):  tf.Tensor(\n",
      "[b'49a9f915b5' b'20b0745a31' b'a533f2f57a' b'a1671b9953' b'73e16a0447'\n",
      " b'c7d5f7710d' b'487d868f96' b'9f943715a3' b'19e9799800' b'639ae113f9'], shape=(10,), dtype=string)\n",
      "----------------\n",
      "Ranked Content\n",
      "Ratings for user 82216a2c7d:\n",
      "content_id | score\n",
      "b'a533f2f57a': [[0.67427635]]\n",
      "b'487d868f96': [[0.6728412]]\n",
      "b'73e16a0447': [[0.66920125]]\n",
      "b'a1671b9953': [[0.6617259]]\n",
      "b'639ae113f9': [[0.65509045]]\n",
      "b'c7d5f7710d': [[0.6438377]]\n",
      "b'20b0745a31': [[0.6413824]]\n",
      "b'49a9f915b5': [[0.6396617]]\n",
      "b'9f943715a3': [[0.6361379]]\n",
      "b'19e9799800': [[0.6309099]]\n"
     ]
    }
   ],
   "source": [
    "final_ratings = {}\n",
    "\n",
    "content_ids_from_retrieval = content_ids_recommended[0]\n",
    "print(\"content from retrieval (unsorted content_ids): \", content_ids_from_retrieval)\n",
    "\n",
    "for content_id in content_ids_from_retrieval:\n",
    "    content_id = content_id.numpy()\n",
    "    final_ratings[content_id] = model_ranking(\n",
    "        # user | content_id\n",
    "        {\"user_id\": np.array([f\"{USER_ID}\"]), \"content_id\": np.array([content_id])}\n",
    "    )\n",
    "\n",
    "print(\"----------------\")\n",
    "print(\"Ranked Content\")\n",
    "print(f\"Ratings for user {USER_ID}:\")\n",
    "print(\"content_id | score\")\n",
    "\n",
    "\n",
    "for content_id, score in sorted(\n",
    "    final_ratings.items(), key=lambda x: x[1], reverse=True\n",
    "):\n",
    "    print(f\"{content_id}: {score}\")"
   ]
  },
  {
   "cell_type": "markdown",
   "id": "462681d5-50e9-425a-a6fa-09a2e0026b4e",
   "metadata": {},
   "source": [
    "### Create Ranking Model Artifact"
   ]
  },
  {
   "cell_type": "code",
   "execution_count": 143,
   "id": "c6fdeef6-cd32-4d8c-9465-41ac1d6283d1",
   "metadata": {},
   "outputs": [
    {
     "name": "stdout",
     "output_type": "stream",
     "text": [
      "/Users/zach/Documents/GitHub/Recommenders\n"
     ]
    },
    {
     "name": "stderr",
     "output_type": "stream",
     "text": [
      "WARNING:absl:Found untraced functions such as ranking_1_layer_call_fn, ranking_1_layer_call_and_return_conditional_losses while saving (showing 2 of 2). These functions will not be directly callable after loading.\n"
     ]
    },
    {
     "name": "stdout",
     "output_type": "stream",
     "text": [
      "INFO:tensorflow:Assets written to: /Users/zach/Documents/GitHub/Recommenders/ranking_model/assets\n"
     ]
    },
    {
     "name": "stderr",
     "output_type": "stream",
     "text": [
      "INFO:tensorflow:Assets written to: /Users/zach/Documents/GitHub/Recommenders/ranking_model/assets\n"
     ]
    }
   ],
   "source": [
    "cwd = os.getcwd()\n",
    "print(cwd)\n",
    "ranking_path = os.path.join(cwd, \"ranking_model\")\n",
    "\n",
    "tf.saved_model.save(model_ranking, ranking_path)"
   ]
  },
  {
   "cell_type": "code",
   "execution_count": null,
   "id": "50391900-359d-44d2-848e-a9ed7dd17b77",
   "metadata": {},
   "outputs": [],
   "source": []
  }
 ],
 "metadata": {
  "kernelspec": {
   "display_name": "Python 3",
   "language": "python",
   "name": "python3"
  },
  "language_info": {
   "codemirror_mode": {
    "name": "ipython",
    "version": 3
   },
   "file_extension": ".py",
   "mimetype": "text/x-python",
   "name": "python",
   "nbconvert_exporter": "python",
   "pygments_lexer": "ipython3",
   "version": "3.8.8"
  }
 },
 "nbformat": 4,
 "nbformat_minor": 5
}
