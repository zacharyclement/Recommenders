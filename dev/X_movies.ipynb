{
 "cells": [
  {
   "cell_type": "code",
   "execution_count": 2,
   "id": "f8b7e7ee-f5a5-42c4-a812-b6c02e972aa6",
   "metadata": {},
   "outputs": [],
   "source": [
    "import os\n",
    "import pprint\n",
    "import tempfile\n",
    "from typing import Dict, Text\n",
    "\n",
    "import numpy as np\n",
    "import pandas as pd\n",
    "import seaborn as sns\n",
    "import surprise\n",
    "import tensorflow as tf\n",
    "import tensorflow_recommenders as tfrs\n",
    "\n",
    "import tensorflow_datasets as tfds"
   ]
  },
  {
   "cell_type": "markdown",
   "id": "b34517ea-746b-4cea-905e-a5c0245b6f22",
   "metadata": {},
   "source": [
    "# Load Data"
   ]
  },
  {
   "cell_type": "code",
   "execution_count": 3,
   "id": "876fe95f-7f25-4651-8072-3c4924255820",
   "metadata": {},
   "outputs": [
    {
     "name": "stderr",
     "output_type": "stream",
     "text": [
      "WARNING:absl:The handle \"movie_lens\" for the MovieLens dataset is deprecated. Prefer using \"movielens\" instead.\n",
      "WARNING:absl:The handle \"movie_lens\" for the MovieLens dataset is deprecated. Prefer using \"movielens\" instead.\n"
     ]
    }
   ],
   "source": [
    "# Only have user ids for people who have watched and rated a movie\n",
    "# have all movie ids\n",
    "ratings_raw = tfds.load(\"movie_lens/100k-ratings\", split=\"train\")\n",
    "# Features of all the available movies.\n",
    "movies_raw = tfds.load(\"movie_lens/100k-movies\", split=\"train\")"
   ]
  },
  {
   "cell_type": "code",
   "execution_count": 6,
   "id": "3b449a0f-c2d0-4484-8115-35ec1d964eb9",
   "metadata": {},
   "outputs": [
    {
     "data": {
      "text/html": [
       "<div>\n",
       "<style scoped>\n",
       "    .dataframe tbody tr th:only-of-type {\n",
       "        vertical-align: middle;\n",
       "    }\n",
       "\n",
       "    .dataframe tbody tr th {\n",
       "        vertical-align: top;\n",
       "    }\n",
       "\n",
       "    .dataframe thead th {\n",
       "        text-align: right;\n",
       "    }\n",
       "</style>\n",
       "<table border=\"1\" class=\"dataframe\">\n",
       "  <thead>\n",
       "    <tr style=\"text-align: right;\">\n",
       "      <th></th>\n",
       "      <th>movie_id</th>\n",
       "      <th>user_id</th>\n",
       "      <th>count</th>\n",
       "    </tr>\n",
       "  </thead>\n",
       "  <tbody>\n",
       "    <tr>\n",
       "      <th>0</th>\n",
       "      <td>b'1'</td>\n",
       "      <td>b'1'</td>\n",
       "      <td>1</td>\n",
       "    </tr>\n",
       "    <tr>\n",
       "      <th>66650</th>\n",
       "      <td>b'513'</td>\n",
       "      <td>b'201'</td>\n",
       "      <td>1</td>\n",
       "    </tr>\n",
       "    <tr>\n",
       "      <th>66672</th>\n",
       "      <td>b'513'</td>\n",
       "      <td>b'406'</td>\n",
       "      <td>1</td>\n",
       "    </tr>\n",
       "    <tr>\n",
       "      <th>66671</th>\n",
       "      <td>b'513'</td>\n",
       "      <td>b'405'</td>\n",
       "      <td>1</td>\n",
       "    </tr>\n",
       "    <tr>\n",
       "      <th>66670</th>\n",
       "      <td>b'513'</td>\n",
       "      <td>b'397'</td>\n",
       "      <td>1</td>\n",
       "    </tr>\n",
       "    <tr>\n",
       "      <th>...</th>\n",
       "      <td>...</td>\n",
       "      <td>...</td>\n",
       "      <td>...</td>\n",
       "    </tr>\n",
       "    <tr>\n",
       "      <th>33331</th>\n",
       "      <td>b'24'</td>\n",
       "      <td>b'717'</td>\n",
       "      <td>1</td>\n",
       "    </tr>\n",
       "    <tr>\n",
       "      <th>33330</th>\n",
       "      <td>b'24'</td>\n",
       "      <td>b'715'</td>\n",
       "      <td>1</td>\n",
       "    </tr>\n",
       "    <tr>\n",
       "      <th>33329</th>\n",
       "      <td>b'24'</td>\n",
       "      <td>b'706'</td>\n",
       "      <td>1</td>\n",
       "    </tr>\n",
       "    <tr>\n",
       "      <th>33328</th>\n",
       "      <td>b'24'</td>\n",
       "      <td>b'70'</td>\n",
       "      <td>1</td>\n",
       "    </tr>\n",
       "    <tr>\n",
       "      <th>99999</th>\n",
       "      <td>b'999'</td>\n",
       "      <td>b'682'</td>\n",
       "      <td>1</td>\n",
       "    </tr>\n",
       "  </tbody>\n",
       "</table>\n",
       "<p>100000 rows × 3 columns</p>\n",
       "</div>"
      ],
      "text/plain": [
       "      movie_id user_id  count\n",
       "0         b'1'    b'1'      1\n",
       "66650   b'513'  b'201'      1\n",
       "66672   b'513'  b'406'      1\n",
       "66671   b'513'  b'405'      1\n",
       "66670   b'513'  b'397'      1\n",
       "...        ...     ...    ...\n",
       "33331    b'24'  b'717'      1\n",
       "33330    b'24'  b'715'      1\n",
       "33329    b'24'  b'706'      1\n",
       "33328    b'24'   b'70'      1\n",
       "99999   b'999'  b'682'      1\n",
       "\n",
       "[100000 rows x 3 columns]"
      ]
     },
     "execution_count": 6,
     "metadata": {},
     "output_type": "execute_result"
    }
   ],
   "source": [
    "# We see that movie_id + user_id = unique\n",
    "ratings_df = tfds.as_dataframe(ratings_raw)\n",
    "ratings_df.groupby(['movie_id','user_id']).size().reset_index(name='count').sort_values(by='count', ascending=False)"
   ]
  },
  {
   "cell_type": "markdown",
   "id": "130f37d0-ae1e-42a0-a438-8cfd92cd3d06",
   "metadata": {},
   "source": [
    "# Retrieval"
   ]
  },
  {
   "cell_type": "code",
   "execution_count": 37,
   "id": "a33c0197-f024-4637-bcff-291aa1513bb7",
   "metadata": {},
   "outputs": [
    {
     "data": {
      "text/plain": [
       "{'bucketized_user_age': TensorSpec(shape=(), dtype=tf.float32, name=None),\n",
       " 'movie_genres': TensorSpec(shape=(None,), dtype=tf.int64, name=None),\n",
       " 'movie_id': TensorSpec(shape=(), dtype=tf.string, name=None),\n",
       " 'movie_title': TensorSpec(shape=(), dtype=tf.string, name=None),\n",
       " 'raw_user_age': TensorSpec(shape=(), dtype=tf.float32, name=None),\n",
       " 'timestamp': TensorSpec(shape=(), dtype=tf.int64, name=None),\n",
       " 'user_gender': TensorSpec(shape=(), dtype=tf.bool, name=None),\n",
       " 'user_id': TensorSpec(shape=(), dtype=tf.string, name=None),\n",
       " 'user_occupation_label': TensorSpec(shape=(), dtype=tf.int64, name=None),\n",
       " 'user_occupation_text': TensorSpec(shape=(), dtype=tf.string, name=None),\n",
       " 'user_rating': TensorSpec(shape=(), dtype=tf.float32, name=None),\n",
       " 'user_zip_code': TensorSpec(shape=(), dtype=tf.string, name=None)}"
      ]
     },
     "execution_count": 37,
     "metadata": {},
     "output_type": "execute_result"
    }
   ],
   "source": [
    "ratings_raw.element_spec"
   ]
  },
  {
   "cell_type": "code",
   "execution_count": 2,
   "id": "5a24c316-d8ef-4184-ad7e-4cc958443987",
   "metadata": {},
   "outputs": [
    {
     "name": "stderr",
     "output_type": "stream",
     "text": [
      "WARNING:absl:The handle \"movie_lens\" for the MovieLens dataset is deprecated. Prefer using \"movielens\" instead.\n",
      "WARNING:absl:The handle \"movie_lens\" for the MovieLens dataset is deprecated. Prefer using \"movielens\" instead.\n"
     ]
    },
    {
     "name": "stdout",
     "output_type": "stream",
     "text": [
      "number of unique titles:  1664\n",
      "number of unique users:  943\n"
     ]
    },
    {
     "data": {
      "text/plain": [
       "array([b'1', b'10', b'100', b'101', b'102', b'103', b'104', b'105',\n",
       "       b'106', b'107'], dtype=object)"
      ]
     },
     "execution_count": 2,
     "metadata": {},
     "output_type": "execute_result"
    }
   ],
   "source": [
    "\n",
    "ratings = ratings_raw.map(\n",
    "    lambda x: {\"movie_title\": x[\"movie_title\"], \"user_id\": x[\"user_id\"],}\n",
    ")\n",
    "movies = movies_raw.map(lambda x: x[\"movie_title\"])\n",
    "\n",
    "tf.random.set_seed(42)\n",
    "shuffled = ratings.shuffle(100_000, seed=42, reshuffle_each_iteration=False)\n",
    "\n",
    "train = shuffled.take(80_000)\n",
    "test = shuffled.skip(80_000).take(20_000)\n",
    "\n",
    "\n",
    "movie_titles = movies.batch(1_000)\n",
    "user_ids = ratings.batch(1_000_000).map(lambda x: x[\"user_id\"])\n",
    "\n",
    "unique_movie_titles = np.unique(np.concatenate(list(movie_titles)))\n",
    "unique_user_ids = np.unique(np.concatenate(list(user_ids)))\n",
    "\n",
    "print(\"number of unique titles: \", len(unique_movie_titles))\n",
    "print(\"number of unique users: \", len(unique_user_ids))\n",
    "\n",
    "# look at top 10\n",
    "unique_user_ids[:10]"
   ]
  },
  {
   "cell_type": "code",
   "execution_count": 5,
   "id": "7e4de7a5-22d1-4df0-ac76-349001742665",
   "metadata": {},
   "outputs": [],
   "source": [
    "#where someone has engage, get users ids and content ids -> unique user ids\n",
    "\n",
    "#get all content ids -> content\n",
    "\n",
    "embedding_dimension = 32\n",
    "user_model = tf.keras.Sequential(\n",
    "    [\n",
    "        tf.keras.layers.StringLookup(vocabulary=unique_user_ids, mask_token=None),\n",
    "        # We add an additional embedding to account for unknown tokens.\n",
    "        tf.keras.layers.Embedding(len(unique_user_ids) + 1, embedding_dimension),\n",
    "    ]\n",
    ")\n",
    "\n",
    "movie_model = tf.keras.Sequential(\n",
    "    [\n",
    "        tf.keras.layers.StringLookup(vocabulary=unique_movie_titles, mask_token=None),\n",
    "        tf.keras.layers.Embedding(len(unique_movie_titles) + 1, embedding_dimension),\n",
    "    ]\n",
    ")\n",
    "\n",
    "metrics = tfrs.metrics.FactorizedTopK(candidates=movies.batch(128).map(movie_model))\n",
    "\n",
    "task = tfrs.tasks.Retrieval(metrics=metrics)"
   ]
  },
  {
   "cell_type": "code",
   "execution_count": 12,
   "id": "7ce9139b-dfdc-4882-bcea-f60add196ecc",
   "metadata": {},
   "outputs": [],
   "source": [
    "class MovielensModel(tfrs.Model):\n",
    "    def __init__(self, user_model, movie_model):\n",
    "        super().__init__()\n",
    "        self.movie_model: tf.keras.Model = movie_model\n",
    "        self.user_model: tf.keras.Model = user_model\n",
    "        self.task: tf.keras.layers.Layer = task\n",
    "\n",
    "    def compute_loss(\n",
    "        self, features: Dict[Text, tf.Tensor], training=False\n",
    "    ) -> tf.Tensor:\n",
    "        # We pick out the user features and pass them into the user model.\n",
    "        print('features: ', features)\n",
    "        user_embeddings = self.user_model(features[\"user_id\"])\n",
    "        # And pick out the movie features and pass them into the movie model,\n",
    "        # getting embeddings back.\n",
    "        positive_movie_embeddings = self.movie_model(features[\"movie_title\"])\n",
    "\n",
    "        # The task computes the loss and the metrics.\n",
    "        return self.task(user_embeddings, positive_movie_embeddings)"
   ]
  },
  {
   "cell_type": "code",
   "execution_count": 13,
   "id": "697e5c7d-4bc3-43f6-8e13-93e2531bf963",
   "metadata": {},
   "outputs": [],
   "source": [
    "model = MovielensModel(user_model, movie_model)\n",
    "model.compile(optimizer=tf.keras.optimizers.Adagrad(learning_rate=0.1))"
   ]
  },
  {
   "cell_type": "code",
   "execution_count": 14,
   "id": "100eb24c-16b5-48ff-a2eb-089d6b7b3552",
   "metadata": {},
   "outputs": [],
   "source": [
    "cached_train = train.shuffle(100_000).batch(8192).cache()\n",
    "cached_test = test.batch(4096).cache()\n"
   ]
  },
  {
   "cell_type": "code",
   "execution_count": 15,
   "id": "0f6efaed-c4fc-4826-a973-6cebabb6c3c0",
   "metadata": {},
   "outputs": [
    {
     "name": "stdout",
     "output_type": "stream",
     "text": [
      "Epoch 1/3\n",
      "features:  {'movie_title': <tf.Tensor 'IteratorGetNext:0' shape=(None,) dtype=string>, 'user_id': <tf.Tensor 'IteratorGetNext:1' shape=(None,) dtype=string>}\n",
      "features:  {'movie_title': <tf.Tensor 'IteratorGetNext:0' shape=(None,) dtype=string>, 'user_id': <tf.Tensor 'IteratorGetNext:1' shape=(None,) dtype=string>}\n",
      "10/10 [==============================] - 11s 826ms/step - factorized_top_k/top_1_categorical_accuracy: 0.0033 - factorized_top_k/top_5_categorical_accuracy: 0.0198 - factorized_top_k/top_10_categorical_accuracy: 0.0408 - factorized_top_k/top_50_categorical_accuracy: 0.1796 - factorized_top_k/top_100_categorical_accuracy: 0.3073 - loss: 66039.6342 - regularization_loss: 0.0000e+00 - total_loss: 66039.6342\n",
      "Epoch 2/3\n",
      "10/10 [==============================] - 9s 891ms/step - factorized_top_k/top_1_categorical_accuracy: 0.0037 - factorized_top_k/top_5_categorical_accuracy: 0.0266 - factorized_top_k/top_10_categorical_accuracy: 0.0533 - factorized_top_k/top_50_categorical_accuracy: 0.2134 - factorized_top_k/top_100_categorical_accuracy: 0.3482 - loss: 64957.3011 - regularization_loss: 0.0000e+00 - total_loss: 64957.3011\n",
      "Epoch 3/3\n",
      "10/10 [==============================] - 9s 886ms/step - factorized_top_k/top_1_categorical_accuracy: 0.0041 - factorized_top_k/top_5_categorical_accuracy: 0.0298 - factorized_top_k/top_10_categorical_accuracy: 0.0588 - factorized_top_k/top_50_categorical_accuracy: 0.2283 - factorized_top_k/top_100_categorical_accuracy: 0.3652 - loss: 64456.6442 - regularization_loss: 0.0000e+00 - total_loss: 64456.6442\n"
     ]
    },
    {
     "data": {
      "text/plain": [
       "<keras.callbacks.History at 0x7fa1b43b0fa0>"
      ]
     },
     "execution_count": 15,
     "metadata": {},
     "output_type": "execute_result"
    }
   ],
   "source": [
    "# fit call compute loss\n",
    "model.fit(cached_train, epochs=3)\n"
   ]
  },
  {
   "cell_type": "code",
   "execution_count": 11,
   "id": "0c32826a-bd9e-4967-a237-ff108585ee81",
   "metadata": {},
   "outputs": [
    {
     "name": "stdout",
     "output_type": "stream",
     "text": [
      "5/5 [==============================] - 6s 634ms/step - factorized_top_k/top_1_categorical_accuracy: 0.0010 - factorized_top_k/top_5_categorical_accuracy: 0.0095 - factorized_top_k/top_10_categorical_accuracy: 0.0224 - factorized_top_k/top_50_categorical_accuracy: 0.1247 - factorized_top_k/top_100_categorical_accuracy: 0.2325 - loss: 31079.0641 - regularization_loss: 0.0000e+00 - total_loss: 31079.0641\n"
     ]
    },
    {
     "data": {
      "text/plain": [
       "{'factorized_top_k/top_1_categorical_accuracy': 0.0010499999625608325,\n",
       " 'factorized_top_k/top_5_categorical_accuracy': 0.009549999609589577,\n",
       " 'factorized_top_k/top_10_categorical_accuracy': 0.02239999920129776,\n",
       " 'factorized_top_k/top_50_categorical_accuracy': 0.1246500015258789,\n",
       " 'factorized_top_k/top_100_categorical_accuracy': 0.23250000178813934,\n",
       " 'loss': 28244.7734375,\n",
       " 'regularization_loss': 0,\n",
       " 'total_loss': 28244.7734375}"
      ]
     },
     "execution_count": 11,
     "metadata": {},
     "output_type": "execute_result"
    }
   ],
   "source": [
    "model.evaluate(cached_test, return_dict=True)\n"
   ]
  },
  {
   "cell_type": "markdown",
   "id": "c1db9618-e24e-413d-8328-937f26f5c5dc",
   "metadata": {},
   "source": [
    "# Ranking"
   ]
  },
  {
   "cell_type": "code",
   "execution_count": 18,
   "id": "53961ac3-02f6-4278-81d0-014b173088f3",
   "metadata": {},
   "outputs": [],
   "source": [
    "# use user_rating\n",
    "ratings = ratings_raw.map(\n",
    "    lambda x: {\n",
    "        \"movie_title\": x[\"movie_title\"],\n",
    "        \"user_id\": x[\"user_id\"],\n",
    "        \"user_rating\": x[\"user_rating\"],\n",
    "    }\n",
    ")"
   ]
  },
  {
   "cell_type": "code",
   "execution_count": 19,
   "id": "519f35a8-0459-44a5-853b-c5644c2ffd3f",
   "metadata": {},
   "outputs": [
    {
     "name": "stdout",
     "output_type": "stream",
     "text": [
      "<ShuffleDataset element_spec={'movie_title': TensorSpec(shape=(), dtype=tf.string, name=None), 'user_id': TensorSpec(shape=(), dtype=tf.string, name=None), 'user_rating': TensorSpec(shape=(), dtype=tf.float32, name=None)}>\n"
     ]
    }
   ],
   "source": [
    "tf.random.set_seed(42)\n",
    "shuffled = ratings.shuffle(100_000, seed=42, reshuffle_each_iteration=False)\n",
    "print(shuffled)\n",
    "train = shuffled.take(80_000)\n",
    "test = shuffled.skip(80_000).take(20_000)"
   ]
  },
  {
   "cell_type": "code",
   "execution_count": 20,
   "id": "068d5e78-ec97-4b6d-9c9f-f5755ad60082",
   "metadata": {},
   "outputs": [
    {
     "data": {
      "text/plain": [
       "{'movie_title': TensorSpec(shape=(), dtype=tf.string, name=None),\n",
       " 'user_id': TensorSpec(shape=(), dtype=tf.string, name=None),\n",
       " 'user_rating': TensorSpec(shape=(), dtype=tf.float32, name=None)}"
      ]
     },
     "execution_count": 20,
     "metadata": {},
     "output_type": "execute_result"
    }
   ],
   "source": [
    "shuffled.element_spec"
   ]
  },
  {
   "cell_type": "code",
   "execution_count": 21,
   "id": "d75611f5-4d9f-4ae6-bcb5-750896e0543a",
   "metadata": {},
   "outputs": [],
   "source": [
    "movie_titles = ratings.batch(1_000_000).map(lambda x: x[\"movie_title\"])\n",
    "user_ids = ratings.batch(1_000_000).map(lambda x: x[\"user_id\"])\n",
    "\n",
    "unique_movie_titles = np.unique(np.concatenate(list(movie_titles)))\n",
    "unique_user_ids = np.unique(np.concatenate(list(user_ids)))"
   ]
  },
  {
   "cell_type": "code",
   "execution_count": 25,
   "id": "9104c457-d747-4c19-9f9c-bfbb1ad2dda2",
   "metadata": {},
   "outputs": [],
   "source": [
    "class RankingModel(tf.keras.Model):\n",
    "    def __init__(self):\n",
    "        super().__init__()\n",
    "        embedding_dimension = 32\n",
    "\n",
    "        # Compute embeddings for users.\n",
    "        self.user_embeddings = tf.keras.Sequential(\n",
    "            [\n",
    "                tf.keras.layers.StringLookup(\n",
    "                    vocabulary=unique_user_ids, mask_token=None\n",
    "                ),\n",
    "                tf.keras.layers.Embedding(\n",
    "                    len(unique_user_ids) + 1, embedding_dimension\n",
    "                ),\n",
    "            ]\n",
    "        )\n",
    "\n",
    "        # Compute embeddings for movies.\n",
    "        self.movie_embeddings = tf.keras.Sequential(\n",
    "            [\n",
    "                tf.keras.layers.StringLookup(\n",
    "                    vocabulary=unique_movie_titles, mask_token=None\n",
    "                ),\n",
    "                tf.keras.layers.Embedding(\n",
    "                    len(unique_movie_titles) + 1, embedding_dimension\n",
    "                ),\n",
    "            ]\n",
    "        )\n",
    "\n",
    "        # Compute predictions.\n",
    "        self.ratings = tf.keras.Sequential(\n",
    "            [\n",
    "                # Learn multiple dense layers.\n",
    "                tf.keras.layers.Dense(256, activation=\"relu\"),\n",
    "                tf.keras.layers.Dense(64, activation=\"relu\"),\n",
    "                # Make rating predictions in the final layer.\n",
    "                tf.keras.layers.Dense(1),\n",
    "            ]\n",
    "        )\n",
    "\n",
    "    def call(self, inputs):\n",
    "        print('inputs: ', inputs)\n",
    "\n",
    "        user_id, movie_title = inputs\n",
    "\n",
    "        user_embedding = self.user_embeddings(user_id)\n",
    "        movie_embedding = self.movie_embeddings(movie_title)\n",
    "\n",
    "        return self.ratings(tf.concat([user_embedding, movie_embedding], axis=1))"
   ]
  },
  {
   "cell_type": "code",
   "execution_count": 26,
   "id": "453d2477-fb43-4076-a415-c591210f1e43",
   "metadata": {},
   "outputs": [
    {
     "name": "stdout",
     "output_type": "stream",
     "text": [
      "inputs:  (['42'], [\"One Flew Over the Cuckoo's Nest (1975)\"])\n",
      "WARNING:tensorflow:Layers in a Sequential model should only have a single input tensor. Received: inputs=['42']. Consider rewriting this model with the Functional API.\n"
     ]
    },
    {
     "name": "stderr",
     "output_type": "stream",
     "text": [
      "WARNING:tensorflow:Layers in a Sequential model should only have a single input tensor. Received: inputs=['42']. Consider rewriting this model with the Functional API.\n"
     ]
    },
    {
     "name": "stdout",
     "output_type": "stream",
     "text": [
      "WARNING:tensorflow:Layers in a Sequential model should only have a single input tensor. Received: inputs=[\"One Flew Over the Cuckoo's Nest (1975)\"]. Consider rewriting this model with the Functional API.\n"
     ]
    },
    {
     "name": "stderr",
     "output_type": "stream",
     "text": [
      "WARNING:tensorflow:Layers in a Sequential model should only have a single input tensor. Received: inputs=[\"One Flew Over the Cuckoo's Nest (1975)\"]. Consider rewriting this model with the Functional API.\n"
     ]
    },
    {
     "data": {
      "text/plain": [
       "<tf.Tensor: shape=(1, 1), dtype=float32, numpy=array([[-0.0221471]], dtype=float32)>"
      ]
     },
     "execution_count": 26,
     "metadata": {},
     "output_type": "execute_result"
    }
   ],
   "source": [
    "RankingModel()(([\"42\"], [\"One Flew Over the Cuckoo's Nest (1975)\"]))"
   ]
  },
  {
   "cell_type": "code",
   "execution_count": 27,
   "id": "ad6ba281-3392-42d9-9775-575719f02abb",
   "metadata": {},
   "outputs": [],
   "source": [
    "TASK = tfrs.tasks.Ranking(\n",
    "            loss=tf.keras.losses.MeanSquaredError(),\n",
    "            metrics=[tf.keras.metrics.RootMeanSquaredError()],\n",
    "        )"
   ]
  },
  {
   "cell_type": "code",
   "execution_count": 31,
   "id": "5993ffe3-f31b-423d-825e-42a789ab44a3",
   "metadata": {},
   "outputs": [],
   "source": [
    "class MovielensModel(tfrs.models.Model):\n",
    "    def __init__(self):\n",
    "        super().__init__()\n",
    "        self.ranking_model: tf.keras.Model = RankingModel()\n",
    "        self.task: tf.keras.layers.Layer = TASK\n",
    "\n",
    "    def call(self, features: Dict[str, tf.Tensor]) -> tf.Tensor:\n",
    "        print('inside call features: ', features)\n",
    "        return self.ranking_model((features[\"user_id\"], features[\"movie_title\"]))\n",
    "\n",
    "    def compute_loss(\n",
    "        self, features: Dict[Text, tf.Tensor], training=False\n",
    "    ) -> tf.Tensor:\n",
    "        print('inside loss: ',features)\n",
    "        labels = features.pop(\"user_rating\")\n",
    "\n",
    "        rating_predictions = self(features)\n",
    "\n",
    "        # The task computes the loss and the metrics.\n",
    "        return self.task(labels=labels, predictions=rating_predictions)"
   ]
  },
  {
   "cell_type": "code",
   "execution_count": 32,
   "id": "42fd26a3-58dc-4f54-85a4-29a0d8ca1ad0",
   "metadata": {},
   "outputs": [],
   "source": [
    "model = MovielensModel()\n",
    "model.compile(optimizer=tf.keras.optimizers.Adagrad(learning_rate=0.1))"
   ]
  },
  {
   "cell_type": "code",
   "execution_count": 36,
   "id": "44a94451-79ad-47a9-a549-ddca9b1012cc",
   "metadata": {},
   "outputs": [
    {
     "name": "stdout",
     "output_type": "stream",
     "text": [
      "cached: {'movie_title': TensorSpec(shape=(None,), dtype=tf.string, name=None), 'user_id': TensorSpec(shape=(None,), dtype=tf.string, name=None), 'user_rating': TensorSpec(shape=(None,), dtype=tf.float32, name=None)}\n"
     ]
    }
   ],
   "source": [
    "cached_train = train.shuffle(100_000).batch(8192).cache()\n",
    "cached_test = test.batch(4096).cache()\n",
    "print('cached:',cached_train.element_spec)"
   ]
  },
  {
   "cell_type": "code",
   "execution_count": 34,
   "id": "2ab053a7-4777-4c87-96c3-3706e4719396",
   "metadata": {},
   "outputs": [
    {
     "name": "stdout",
     "output_type": "stream",
     "text": [
      "Epoch 1/5\n",
      "inside loss:  {'movie_title': <tf.Tensor 'IteratorGetNext:0' shape=(None,) dtype=string>, 'user_id': <tf.Tensor 'IteratorGetNext:1' shape=(None,) dtype=string>, 'user_rating': <tf.Tensor 'IteratorGetNext:2' shape=(None,) dtype=float32>}\n",
      "inside call features:  {'movie_title': <tf.Tensor 'IteratorGetNext:0' shape=(None,) dtype=string>, 'user_id': <tf.Tensor 'IteratorGetNext:1' shape=(None,) dtype=string>}\n",
      "inputs:  (<tf.Tensor 'IteratorGetNext:1' shape=(None,) dtype=string>, <tf.Tensor 'IteratorGetNext:0' shape=(None,) dtype=string>)\n",
      "inside loss:  {'movie_title': <tf.Tensor 'IteratorGetNext:0' shape=(None,) dtype=string>, 'user_id': <tf.Tensor 'IteratorGetNext:1' shape=(None,) dtype=string>, 'user_rating': <tf.Tensor 'IteratorGetNext:2' shape=(None,) dtype=float32>}\n",
      "inside call features:  {'movie_title': <tf.Tensor 'IteratorGetNext:0' shape=(None,) dtype=string>, 'user_id': <tf.Tensor 'IteratorGetNext:1' shape=(None,) dtype=string>}\n",
      "inputs:  (<tf.Tensor 'IteratorGetNext:1' shape=(None,) dtype=string>, <tf.Tensor 'IteratorGetNext:0' shape=(None,) dtype=string>)\n",
      "10/10 [==============================] - 3s 38ms/step - root_mean_squared_error: 2.0627 - loss: 3.9461 - regularization_loss: 0.0000e+00 - total_loss: 3.9461\n",
      "Epoch 2/5\n",
      "10/10 [==============================] - 0s 21ms/step - root_mean_squared_error: 1.2000 - loss: 1.4269 - regularization_loss: 0.0000e+00 - total_loss: 1.4269\n",
      "Epoch 3/5\n",
      "10/10 [==============================] - 0s 22ms/step - root_mean_squared_error: 1.1290 - loss: 1.2706 - regularization_loss: 0.0000e+00 - total_loss: 1.2706\n",
      "Epoch 4/5\n",
      "10/10 [==============================] - 0s 19ms/step - root_mean_squared_error: 1.1092 - loss: 1.2277 - regularization_loss: 0.0000e+00 - total_loss: 1.2277\n",
      "Epoch 5/5\n",
      "10/10 [==============================] - 0s 20ms/step - root_mean_squared_error: 1.0940 - loss: 1.1937 - regularization_loss: 0.0000e+00 - total_loss: 1.1937\n"
     ]
    },
    {
     "data": {
      "text/plain": [
       "<keras.callbacks.History at 0x7fa15a2de580>"
      ]
     },
     "execution_count": 34,
     "metadata": {},
     "output_type": "execute_result"
    }
   ],
   "source": [
    "model.fit(cached_train, epochs=5)"
   ]
  },
  {
   "cell_type": "code",
   "execution_count": null,
   "id": "0a1a8d25-80bb-4e54-a160-d05eb5278f18",
   "metadata": {},
   "outputs": [],
   "source": []
  }
 ],
 "metadata": {
  "kernelspec": {
   "display_name": "Python 3",
   "language": "python",
   "name": "python3"
  },
  "language_info": {
   "codemirror_mode": {
    "name": "ipython",
    "version": 3
   },
   "file_extension": ".py",
   "mimetype": "text/x-python",
   "name": "python",
   "nbconvert_exporter": "python",
   "pygments_lexer": "ipython3",
   "version": "3.8.8"
  }
 },
 "nbformat": 4,
 "nbformat_minor": 5
}
