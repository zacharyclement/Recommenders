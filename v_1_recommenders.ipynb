{
 "cells": [
  {
   "cell_type": "code",
   "execution_count": 2,
   "id": "5c9189fd-f847-464d-be88-adb247fb5a46",
   "metadata": {},
   "outputs": [],
   "source": [
    "import numpy as np\n",
    "import pandas as pd\n",
    "import seaborn as sns\n",
    "import surprise\n",
    "import os\n",
    "import datetime\n",
    "import pprint\n",
    "import tempfile\n",
    "from typing import Dict, Text\n",
    "import numpy as np\n",
    "import tensorflow as tf\n",
    "import tensorflow_datasets as tfds\n",
    "import tensorflow_recommenders as tfrs"
   ]
  },
  {
   "cell_type": "markdown",
   "id": "feb791cb-c806-42b5-a935-ea0d8fc015b2",
   "metadata": {},
   "source": [
    "# Data"
   ]
  },
  {
   "cell_type": "markdown",
   "id": "6542c5d1-a0d9-4e28-b143-b281737bbc90",
   "metadata": {},
   "source": [
    "## Read Data and EDA"
   ]
  },
  {
   "cell_type": "code",
   "execution_count": 3,
   "id": "067235ba-7a62-4ae2-a3a2-7cd84bb7662f",
   "metadata": {},
   "outputs": [],
   "source": [
    "df_raw = pd.read_csv(\"lovevery_mle_homework_content_engagement.csv\")"
   ]
  },
  {
   "cell_type": "code",
   "execution_count": 4,
   "id": "b524e67e-44c2-4f17-a7a2-6365d127dfd6",
   "metadata": {},
   "outputs": [
    {
     "data": {
      "text/html": [
       "<div>\n",
       "<style scoped>\n",
       "    .dataframe tbody tr th:only-of-type {\n",
       "        vertical-align: middle;\n",
       "    }\n",
       "\n",
       "    .dataframe tbody tr th {\n",
       "        vertical-align: top;\n",
       "    }\n",
       "\n",
       "    .dataframe thead th {\n",
       "        text-align: right;\n",
       "    }\n",
       "</style>\n",
       "<table border=\"1\" class=\"dataframe\">\n",
       "  <thead>\n",
       "    <tr style=\"text-align: right;\">\n",
       "      <th></th>\n",
       "      <th>user_id</th>\n",
       "      <th>content_id</th>\n",
       "      <th>event_timestamp</th>\n",
       "      <th>event_type</th>\n",
       "    </tr>\n",
       "  </thead>\n",
       "  <tbody>\n",
       "    <tr>\n",
       "      <th>0</th>\n",
       "      <td>1438eb1414</td>\n",
       "      <td>f260f3f3ce</td>\n",
       "      <td>1.642347e+09</td>\n",
       "      <td>viewed</td>\n",
       "    </tr>\n",
       "    <tr>\n",
       "      <th>1</th>\n",
       "      <td>5380d76552</td>\n",
       "      <td>f260f3f3ce</td>\n",
       "      <td>1.642538e+09</td>\n",
       "      <td>viewed</td>\n",
       "    </tr>\n",
       "    <tr>\n",
       "      <th>2</th>\n",
       "      <td>f600b96610</td>\n",
       "      <td>f260f3f3ce</td>\n",
       "      <td>1.643294e+09</td>\n",
       "      <td>engaged</td>\n",
       "    </tr>\n",
       "    <tr>\n",
       "      <th>3</th>\n",
       "      <td>395ee54b4e</td>\n",
       "      <td>bce874342a</td>\n",
       "      <td>1.642697e+09</td>\n",
       "      <td>viewed</td>\n",
       "    </tr>\n",
       "    <tr>\n",
       "      <th>4</th>\n",
       "      <td>dcbb8d2a04</td>\n",
       "      <td>f260f3f3ce</td>\n",
       "      <td>1.641336e+09</td>\n",
       "      <td>viewed</td>\n",
       "    </tr>\n",
       "  </tbody>\n",
       "</table>\n",
       "</div>"
      ],
      "text/plain": [
       "      user_id  content_id  event_timestamp event_type\n",
       "0  1438eb1414  f260f3f3ce     1.642347e+09     viewed\n",
       "1  5380d76552  f260f3f3ce     1.642538e+09     viewed\n",
       "2  f600b96610  f260f3f3ce     1.643294e+09    engaged\n",
       "3  395ee54b4e  bce874342a     1.642697e+09     viewed\n",
       "4  dcbb8d2a04  f260f3f3ce     1.641336e+09     viewed"
      ]
     },
     "execution_count": 4,
     "metadata": {},
     "output_type": "execute_result"
    }
   ],
   "source": [
    "df_raw.head()"
   ]
  },
  {
   "cell_type": "code",
   "execution_count": 50,
   "id": "0a5baeeb-26eb-481c-80b2-7a958f2a7a60",
   "metadata": {},
   "outputs": [
    {
     "name": "stdout",
     "output_type": "stream",
     "text": [
      "<class 'pandas.core.frame.DataFrame'>\n",
      "RangeIndex: 484077 entries, 0 to 484076\n",
      "Data columns (total 4 columns):\n",
      " #   Column           Non-Null Count   Dtype  \n",
      "---  ------           --------------   -----  \n",
      " 0   user_id          484077 non-null  object \n",
      " 1   content_id       484077 non-null  object \n",
      " 2   event_timestamp  484077 non-null  float64\n",
      " 3   event_type       484077 non-null  object \n",
      "dtypes: float64(1), object(3)\n",
      "memory usage: 14.8+ MB\n"
     ]
    }
   ],
   "source": [
    "df_raw.info()"
   ]
  },
  {
   "cell_type": "code",
   "execution_count": 51,
   "id": "0a3d14a3-2024-4bb8-8365-a48e4dabc6d6",
   "metadata": {},
   "outputs": [
    {
     "data": {
      "text/html": [
       "<div>\n",
       "<style scoped>\n",
       "    .dataframe tbody tr th:only-of-type {\n",
       "        vertical-align: middle;\n",
       "    }\n",
       "\n",
       "    .dataframe tbody tr th {\n",
       "        vertical-align: top;\n",
       "    }\n",
       "\n",
       "    .dataframe thead th {\n",
       "        text-align: right;\n",
       "    }\n",
       "</style>\n",
       "<table border=\"1\" class=\"dataframe\">\n",
       "  <thead>\n",
       "    <tr style=\"text-align: right;\">\n",
       "      <th></th>\n",
       "      <th>event_timestamp</th>\n",
       "    </tr>\n",
       "  </thead>\n",
       "  <tbody>\n",
       "    <tr>\n",
       "      <th>count</th>\n",
       "      <td>4.840770e+05</td>\n",
       "    </tr>\n",
       "    <tr>\n",
       "      <th>mean</th>\n",
       "      <td>1.642165e+09</td>\n",
       "    </tr>\n",
       "    <tr>\n",
       "      <th>std</th>\n",
       "      <td>1.363745e+06</td>\n",
       "    </tr>\n",
       "    <tr>\n",
       "      <th>min</th>\n",
       "      <td>1.639552e+09</td>\n",
       "    </tr>\n",
       "    <tr>\n",
       "      <th>25%</th>\n",
       "      <td>1.641059e+09</td>\n",
       "    </tr>\n",
       "    <tr>\n",
       "      <th>50%</th>\n",
       "      <td>1.642280e+09</td>\n",
       "    </tr>\n",
       "    <tr>\n",
       "      <th>75%</th>\n",
       "      <td>1.643377e+09</td>\n",
       "    </tr>\n",
       "    <tr>\n",
       "      <th>max</th>\n",
       "      <td>1.644304e+09</td>\n",
       "    </tr>\n",
       "  </tbody>\n",
       "</table>\n",
       "</div>"
      ],
      "text/plain": [
       "       event_timestamp\n",
       "count     4.840770e+05\n",
       "mean      1.642165e+09\n",
       "std       1.363745e+06\n",
       "min       1.639552e+09\n",
       "25%       1.641059e+09\n",
       "50%       1.642280e+09\n",
       "75%       1.643377e+09\n",
       "max       1.644304e+09"
      ]
     },
     "execution_count": 51,
     "metadata": {},
     "output_type": "execute_result"
    }
   ],
   "source": [
    "df_raw.describe()"
   ]
  },
  {
   "cell_type": "code",
   "execution_count": 52,
   "id": "ab3533da-90eb-44a2-aa9b-44e8422a4db6",
   "metadata": {},
   "outputs": [
    {
     "name": "stdout",
     "output_type": "stream",
     "text": [
      "-----------\n",
      "Column:  user_id\n",
      "user_id\n",
      "0d19aee850    851\n",
      "7be8a15624    747\n",
      "eaba11e509    683\n",
      "f8ac1fda3e    635\n",
      "89fd239a24    595\n",
      "             ... \n",
      "d38665f69c     10\n",
      "6e7fc0ac77      9\n",
      "bd67a44280      7\n",
      "9bc19b73da      5\n",
      "317806d756      5\n",
      "Name: user_id, Length: 7252, dtype: int64\n",
      "-----------\n",
      "Column:  content_id\n",
      "content_id\n",
      "e177042e25    4217\n",
      "b9c3dbfb01    3891\n",
      "563c1fdf8f    3606\n",
      "34caa29b86    3509\n",
      "2886fad498    3492\n",
      "              ... \n",
      "ef26487db1     160\n",
      "bb3c04c6e7     158\n",
      "62c77cff65     152\n",
      "49967babeb     134\n",
      "a955421740     122\n",
      "Name: content_id, Length: 583, dtype: int64\n",
      "-----------\n",
      "Column:  event_timestamp\n",
      "event_timestamp\n",
      "1.642627e+09    20\n",
      "1.643759e+09    13\n",
      "1.644028e+09    13\n",
      "1.643776e+09    10\n",
      "1.643987e+09     6\n",
      "                ..\n",
      "1.641654e+09     1\n",
      "1.641654e+09     1\n",
      "1.641654e+09     1\n",
      "1.641654e+09     1\n",
      "1.644304e+09     1\n",
      "Name: event_timestamp, Length: 393488, dtype: int64\n",
      "-----------\n",
      "Column:  event_type\n",
      "event_type\n",
      "viewed     292033\n",
      "engaged    192044\n",
      "Name: event_type, dtype: int64\n"
     ]
    }
   ],
   "source": [
    "for col in df_raw.columns:\n",
    "    print(\"-----------\")\n",
    "    print(\"Column: \", col)\n",
    "    print(df_raw.groupby(col)[col].count().sort_values(ascending=False))"
   ]
  },
  {
   "cell_type": "code",
   "execution_count": 53,
   "id": "5c6db785-24e0-4521-b87f-65033965fc11",
   "metadata": {},
   "outputs": [
    {
     "data": {
      "text/plain": [
       "viewed     0.603278\n",
       "engaged    0.396722\n",
       "Name: event_type, dtype: float64"
      ]
     },
     "execution_count": 53,
     "metadata": {},
     "output_type": "execute_result"
    }
   ],
   "source": [
    "df_raw[\"event_type\"].value_counts(normalize=True)"
   ]
  },
  {
   "cell_type": "markdown",
   "id": "654c72f7-dd6c-4967-8fc3-a75ee9f1a1bb",
   "metadata": {},
   "source": [
    "## Feature Engineer"
   ]
  },
  {
   "cell_type": "code",
   "execution_count": null,
   "id": "86283d7c-24e8-404a-a6de-4e20631904eb",
   "metadata": {},
   "outputs": [],
   "source": [
    "# add features for deep learning model\n",
    "# day of the week"
   ]
  },
  {
   "cell_type": "code",
   "execution_count": 5,
   "id": "3db5f895-6c5e-4047-8b3d-cd67d46c33c5",
   "metadata": {},
   "outputs": [
    {
     "data": {
      "text/html": [
       "<div>\n",
       "<style scoped>\n",
       "    .dataframe tbody tr th:only-of-type {\n",
       "        vertical-align: middle;\n",
       "    }\n",
       "\n",
       "    .dataframe tbody tr th {\n",
       "        vertical-align: top;\n",
       "    }\n",
       "\n",
       "    .dataframe thead th {\n",
       "        text-align: right;\n",
       "    }\n",
       "</style>\n",
       "<table border=\"1\" class=\"dataframe\">\n",
       "  <thead>\n",
       "    <tr style=\"text-align: right;\">\n",
       "      <th></th>\n",
       "      <th>user_id</th>\n",
       "      <th>content_id</th>\n",
       "      <th>counts</th>\n",
       "    </tr>\n",
       "  </thead>\n",
       "  <tbody>\n",
       "    <tr>\n",
       "      <th>0</th>\n",
       "      <td>000a544834</td>\n",
       "      <td>34caa29b86</td>\n",
       "      <td>1</td>\n",
       "    </tr>\n",
       "    <tr>\n",
       "      <th>1</th>\n",
       "      <td>000a544834</td>\n",
       "      <td>3d0e786812</td>\n",
       "      <td>1</td>\n",
       "    </tr>\n",
       "    <tr>\n",
       "      <th>2</th>\n",
       "      <td>000a544834</td>\n",
       "      <td>5c7ee2dd80</td>\n",
       "      <td>2</td>\n",
       "    </tr>\n",
       "    <tr>\n",
       "      <th>3</th>\n",
       "      <td>000a544834</td>\n",
       "      <td>6f7ca40e85</td>\n",
       "      <td>2</td>\n",
       "    </tr>\n",
       "    <tr>\n",
       "      <th>4</th>\n",
       "      <td>000a544834</td>\n",
       "      <td>745115bd62</td>\n",
       "      <td>1</td>\n",
       "    </tr>\n",
       "    <tr>\n",
       "      <th>...</th>\n",
       "      <td>...</td>\n",
       "      <td>...</td>\n",
       "      <td>...</td>\n",
       "    </tr>\n",
       "    <tr>\n",
       "      <th>197557</th>\n",
       "      <td>fff5c815f7</td>\n",
       "      <td>b11fec4c92</td>\n",
       "      <td>1</td>\n",
       "    </tr>\n",
       "    <tr>\n",
       "      <th>197558</th>\n",
       "      <td>fff5c815f7</td>\n",
       "      <td>b2f77c9143</td>\n",
       "      <td>3</td>\n",
       "    </tr>\n",
       "    <tr>\n",
       "      <th>197559</th>\n",
       "      <td>fff5c815f7</td>\n",
       "      <td>bed9cfbff5</td>\n",
       "      <td>1</td>\n",
       "    </tr>\n",
       "    <tr>\n",
       "      <th>197560</th>\n",
       "      <td>fff5c815f7</td>\n",
       "      <td>c29f53db23</td>\n",
       "      <td>1</td>\n",
       "    </tr>\n",
       "    <tr>\n",
       "      <th>197561</th>\n",
       "      <td>fff5c815f7</td>\n",
       "      <td>f6e281b693</td>\n",
       "      <td>3</td>\n",
       "    </tr>\n",
       "  </tbody>\n",
       "</table>\n",
       "<p>197562 rows × 3 columns</p>\n",
       "</div>"
      ],
      "text/plain": [
       "           user_id  content_id  counts\n",
       "0       000a544834  34caa29b86       1\n",
       "1       000a544834  3d0e786812       1\n",
       "2       000a544834  5c7ee2dd80       2\n",
       "3       000a544834  6f7ca40e85       2\n",
       "4       000a544834  745115bd62       1\n",
       "...            ...         ...     ...\n",
       "197557  fff5c815f7  b11fec4c92       1\n",
       "197558  fff5c815f7  b2f77c9143       3\n",
       "197559  fff5c815f7  bed9cfbff5       1\n",
       "197560  fff5c815f7  c29f53db23       1\n",
       "197561  fff5c815f7  f6e281b693       3\n",
       "\n",
       "[197562 rows x 3 columns]"
      ]
     },
     "execution_count": 5,
     "metadata": {},
     "output_type": "execute_result"
    }
   ],
   "source": [
    "# all user_id and content_id combinations\n",
    "df_raw.groupby([\"user_id\", \"content_id\"]).size().reset_index(name=\"counts\")"
   ]
  },
  {
   "cell_type": "code",
   "execution_count": 6,
   "id": "bf0ef4a5-e28b-40f6-b914-db4424df0539",
   "metadata": {},
   "outputs": [
    {
     "data": {
      "text/html": [
       "<div>\n",
       "<style scoped>\n",
       "    .dataframe tbody tr th:only-of-type {\n",
       "        vertical-align: middle;\n",
       "    }\n",
       "\n",
       "    .dataframe tbody tr th {\n",
       "        vertical-align: top;\n",
       "    }\n",
       "\n",
       "    .dataframe thead th {\n",
       "        text-align: right;\n",
       "    }\n",
       "</style>\n",
       "<table border=\"1\" class=\"dataframe\">\n",
       "  <thead>\n",
       "    <tr style=\"text-align: right;\">\n",
       "      <th></th>\n",
       "      <th>user_id</th>\n",
       "      <th>content_id</th>\n",
       "      <th>viewed_count</th>\n",
       "    </tr>\n",
       "  </thead>\n",
       "  <tbody>\n",
       "    <tr>\n",
       "      <th>0</th>\n",
       "      <td>000a544834</td>\n",
       "      <td>34caa29b86</td>\n",
       "      <td>1</td>\n",
       "    </tr>\n",
       "    <tr>\n",
       "      <th>1</th>\n",
       "      <td>000a544834</td>\n",
       "      <td>3d0e786812</td>\n",
       "      <td>1</td>\n",
       "    </tr>\n",
       "    <tr>\n",
       "      <th>2</th>\n",
       "      <td>000a544834</td>\n",
       "      <td>5c7ee2dd80</td>\n",
       "      <td>1</td>\n",
       "    </tr>\n",
       "    <tr>\n",
       "      <th>3</th>\n",
       "      <td>000a544834</td>\n",
       "      <td>6f7ca40e85</td>\n",
       "      <td>2</td>\n",
       "    </tr>\n",
       "    <tr>\n",
       "      <th>4</th>\n",
       "      <td>000a544834</td>\n",
       "      <td>745115bd62</td>\n",
       "      <td>1</td>\n",
       "    </tr>\n",
       "    <tr>\n",
       "      <th>...</th>\n",
       "      <td>...</td>\n",
       "      <td>...</td>\n",
       "      <td>...</td>\n",
       "    </tr>\n",
       "    <tr>\n",
       "      <th>197557</th>\n",
       "      <td>fff5c815f7</td>\n",
       "      <td>b11fec4c92</td>\n",
       "      <td>1</td>\n",
       "    </tr>\n",
       "    <tr>\n",
       "      <th>197558</th>\n",
       "      <td>fff5c815f7</td>\n",
       "      <td>b2f77c9143</td>\n",
       "      <td>1</td>\n",
       "    </tr>\n",
       "    <tr>\n",
       "      <th>197559</th>\n",
       "      <td>fff5c815f7</td>\n",
       "      <td>bed9cfbff5</td>\n",
       "      <td>1</td>\n",
       "    </tr>\n",
       "    <tr>\n",
       "      <th>197560</th>\n",
       "      <td>fff5c815f7</td>\n",
       "      <td>c29f53db23</td>\n",
       "      <td>1</td>\n",
       "    </tr>\n",
       "    <tr>\n",
       "      <th>197561</th>\n",
       "      <td>fff5c815f7</td>\n",
       "      <td>f6e281b693</td>\n",
       "      <td>3</td>\n",
       "    </tr>\n",
       "  </tbody>\n",
       "</table>\n",
       "<p>197562 rows × 3 columns</p>\n",
       "</div>"
      ],
      "text/plain": [
       "           user_id  content_id  viewed_count\n",
       "0       000a544834  34caa29b86             1\n",
       "1       000a544834  3d0e786812             1\n",
       "2       000a544834  5c7ee2dd80             1\n",
       "3       000a544834  6f7ca40e85             2\n",
       "4       000a544834  745115bd62             1\n",
       "...            ...         ...           ...\n",
       "197557  fff5c815f7  b11fec4c92             1\n",
       "197558  fff5c815f7  b2f77c9143             1\n",
       "197559  fff5c815f7  bed9cfbff5             1\n",
       "197560  fff5c815f7  c29f53db23             1\n",
       "197561  fff5c815f7  f6e281b693             3\n",
       "\n",
       "[197562 rows x 3 columns]"
      ]
     },
     "execution_count": 6,
     "metadata": {},
     "output_type": "execute_result"
    }
   ],
   "source": [
    "# create a column for the number of times content was viewed\n",
    "df_viewed = (\n",
    "    df_raw.groupby([\"user_id\", \"content_id\"])[\"event_type\"]\n",
    "    .apply(lambda x: (x == \"viewed\").sum())\n",
    "    .reset_index(name=\"viewed_count\")\n",
    ")\n",
    "df_viewed"
   ]
  },
  {
   "cell_type": "code",
   "execution_count": 9,
   "id": "45afe50f-4811-4c98-88ee-ed007c586ca0",
   "metadata": {},
   "outputs": [],
   "source": [
    "# create a column for the number of times content was engaged with\n",
    "df_engaged = (\n",
    "    df_raw.groupby([\"user_id\", \"content_id\"])[\"event_type\"]\n",
    "    .apply(lambda x: (x == \"engaged\").sum())\n",
    "    .reset_index(name=\"engaged_count\")\n",
    ")"
   ]
  },
  {
   "cell_type": "code",
   "execution_count": 57,
   "id": "9102ee10-426f-4c41-b3a5-926a40d6acac",
   "metadata": {},
   "outputs": [
    {
     "name": "stdout",
     "output_type": "stream",
     "text": [
      "<class 'pandas.core.frame.DataFrame'>\n",
      "RangeIndex: 197562 entries, 0 to 197561\n",
      "Data columns (total 3 columns):\n",
      " #   Column         Non-Null Count   Dtype \n",
      "---  ------         --------------   ----- \n",
      " 0   user_id        197562 non-null  object\n",
      " 1   content_id     197562 non-null  object\n",
      " 2   engaged_count  197562 non-null  int64 \n",
      "dtypes: int64(1), object(2)\n",
      "memory usage: 4.5+ MB\n"
     ]
    }
   ],
   "source": [
    "df_engaged.info()"
   ]
  },
  {
   "cell_type": "code",
   "execution_count": 10,
   "id": "c78882e4-0b72-4f37-bc48-5d4f60956b88",
   "metadata": {},
   "outputs": [],
   "source": [
    "df = pd.merge(df_viewed, df_engaged, on=[\"user_id\", \"content_id\"], how=\"inner\")"
   ]
  },
  {
   "cell_type": "code",
   "execution_count": 11,
   "id": "82892aec-c5fc-40fd-91cd-23f7db333fb5",
   "metadata": {},
   "outputs": [
    {
     "name": "stdout",
     "output_type": "stream",
     "text": [
      "<class 'pandas.core.frame.DataFrame'>\n",
      "Int64Index: 197562 entries, 0 to 197561\n",
      "Data columns (total 4 columns):\n",
      " #   Column         Non-Null Count   Dtype \n",
      "---  ------         --------------   ----- \n",
      " 0   user_id        197562 non-null  object\n",
      " 1   content_id     197562 non-null  object\n",
      " 2   viewed_count   197562 non-null  int64 \n",
      " 3   engaged_count  197562 non-null  int64 \n",
      "dtypes: int64(2), object(2)\n",
      "memory usage: 7.5+ MB\n"
     ]
    }
   ],
   "source": [
    "df.info()"
   ]
  },
  {
   "cell_type": "code",
   "execution_count": 12,
   "id": "231ffe45-7ad5-444d-baad-f64da789b3df",
   "metadata": {},
   "outputs": [
    {
     "data": {
      "text/html": [
       "<div>\n",
       "<style scoped>\n",
       "    .dataframe tbody tr th:only-of-type {\n",
       "        vertical-align: middle;\n",
       "    }\n",
       "\n",
       "    .dataframe tbody tr th {\n",
       "        vertical-align: top;\n",
       "    }\n",
       "\n",
       "    .dataframe thead th {\n",
       "        text-align: right;\n",
       "    }\n",
       "</style>\n",
       "<table border=\"1\" class=\"dataframe\">\n",
       "  <thead>\n",
       "    <tr style=\"text-align: right;\">\n",
       "      <th></th>\n",
       "      <th>user_id</th>\n",
       "      <th>content_id</th>\n",
       "      <th>viewed_count</th>\n",
       "      <th>engaged_count</th>\n",
       "    </tr>\n",
       "  </thead>\n",
       "  <tbody>\n",
       "    <tr>\n",
       "      <th>23</th>\n",
       "      <td>000d2a6006</td>\n",
       "      <td>639ae113f9</td>\n",
       "      <td>0</td>\n",
       "      <td>1</td>\n",
       "    </tr>\n",
       "    <tr>\n",
       "      <th>26</th>\n",
       "      <td>000d2a6006</td>\n",
       "      <td>86091a3dd6</td>\n",
       "      <td>0</td>\n",
       "      <td>1</td>\n",
       "    </tr>\n",
       "    <tr>\n",
       "      <th>29</th>\n",
       "      <td>000d2a6006</td>\n",
       "      <td>8b93c4122b</td>\n",
       "      <td>0</td>\n",
       "      <td>1</td>\n",
       "    </tr>\n",
       "    <tr>\n",
       "      <th>35</th>\n",
       "      <td>000d2a6006</td>\n",
       "      <td>bd1201fb2a</td>\n",
       "      <td>0</td>\n",
       "      <td>1</td>\n",
       "    </tr>\n",
       "    <tr>\n",
       "      <th>84</th>\n",
       "      <td>00203a8599</td>\n",
       "      <td>7a46fa6591</td>\n",
       "      <td>0</td>\n",
       "      <td>1</td>\n",
       "    </tr>\n",
       "    <tr>\n",
       "      <th>...</th>\n",
       "      <td>...</td>\n",
       "      <td>...</td>\n",
       "      <td>...</td>\n",
       "      <td>...</td>\n",
       "    </tr>\n",
       "    <tr>\n",
       "      <th>197490</th>\n",
       "      <td>ffd71a9c58</td>\n",
       "      <td>92bf3d3306</td>\n",
       "      <td>0</td>\n",
       "      <td>1</td>\n",
       "    </tr>\n",
       "    <tr>\n",
       "      <th>197491</th>\n",
       "      <td>ffd71a9c58</td>\n",
       "      <td>92d02e39af</td>\n",
       "      <td>0</td>\n",
       "      <td>1</td>\n",
       "    </tr>\n",
       "    <tr>\n",
       "      <th>197505</th>\n",
       "      <td>ffd71a9c58</td>\n",
       "      <td>eb6db21a94</td>\n",
       "      <td>0</td>\n",
       "      <td>2</td>\n",
       "    </tr>\n",
       "    <tr>\n",
       "      <th>197515</th>\n",
       "      <td>ffe8882b5f</td>\n",
       "      <td>bed9cfbff5</td>\n",
       "      <td>0</td>\n",
       "      <td>1</td>\n",
       "    </tr>\n",
       "    <tr>\n",
       "      <th>197548</th>\n",
       "      <td>fff5c815f7</td>\n",
       "      <td>1c64591529</td>\n",
       "      <td>0</td>\n",
       "      <td>1</td>\n",
       "    </tr>\n",
       "  </tbody>\n",
       "</table>\n",
       "<p>25993 rows × 4 columns</p>\n",
       "</div>"
      ],
      "text/plain": [
       "           user_id  content_id  viewed_count  engaged_count\n",
       "23      000d2a6006  639ae113f9             0              1\n",
       "26      000d2a6006  86091a3dd6             0              1\n",
       "29      000d2a6006  8b93c4122b             0              1\n",
       "35      000d2a6006  bd1201fb2a             0              1\n",
       "84      00203a8599  7a46fa6591             0              1\n",
       "...            ...         ...           ...            ...\n",
       "197490  ffd71a9c58  92bf3d3306             0              1\n",
       "197491  ffd71a9c58  92d02e39af             0              1\n",
       "197505  ffd71a9c58  eb6db21a94             0              2\n",
       "197515  ffe8882b5f  bed9cfbff5             0              1\n",
       "197548  fff5c815f7  1c64591529             0              1\n",
       "\n",
       "[25993 rows x 4 columns]"
      ]
     },
     "execution_count": 12,
     "metadata": {},
     "output_type": "execute_result"
    }
   ],
   "source": [
    "# can have instances where engaged count is higher than viewed count. Must add the two columns to get a total number of times a user has seen content\n",
    "df[(df['viewed_count']==0) & (df['engaged_count']>0)]"
   ]
  },
  {
   "cell_type": "code",
   "execution_count": 15,
   "id": "61fa9c8e-5c46-4b9b-ab87-abd1cf0feb42",
   "metadata": {},
   "outputs": [],
   "source": [
    "df[\"shown_count\"] = df[\"engaged_count\"] + df[\"viewed_count\"]"
   ]
  },
  {
   "cell_type": "code",
   "execution_count": 16,
   "id": "5a62c5ac-3b8f-4349-b075-4e86277971fd",
   "metadata": {},
   "outputs": [],
   "source": [
    "df[\"engaged_pct\"] = df[\"engaged_count\"] / df[\"shown_count\"]"
   ]
  },
  {
   "cell_type": "code",
   "execution_count": 17,
   "id": "69c8af1c-640a-4939-a588-71a21ecd48df",
   "metadata": {},
   "outputs": [
    {
     "data": {
      "text/html": [
       "<div>\n",
       "<style scoped>\n",
       "    .dataframe tbody tr th:only-of-type {\n",
       "        vertical-align: middle;\n",
       "    }\n",
       "\n",
       "    .dataframe tbody tr th {\n",
       "        vertical-align: top;\n",
       "    }\n",
       "\n",
       "    .dataframe thead th {\n",
       "        text-align: right;\n",
       "    }\n",
       "</style>\n",
       "<table border=\"1\" class=\"dataframe\">\n",
       "  <thead>\n",
       "    <tr style=\"text-align: right;\">\n",
       "      <th></th>\n",
       "      <th>viewed_count</th>\n",
       "      <th>engaged_count</th>\n",
       "      <th>shown_count</th>\n",
       "      <th>engaged_pct</th>\n",
       "    </tr>\n",
       "  </thead>\n",
       "  <tbody>\n",
       "    <tr>\n",
       "      <th>count</th>\n",
       "      <td>197562.000000</td>\n",
       "      <td>197562.000000</td>\n",
       "      <td>197562.000000</td>\n",
       "      <td>197562.000000</td>\n",
       "    </tr>\n",
       "    <tr>\n",
       "      <th>mean</th>\n",
       "      <td>1.478184</td>\n",
       "      <td>0.972070</td>\n",
       "      <td>2.450254</td>\n",
       "      <td>0.363707</td>\n",
       "    </tr>\n",
       "    <tr>\n",
       "      <th>std</th>\n",
       "      <td>1.182726</td>\n",
       "      <td>1.057802</td>\n",
       "      <td>1.653833</td>\n",
       "      <td>0.349768</td>\n",
       "    </tr>\n",
       "    <tr>\n",
       "      <th>min</th>\n",
       "      <td>0.000000</td>\n",
       "      <td>0.000000</td>\n",
       "      <td>1.000000</td>\n",
       "      <td>0.000000</td>\n",
       "    </tr>\n",
       "    <tr>\n",
       "      <th>25%</th>\n",
       "      <td>1.000000</td>\n",
       "      <td>0.000000</td>\n",
       "      <td>1.000000</td>\n",
       "      <td>0.000000</td>\n",
       "    </tr>\n",
       "    <tr>\n",
       "      <th>50%</th>\n",
       "      <td>1.000000</td>\n",
       "      <td>1.000000</td>\n",
       "      <td>2.000000</td>\n",
       "      <td>0.333333</td>\n",
       "    </tr>\n",
       "    <tr>\n",
       "      <th>75%</th>\n",
       "      <td>2.000000</td>\n",
       "      <td>2.000000</td>\n",
       "      <td>3.000000</td>\n",
       "      <td>0.600000</td>\n",
       "    </tr>\n",
       "    <tr>\n",
       "      <th>max</th>\n",
       "      <td>61.000000</td>\n",
       "      <td>33.000000</td>\n",
       "      <td>65.000000</td>\n",
       "      <td>1.000000</td>\n",
       "    </tr>\n",
       "  </tbody>\n",
       "</table>\n",
       "</div>"
      ],
      "text/plain": [
       "        viewed_count  engaged_count    shown_count    engaged_pct\n",
       "count  197562.000000  197562.000000  197562.000000  197562.000000\n",
       "mean        1.478184       0.972070       2.450254       0.363707\n",
       "std         1.182726       1.057802       1.653833       0.349768\n",
       "min         0.000000       0.000000       1.000000       0.000000\n",
       "25%         1.000000       0.000000       1.000000       0.000000\n",
       "50%         1.000000       1.000000       2.000000       0.333333\n",
       "75%         2.000000       2.000000       3.000000       0.600000\n",
       "max        61.000000      33.000000      65.000000       1.000000"
      ]
     },
     "execution_count": 17,
     "metadata": {},
     "output_type": "execute_result"
    }
   ],
   "source": [
    "# there are some combinations of user_id and content_id that aren't ingaged with. \n",
    "df.describe()"
   ]
  },
  {
   "cell_type": "code",
   "execution_count": 85,
   "id": "dfbfe12b-26b8-426c-980d-bfc5aa865d40",
   "metadata": {},
   "outputs": [
    {
     "data": {
      "text/html": [
       "<div>\n",
       "<style scoped>\n",
       "    .dataframe tbody tr th:only-of-type {\n",
       "        vertical-align: middle;\n",
       "    }\n",
       "\n",
       "    .dataframe tbody tr th {\n",
       "        vertical-align: top;\n",
       "    }\n",
       "\n",
       "    .dataframe thead th {\n",
       "        text-align: right;\n",
       "    }\n",
       "</style>\n",
       "<table border=\"1\" class=\"dataframe\">\n",
       "  <thead>\n",
       "    <tr style=\"text-align: right;\">\n",
       "      <th></th>\n",
       "      <th>engaged_pct</th>\n",
       "      <th>count</th>\n",
       "    </tr>\n",
       "  </thead>\n",
       "  <tbody>\n",
       "    <tr>\n",
       "      <th>66</th>\n",
       "      <td>0.619048</td>\n",
       "      <td>1</td>\n",
       "    </tr>\n",
       "    <tr>\n",
       "      <th>91</th>\n",
       "      <td>0.923077</td>\n",
       "      <td>1</td>\n",
       "    </tr>\n",
       "    <tr>\n",
       "      <th>37</th>\n",
       "      <td>0.352941</td>\n",
       "      <td>1</td>\n",
       "    </tr>\n",
       "    <tr>\n",
       "      <th>35</th>\n",
       "      <td>0.310345</td>\n",
       "      <td>1</td>\n",
       "    </tr>\n",
       "    <tr>\n",
       "      <th>52</th>\n",
       "      <td>0.470588</td>\n",
       "      <td>1</td>\n",
       "    </tr>\n",
       "    <tr>\n",
       "      <th>...</th>\n",
       "      <td>...</td>\n",
       "      <td>...</td>\n",
       "    </tr>\n",
       "    <tr>\n",
       "      <th>36</th>\n",
       "      <td>0.333333</td>\n",
       "      <td>16001</td>\n",
       "    </tr>\n",
       "    <tr>\n",
       "      <th>71</th>\n",
       "      <td>0.666667</td>\n",
       "      <td>16865</td>\n",
       "    </tr>\n",
       "    <tr>\n",
       "      <th>92</th>\n",
       "      <td>1.000000</td>\n",
       "      <td>25993</td>\n",
       "    </tr>\n",
       "    <tr>\n",
       "      <th>53</th>\n",
       "      <td>0.500000</td>\n",
       "      <td>39276</td>\n",
       "    </tr>\n",
       "    <tr>\n",
       "      <th>0</th>\n",
       "      <td>0.000000</td>\n",
       "      <td>77320</td>\n",
       "    </tr>\n",
       "  </tbody>\n",
       "</table>\n",
       "<p>93 rows × 2 columns</p>\n",
       "</div>"
      ],
      "text/plain": [
       "    engaged_pct  count\n",
       "66     0.619048      1\n",
       "91     0.923077      1\n",
       "37     0.352941      1\n",
       "35     0.310345      1\n",
       "52     0.470588      1\n",
       "..          ...    ...\n",
       "36     0.333333  16001\n",
       "71     0.666667  16865\n",
       "92     1.000000  25993\n",
       "53     0.500000  39276\n",
       "0      0.000000  77320\n",
       "\n",
       "[93 rows x 2 columns]"
      ]
     },
     "execution_count": 85,
     "metadata": {},
     "output_type": "execute_result"
    }
   ],
   "source": [
    "# evaluate engaged pct\n",
    "df.groupby(\"engaged_pct\").size().reset_index(name=\"count\").sort_values(by=\"count\")"
   ]
  },
  {
   "cell_type": "code",
   "execution_count": 86,
   "id": "a697a004-ce71-450b-903e-b188daa49767",
   "metadata": {},
   "outputs": [
    {
     "data": {
      "text/html": [
       "<div>\n",
       "<style scoped>\n",
       "    .dataframe tbody tr th:only-of-type {\n",
       "        vertical-align: middle;\n",
       "    }\n",
       "\n",
       "    .dataframe tbody tr th {\n",
       "        vertical-align: top;\n",
       "    }\n",
       "\n",
       "    .dataframe thead th {\n",
       "        text-align: right;\n",
       "    }\n",
       "</style>\n",
       "<table border=\"1\" class=\"dataframe\">\n",
       "  <thead>\n",
       "    <tr style=\"text-align: right;\">\n",
       "      <th></th>\n",
       "      <th>user_id</th>\n",
       "      <th>content_id</th>\n",
       "      <th>viewed_count</th>\n",
       "      <th>engaged_count</th>\n",
       "      <th>shown_count</th>\n",
       "      <th>engaged_pct</th>\n",
       "    </tr>\n",
       "  </thead>\n",
       "  <tbody>\n",
       "    <tr>\n",
       "      <th>0</th>\n",
       "      <td>000a544834</td>\n",
       "      <td>34caa29b86</td>\n",
       "      <td>1</td>\n",
       "      <td>0</td>\n",
       "      <td>1</td>\n",
       "      <td>0.0</td>\n",
       "    </tr>\n",
       "    <tr>\n",
       "      <th>102574</th>\n",
       "      <td>871f8b4bb4</td>\n",
       "      <td>5a5ad99eed</td>\n",
       "      <td>2</td>\n",
       "      <td>0</td>\n",
       "      <td>2</td>\n",
       "      <td>0.0</td>\n",
       "    </tr>\n",
       "    <tr>\n",
       "      <th>102573</th>\n",
       "      <td>871f8b4bb4</td>\n",
       "      <td>5149306338</td>\n",
       "      <td>2</td>\n",
       "      <td>0</td>\n",
       "      <td>2</td>\n",
       "      <td>0.0</td>\n",
       "    </tr>\n",
       "    <tr>\n",
       "      <th>102571</th>\n",
       "      <td>871f8b4bb4</td>\n",
       "      <td>304b40d2ce</td>\n",
       "      <td>2</td>\n",
       "      <td>0</td>\n",
       "      <td>2</td>\n",
       "      <td>0.0</td>\n",
       "    </tr>\n",
       "    <tr>\n",
       "      <th>102570</th>\n",
       "      <td>871f8b4bb4</td>\n",
       "      <td>264877c95d</td>\n",
       "      <td>1</td>\n",
       "      <td>0</td>\n",
       "      <td>1</td>\n",
       "      <td>0.0</td>\n",
       "    </tr>\n",
       "    <tr>\n",
       "      <th>...</th>\n",
       "      <td>...</td>\n",
       "      <td>...</td>\n",
       "      <td>...</td>\n",
       "      <td>...</td>\n",
       "      <td>...</td>\n",
       "      <td>...</td>\n",
       "    </tr>\n",
       "    <tr>\n",
       "      <th>24709</th>\n",
       "      <td>202b6476c8</td>\n",
       "      <td>713c7bbbd1</td>\n",
       "      <td>0</td>\n",
       "      <td>1</td>\n",
       "      <td>1</td>\n",
       "      <td>1.0</td>\n",
       "    </tr>\n",
       "    <tr>\n",
       "      <th>134296</th>\n",
       "      <td>add81aadd2</td>\n",
       "      <td>7e5b252782</td>\n",
       "      <td>0</td>\n",
       "      <td>1</td>\n",
       "      <td>1</td>\n",
       "      <td>1.0</td>\n",
       "    </tr>\n",
       "    <tr>\n",
       "      <th>134297</th>\n",
       "      <td>add81aadd2</td>\n",
       "      <td>86091a3dd6</td>\n",
       "      <td>0</td>\n",
       "      <td>3</td>\n",
       "      <td>3</td>\n",
       "      <td>1.0</td>\n",
       "    </tr>\n",
       "    <tr>\n",
       "      <th>134273</th>\n",
       "      <td>add81aadd2</td>\n",
       "      <td>1226a12aab</td>\n",
       "      <td>0</td>\n",
       "      <td>1</td>\n",
       "      <td>1</td>\n",
       "      <td>1.0</td>\n",
       "    </tr>\n",
       "    <tr>\n",
       "      <th>98780</th>\n",
       "      <td>82889066f4</td>\n",
       "      <td>f1dd74c5cd</td>\n",
       "      <td>0</td>\n",
       "      <td>1</td>\n",
       "      <td>1</td>\n",
       "      <td>1.0</td>\n",
       "    </tr>\n",
       "  </tbody>\n",
       "</table>\n",
       "<p>197562 rows × 6 columns</p>\n",
       "</div>"
      ],
      "text/plain": [
       "           user_id  content_id  viewed_count  engaged_count  shown_count  \\\n",
       "0       000a544834  34caa29b86             1              0            1   \n",
       "102574  871f8b4bb4  5a5ad99eed             2              0            2   \n",
       "102573  871f8b4bb4  5149306338             2              0            2   \n",
       "102571  871f8b4bb4  304b40d2ce             2              0            2   \n",
       "102570  871f8b4bb4  264877c95d             1              0            1   \n",
       "...            ...         ...           ...            ...          ...   \n",
       "24709   202b6476c8  713c7bbbd1             0              1            1   \n",
       "134296  add81aadd2  7e5b252782             0              1            1   \n",
       "134297  add81aadd2  86091a3dd6             0              3            3   \n",
       "134273  add81aadd2  1226a12aab             0              1            1   \n",
       "98780   82889066f4  f1dd74c5cd             0              1            1   \n",
       "\n",
       "        engaged_pct  \n",
       "0               0.0  \n",
       "102574          0.0  \n",
       "102573          0.0  \n",
       "102571          0.0  \n",
       "102570          0.0  \n",
       "...             ...  \n",
       "24709           1.0  \n",
       "134296          1.0  \n",
       "134297          1.0  \n",
       "134273          1.0  \n",
       "98780           1.0  \n",
       "\n",
       "[197562 rows x 6 columns]"
      ]
     },
     "execution_count": 86,
     "metadata": {},
     "output_type": "execute_result"
    }
   ],
   "source": [
    "df.sort_values(by=\"engaged_pct\")"
   ]
  },
  {
   "cell_type": "code",
   "execution_count": 221,
   "id": "62ea184f-0760-41db-a101-1dba1d664f66",
   "metadata": {},
   "outputs": [
    {
     "name": "stdout",
     "output_type": "stream",
     "text": [
      "# of content_ids with were never engaged with:  0\n"
     ]
    },
    {
     "data": {
      "text/html": [
       "<div>\n",
       "<style scoped>\n",
       "    .dataframe tbody tr th:only-of-type {\n",
       "        vertical-align: middle;\n",
       "    }\n",
       "\n",
       "    .dataframe tbody tr th {\n",
       "        vertical-align: top;\n",
       "    }\n",
       "\n",
       "    .dataframe thead th {\n",
       "        text-align: right;\n",
       "    }\n",
       "</style>\n",
       "<table border=\"1\" class=\"dataframe\">\n",
       "  <thead>\n",
       "    <tr style=\"text-align: right;\">\n",
       "      <th></th>\n",
       "      <th>content_id</th>\n",
       "      <th>count</th>\n",
       "    </tr>\n",
       "  </thead>\n",
       "  <tbody>\n",
       "    <tr>\n",
       "      <th>311</th>\n",
       "      <td>87ec664a85</td>\n",
       "      <td>2</td>\n",
       "    </tr>\n",
       "    <tr>\n",
       "      <th>24</th>\n",
       "      <td>09826d4e9c</td>\n",
       "      <td>2</td>\n",
       "    </tr>\n",
       "    <tr>\n",
       "      <th>58</th>\n",
       "      <td>188782f32a</td>\n",
       "      <td>2</td>\n",
       "    </tr>\n",
       "    <tr>\n",
       "      <th>276</th>\n",
       "      <td>76e177d35f</td>\n",
       "      <td>2</td>\n",
       "    </tr>\n",
       "    <tr>\n",
       "      <th>49</th>\n",
       "      <td>14d63e1ccc</td>\n",
       "      <td>2</td>\n",
       "    </tr>\n",
       "    <tr>\n",
       "      <th>...</th>\n",
       "      <td>...</td>\n",
       "      <td>...</td>\n",
       "    </tr>\n",
       "    <tr>\n",
       "      <th>153</th>\n",
       "      <td>457028a884</td>\n",
       "      <td>14</td>\n",
       "    </tr>\n",
       "    <tr>\n",
       "      <th>9</th>\n",
       "      <td>03bc268791</td>\n",
       "      <td>14</td>\n",
       "    </tr>\n",
       "    <tr>\n",
       "      <th>580</th>\n",
       "      <td>ff34eb1057</td>\n",
       "      <td>17</td>\n",
       "    </tr>\n",
       "    <tr>\n",
       "      <th>353</th>\n",
       "      <td>99c6cf7932</td>\n",
       "      <td>32</td>\n",
       "    </tr>\n",
       "    <tr>\n",
       "      <th>185</th>\n",
       "      <td>563c1fdf8f</td>\n",
       "      <td>33</td>\n",
       "    </tr>\n",
       "  </tbody>\n",
       "</table>\n",
       "<p>583 rows × 2 columns</p>\n",
       "</div>"
      ],
      "text/plain": [
       "     content_id  count\n",
       "311  87ec664a85      2\n",
       "24   09826d4e9c      2\n",
       "58   188782f32a      2\n",
       "276  76e177d35f      2\n",
       "49   14d63e1ccc      2\n",
       "..          ...    ...\n",
       "153  457028a884     14\n",
       "9    03bc268791     14\n",
       "580  ff34eb1057     17\n",
       "353  99c6cf7932     32\n",
       "185  563c1fdf8f     33\n",
       "\n",
       "[583 rows x 2 columns]"
      ]
     },
     "execution_count": 221,
     "metadata": {},
     "output_type": "execute_result"
    }
   ],
   "source": [
    "# is any content not engaged with\n",
    "content_engaged_max = (\n",
    "    df.groupby(\"content_id\")[\"engaged_count\"]\n",
    "    .max()\n",
    "    .reset_index(name=\"count\")\n",
    "    .sort_values(by=\"count\")\n",
    ")  # .size()\n",
    "print(\n",
    "    \"# of content_ids with were never engaged with: \",\n",
    "    len(content_engaged_max[content_engaged_max[\"count\"] == 0]),\n",
    ")\n",
    "content_engaged_max\n",
    "\n",
    "# all content is engaged with by more than 1 user_id"
   ]
  },
  {
   "cell_type": "markdown",
   "id": "dcd34e03-df3a-4258-afa6-9a4b3bc55b34",
   "metadata": {},
   "source": [
    "## Visualize"
   ]
  },
  {
   "cell_type": "code",
   "execution_count": 78,
   "id": "80609732-7698-498a-9a9c-adc969134388",
   "metadata": {},
   "outputs": [
    {
     "data": {
      "text/plain": [
       "<AxesSubplot:title={'center':'distribution'}, ylabel='Frequency'>"
      ]
     },
     "execution_count": 78,
     "metadata": {},
     "output_type": "execute_result"
    },
    {
     "data": {
      "image/png": "[encoded data removed]",
      "text/plain": [
       "<Figure size 432x288 with 1 Axes>"
      ]
     },
     "metadata": {
      "needs_background": "light"
     },
     "output_type": "display_data"
    }
   ],
   "source": [
    "df[\"engaged_pct\"].plot.hist(bins=len(df[\"engaged_pct\"].unique()), title=\"distribution\")"
   ]
  },
  {
   "cell_type": "code",
   "execution_count": 88,
   "id": "191dcb6c-dd46-43a3-ae9f-8cca391e15e8",
   "metadata": {},
   "outputs": [
    {
     "data": {
      "text/plain": [
       "<AxesSubplot:title={'center':'distribution'}, ylabel='Frequency'>"
      ]
     },
     "execution_count": 88,
     "metadata": {},
     "output_type": "execute_result"
    },
    {
     "data": {
      "image/png": "[encoded data removed]",
      "text/plain": [
       "<Figure size 432x288 with 1 Axes>"
      ]
     },
     "metadata": {
      "needs_background": "light"
     },
     "output_type": "display_data"
    }
   ],
   "source": [
    "df[\"shown_count\"].plot.hist(bins=len(df[\"shown_count\"].unique()), title=\"distribution\")"
   ]
  },
  {
   "cell_type": "code",
   "execution_count": 89,
   "id": "9a8b056c-a0a7-4b72-9891-f8af161c57c7",
   "metadata": {},
   "outputs": [
    {
     "data": {
      "text/plain": [
       "<AxesSubplot:title={'center':'distribution'}, ylabel='Frequency'>"
      ]
     },
     "execution_count": 89,
     "metadata": {},
     "output_type": "execute_result"
    },
    {
     "data": {
      "image/png": "[encoded data removed]",
      "text/plain": [
       "<Figure size 432x288 with 1 Axes>"
      ]
     },
     "metadata": {
      "needs_background": "light"
     },
     "output_type": "display_data"
    }
   ],
   "source": [
    "df[\"engaged_count\"].plot.hist(\n",
    "    bins=len(df[\"engaged_count\"].unique()), title=\"distribution\"\n",
    ")"
   ]
  },
  {
   "cell_type": "code",
   "execution_count": 91,
   "id": "77106530-da91-4715-bff6-3ca1d8976ab5",
   "metadata": {},
   "outputs": [],
   "source": [
    "df_content = pd.DataFrame(df.groupby(\"content_id\")[\"engaged_pct\"].mean())"
   ]
  },
  {
   "cell_type": "code",
   "execution_count": 92,
   "id": "1c97e4e5-71db-4edd-bc20-6b9530c9156c",
   "metadata": {},
   "outputs": [],
   "source": [
    "df_content[\"count\"] = df.groupby(\"content_id\")[\"engaged_pct\"].count()"
   ]
  },
  {
   "cell_type": "code",
   "execution_count": 93,
   "id": "31d7aa1c-c125-47f3-a675-d1be79d6d345",
   "metadata": {},
   "outputs": [
    {
     "data": {
      "text/html": [
       "<div>\n",
       "<style scoped>\n",
       "    .dataframe tbody tr th:only-of-type {\n",
       "        vertical-align: middle;\n",
       "    }\n",
       "\n",
       "    .dataframe tbody tr th {\n",
       "        vertical-align: top;\n",
       "    }\n",
       "\n",
       "    .dataframe thead th {\n",
       "        text-align: right;\n",
       "    }\n",
       "</style>\n",
       "<table border=\"1\" class=\"dataframe\">\n",
       "  <thead>\n",
       "    <tr style=\"text-align: right;\">\n",
       "      <th></th>\n",
       "      <th>engaged_pct</th>\n",
       "      <th>count</th>\n",
       "    </tr>\n",
       "    <tr>\n",
       "      <th>content_id</th>\n",
       "      <th></th>\n",
       "      <th></th>\n",
       "    </tr>\n",
       "  </thead>\n",
       "  <tbody>\n",
       "    <tr>\n",
       "      <th>00733d9430</th>\n",
       "      <td>0.593709</td>\n",
       "      <td>275</td>\n",
       "    </tr>\n",
       "    <tr>\n",
       "      <th>008c372b81</th>\n",
       "      <td>0.147482</td>\n",
       "      <td>139</td>\n",
       "    </tr>\n",
       "    <tr>\n",
       "      <th>01af663e58</th>\n",
       "      <td>0.544432</td>\n",
       "      <td>344</td>\n",
       "    </tr>\n",
       "    <tr>\n",
       "      <th>024775977e</th>\n",
       "      <td>0.419253</td>\n",
       "      <td>174</td>\n",
       "    </tr>\n",
       "    <tr>\n",
       "      <th>02538907fb</th>\n",
       "      <td>0.498389</td>\n",
       "      <td>102</td>\n",
       "    </tr>\n",
       "  </tbody>\n",
       "</table>\n",
       "</div>"
      ],
      "text/plain": [
       "            engaged_pct  count\n",
       "content_id                    \n",
       "00733d9430     0.593709    275\n",
       "008c372b81     0.147482    139\n",
       "01af663e58     0.544432    344\n",
       "024775977e     0.419253    174\n",
       "02538907fb     0.498389    102"
      ]
     },
     "execution_count": 93,
     "metadata": {},
     "output_type": "execute_result"
    }
   ],
   "source": [
    "df_content.head()"
   ]
  },
  {
   "cell_type": "code",
   "execution_count": 94,
   "id": "e916b2fd-c10c-435f-8a7a-97773ee4b514",
   "metadata": {},
   "outputs": [
    {
     "data": {
      "text/plain": [
       "<seaborn.axisgrid.JointGrid at 0x7fd5f0ac5f40>"
      ]
     },
     "execution_count": 94,
     "metadata": {},
     "output_type": "execute_result"
    },
    {
     "data": {
      "image/png": "[encoded data removed]",
      "text/plain": [
       "<Figure size 432x432 with 3 Axes>"
      ]
     },
     "metadata": {
      "needs_background": "light"
     },
     "output_type": "display_data"
    }
   ],
   "source": [
    "sns.jointplot(x=\"engaged_pct\", y=\"count\", data=df_content)"
   ]
  },
  {
   "cell_type": "code",
   "execution_count": 110,
   "id": "22676c46-34ae-4512-8e21-30cc78e65734",
   "metadata": {},
   "outputs": [
    {
     "data": {
      "text/plain": [
       "engaged_pct\n",
       "0.000000    77320\n",
       "0.500000    39276\n",
       "1.000000    25993\n",
       "0.666667    16865\n",
       "0.333333    16001\n",
       "            ...  \n",
       "0.588235        1\n",
       "0.235294        1\n",
       "0.619048        1\n",
       "0.627451        1\n",
       "0.058824        1\n",
       "Length: 93, dtype: int64"
      ]
     },
     "execution_count": 110,
     "metadata": {},
     "output_type": "execute_result"
    }
   ],
   "source": [
    "df.head()\n",
    "df.value_counts(\"engaged_pct\")"
   ]
  },
  {
   "cell_type": "code",
   "execution_count": 223,
   "id": "a3a9542a-e82c-4e17-8dde-95df71b58cad",
   "metadata": {},
   "outputs": [
    {
     "data": {
      "text/html": [
       "<div>\n",
       "<style scoped>\n",
       "    .dataframe tbody tr th:only-of-type {\n",
       "        vertical-align: middle;\n",
       "    }\n",
       "\n",
       "    .dataframe tbody tr th {\n",
       "        vertical-align: top;\n",
       "    }\n",
       "\n",
       "    .dataframe thead th {\n",
       "        text-align: right;\n",
       "    }\n",
       "</style>\n",
       "<table border=\"1\" class=\"dataframe\">\n",
       "  <thead>\n",
       "    <tr style=\"text-align: right;\">\n",
       "      <th>content_id</th>\n",
       "      <th>00733d9430</th>\n",
       "      <th>008c372b81</th>\n",
       "      <th>01af663e58</th>\n",
       "      <th>024775977e</th>\n",
       "      <th>02538907fb</th>\n",
       "      <th>02a1c31249</th>\n",
       "      <th>02c1e6d1c0</th>\n",
       "      <th>02d4994f74</th>\n",
       "      <th>03771ad6ff</th>\n",
       "      <th>03bc268791</th>\n",
       "      <th>...</th>\n",
       "      <th>f8642357c4</th>\n",
       "      <th>f8a7e48e23</th>\n",
       "      <th>f8e78525fc</th>\n",
       "      <th>fa35bf073a</th>\n",
       "      <th>fa40c57163</th>\n",
       "      <th>fca013584c</th>\n",
       "      <th>fe3f5a2350</th>\n",
       "      <th>ff34eb1057</th>\n",
       "      <th>ff366a51d0</th>\n",
       "      <th>ffbc4f3fa0</th>\n",
       "    </tr>\n",
       "    <tr>\n",
       "      <th>user_id</th>\n",
       "      <th></th>\n",
       "      <th></th>\n",
       "      <th></th>\n",
       "      <th></th>\n",
       "      <th></th>\n",
       "      <th></th>\n",
       "      <th></th>\n",
       "      <th></th>\n",
       "      <th></th>\n",
       "      <th></th>\n",
       "      <th></th>\n",
       "      <th></th>\n",
       "      <th></th>\n",
       "      <th></th>\n",
       "      <th></th>\n",
       "      <th></th>\n",
       "      <th></th>\n",
       "      <th></th>\n",
       "      <th></th>\n",
       "      <th></th>\n",
       "      <th></th>\n",
       "    </tr>\n",
       "  </thead>\n",
       "  <tbody>\n",
       "    <tr>\n",
       "      <th>000a544834</th>\n",
       "      <td>NaN</td>\n",
       "      <td>NaN</td>\n",
       "      <td>NaN</td>\n",
       "      <td>NaN</td>\n",
       "      <td>NaN</td>\n",
       "      <td>NaN</td>\n",
       "      <td>NaN</td>\n",
       "      <td>NaN</td>\n",
       "      <td>NaN</td>\n",
       "      <td>NaN</td>\n",
       "      <td>...</td>\n",
       "      <td>NaN</td>\n",
       "      <td>NaN</td>\n",
       "      <td>0.333333</td>\n",
       "      <td>NaN</td>\n",
       "      <td>NaN</td>\n",
       "      <td>NaN</td>\n",
       "      <td>NaN</td>\n",
       "      <td>NaN</td>\n",
       "      <td>NaN</td>\n",
       "      <td>NaN</td>\n",
       "    </tr>\n",
       "    <tr>\n",
       "      <th>000d2a6006</th>\n",
       "      <td>NaN</td>\n",
       "      <td>NaN</td>\n",
       "      <td>NaN</td>\n",
       "      <td>NaN</td>\n",
       "      <td>NaN</td>\n",
       "      <td>NaN</td>\n",
       "      <td>NaN</td>\n",
       "      <td>NaN</td>\n",
       "      <td>NaN</td>\n",
       "      <td>0.333333</td>\n",
       "      <td>...</td>\n",
       "      <td>NaN</td>\n",
       "      <td>NaN</td>\n",
       "      <td>NaN</td>\n",
       "      <td>NaN</td>\n",
       "      <td>NaN</td>\n",
       "      <td>NaN</td>\n",
       "      <td>NaN</td>\n",
       "      <td>NaN</td>\n",
       "      <td>NaN</td>\n",
       "      <td>0.0</td>\n",
       "    </tr>\n",
       "    <tr>\n",
       "      <th>001dba467f</th>\n",
       "      <td>NaN</td>\n",
       "      <td>NaN</td>\n",
       "      <td>NaN</td>\n",
       "      <td>NaN</td>\n",
       "      <td>NaN</td>\n",
       "      <td>NaN</td>\n",
       "      <td>NaN</td>\n",
       "      <td>NaN</td>\n",
       "      <td>NaN</td>\n",
       "      <td>NaN</td>\n",
       "      <td>...</td>\n",
       "      <td>NaN</td>\n",
       "      <td>NaN</td>\n",
       "      <td>NaN</td>\n",
       "      <td>NaN</td>\n",
       "      <td>NaN</td>\n",
       "      <td>NaN</td>\n",
       "      <td>NaN</td>\n",
       "      <td>NaN</td>\n",
       "      <td>NaN</td>\n",
       "      <td>NaN</td>\n",
       "    </tr>\n",
       "    <tr>\n",
       "      <th>001f0b81ec</th>\n",
       "      <td>NaN</td>\n",
       "      <td>NaN</td>\n",
       "      <td>NaN</td>\n",
       "      <td>NaN</td>\n",
       "      <td>NaN</td>\n",
       "      <td>NaN</td>\n",
       "      <td>NaN</td>\n",
       "      <td>NaN</td>\n",
       "      <td>NaN</td>\n",
       "      <td>NaN</td>\n",
       "      <td>...</td>\n",
       "      <td>NaN</td>\n",
       "      <td>NaN</td>\n",
       "      <td>NaN</td>\n",
       "      <td>NaN</td>\n",
       "      <td>NaN</td>\n",
       "      <td>NaN</td>\n",
       "      <td>NaN</td>\n",
       "      <td>NaN</td>\n",
       "      <td>NaN</td>\n",
       "      <td>NaN</td>\n",
       "    </tr>\n",
       "    <tr>\n",
       "      <th>0020032d22</th>\n",
       "      <td>NaN</td>\n",
       "      <td>NaN</td>\n",
       "      <td>NaN</td>\n",
       "      <td>NaN</td>\n",
       "      <td>NaN</td>\n",
       "      <td>NaN</td>\n",
       "      <td>NaN</td>\n",
       "      <td>NaN</td>\n",
       "      <td>NaN</td>\n",
       "      <td>NaN</td>\n",
       "      <td>...</td>\n",
       "      <td>NaN</td>\n",
       "      <td>NaN</td>\n",
       "      <td>NaN</td>\n",
       "      <td>NaN</td>\n",
       "      <td>NaN</td>\n",
       "      <td>NaN</td>\n",
       "      <td>NaN</td>\n",
       "      <td>NaN</td>\n",
       "      <td>NaN</td>\n",
       "      <td>NaN</td>\n",
       "    </tr>\n",
       "    <tr>\n",
       "      <th>...</th>\n",
       "      <td>...</td>\n",
       "      <td>...</td>\n",
       "      <td>...</td>\n",
       "      <td>...</td>\n",
       "      <td>...</td>\n",
       "      <td>...</td>\n",
       "      <td>...</td>\n",
       "      <td>...</td>\n",
       "      <td>...</td>\n",
       "      <td>...</td>\n",
       "      <td>...</td>\n",
       "      <td>...</td>\n",
       "      <td>...</td>\n",
       "      <td>...</td>\n",
       "      <td>...</td>\n",
       "      <td>...</td>\n",
       "      <td>...</td>\n",
       "      <td>...</td>\n",
       "      <td>...</td>\n",
       "      <td>...</td>\n",
       "      <td>...</td>\n",
       "    </tr>\n",
       "    <tr>\n",
       "      <th>ffe8882b5f</th>\n",
       "      <td>NaN</td>\n",
       "      <td>NaN</td>\n",
       "      <td>NaN</td>\n",
       "      <td>NaN</td>\n",
       "      <td>NaN</td>\n",
       "      <td>NaN</td>\n",
       "      <td>NaN</td>\n",
       "      <td>NaN</td>\n",
       "      <td>NaN</td>\n",
       "      <td>NaN</td>\n",
       "      <td>...</td>\n",
       "      <td>NaN</td>\n",
       "      <td>NaN</td>\n",
       "      <td>NaN</td>\n",
       "      <td>NaN</td>\n",
       "      <td>NaN</td>\n",
       "      <td>NaN</td>\n",
       "      <td>NaN</td>\n",
       "      <td>NaN</td>\n",
       "      <td>NaN</td>\n",
       "      <td>NaN</td>\n",
       "    </tr>\n",
       "    <tr>\n",
       "      <th>ffecf65324</th>\n",
       "      <td>NaN</td>\n",
       "      <td>NaN</td>\n",
       "      <td>NaN</td>\n",
       "      <td>NaN</td>\n",
       "      <td>NaN</td>\n",
       "      <td>NaN</td>\n",
       "      <td>NaN</td>\n",
       "      <td>NaN</td>\n",
       "      <td>NaN</td>\n",
       "      <td>NaN</td>\n",
       "      <td>...</td>\n",
       "      <td>NaN</td>\n",
       "      <td>NaN</td>\n",
       "      <td>NaN</td>\n",
       "      <td>NaN</td>\n",
       "      <td>NaN</td>\n",
       "      <td>NaN</td>\n",
       "      <td>NaN</td>\n",
       "      <td>NaN</td>\n",
       "      <td>NaN</td>\n",
       "      <td>NaN</td>\n",
       "    </tr>\n",
       "    <tr>\n",
       "      <th>fff0532cdb</th>\n",
       "      <td>NaN</td>\n",
       "      <td>NaN</td>\n",
       "      <td>NaN</td>\n",
       "      <td>NaN</td>\n",
       "      <td>NaN</td>\n",
       "      <td>NaN</td>\n",
       "      <td>NaN</td>\n",
       "      <td>NaN</td>\n",
       "      <td>NaN</td>\n",
       "      <td>NaN</td>\n",
       "      <td>...</td>\n",
       "      <td>NaN</td>\n",
       "      <td>NaN</td>\n",
       "      <td>NaN</td>\n",
       "      <td>NaN</td>\n",
       "      <td>NaN</td>\n",
       "      <td>NaN</td>\n",
       "      <td>NaN</td>\n",
       "      <td>NaN</td>\n",
       "      <td>NaN</td>\n",
       "      <td>NaN</td>\n",
       "    </tr>\n",
       "    <tr>\n",
       "      <th>fff07ebc97</th>\n",
       "      <td>NaN</td>\n",
       "      <td>NaN</td>\n",
       "      <td>NaN</td>\n",
       "      <td>NaN</td>\n",
       "      <td>NaN</td>\n",
       "      <td>NaN</td>\n",
       "      <td>NaN</td>\n",
       "      <td>NaN</td>\n",
       "      <td>NaN</td>\n",
       "      <td>NaN</td>\n",
       "      <td>...</td>\n",
       "      <td>NaN</td>\n",
       "      <td>NaN</td>\n",
       "      <td>NaN</td>\n",
       "      <td>NaN</td>\n",
       "      <td>NaN</td>\n",
       "      <td>NaN</td>\n",
       "      <td>NaN</td>\n",
       "      <td>NaN</td>\n",
       "      <td>NaN</td>\n",
       "      <td>NaN</td>\n",
       "    </tr>\n",
       "    <tr>\n",
       "      <th>fff5c815f7</th>\n",
       "      <td>NaN</td>\n",
       "      <td>NaN</td>\n",
       "      <td>NaN</td>\n",
       "      <td>NaN</td>\n",
       "      <td>NaN</td>\n",
       "      <td>NaN</td>\n",
       "      <td>NaN</td>\n",
       "      <td>NaN</td>\n",
       "      <td>NaN</td>\n",
       "      <td>NaN</td>\n",
       "      <td>...</td>\n",
       "      <td>NaN</td>\n",
       "      <td>NaN</td>\n",
       "      <td>NaN</td>\n",
       "      <td>NaN</td>\n",
       "      <td>NaN</td>\n",
       "      <td>NaN</td>\n",
       "      <td>NaN</td>\n",
       "      <td>NaN</td>\n",
       "      <td>NaN</td>\n",
       "      <td>NaN</td>\n",
       "    </tr>\n",
       "  </tbody>\n",
       "</table>\n",
       "<p>7252 rows × 583 columns</p>\n",
       "</div>"
      ],
      "text/plain": [
       "content_id  00733d9430  008c372b81  01af663e58  024775977e  02538907fb  \\\n",
       "user_id                                                                  \n",
       "000a544834         NaN         NaN         NaN         NaN         NaN   \n",
       "000d2a6006         NaN         NaN         NaN         NaN         NaN   \n",
       "001dba467f         NaN         NaN         NaN         NaN         NaN   \n",
       "001f0b81ec         NaN         NaN         NaN         NaN         NaN   \n",
       "0020032d22         NaN         NaN         NaN         NaN         NaN   \n",
       "...                ...         ...         ...         ...         ...   \n",
       "ffe8882b5f         NaN         NaN         NaN         NaN         NaN   \n",
       "ffecf65324         NaN         NaN         NaN         NaN         NaN   \n",
       "fff0532cdb         NaN         NaN         NaN         NaN         NaN   \n",
       "fff07ebc97         NaN         NaN         NaN         NaN         NaN   \n",
       "fff5c815f7         NaN         NaN         NaN         NaN         NaN   \n",
       "\n",
       "content_id  02a1c31249  02c1e6d1c0  02d4994f74  03771ad6ff  03bc268791  ...  \\\n",
       "user_id                                                                 ...   \n",
       "000a544834         NaN         NaN         NaN         NaN         NaN  ...   \n",
       "000d2a6006         NaN         NaN         NaN         NaN    0.333333  ...   \n",
       "001dba467f         NaN         NaN         NaN         NaN         NaN  ...   \n",
       "001f0b81ec         NaN         NaN         NaN         NaN         NaN  ...   \n",
       "0020032d22         NaN         NaN         NaN         NaN         NaN  ...   \n",
       "...                ...         ...         ...         ...         ...  ...   \n",
       "ffe8882b5f         NaN         NaN         NaN         NaN         NaN  ...   \n",
       "ffecf65324         NaN         NaN         NaN         NaN         NaN  ...   \n",
       "fff0532cdb         NaN         NaN         NaN         NaN         NaN  ...   \n",
       "fff07ebc97         NaN         NaN         NaN         NaN         NaN  ...   \n",
       "fff5c815f7         NaN         NaN         NaN         NaN         NaN  ...   \n",
       "\n",
       "content_id  f8642357c4  f8a7e48e23  f8e78525fc  fa35bf073a  fa40c57163  \\\n",
       "user_id                                                                  \n",
       "000a544834         NaN         NaN    0.333333         NaN         NaN   \n",
       "000d2a6006         NaN         NaN         NaN         NaN         NaN   \n",
       "001dba467f         NaN         NaN         NaN         NaN         NaN   \n",
       "001f0b81ec         NaN         NaN         NaN         NaN         NaN   \n",
       "0020032d22         NaN         NaN         NaN         NaN         NaN   \n",
       "...                ...         ...         ...         ...         ...   \n",
       "ffe8882b5f         NaN         NaN         NaN         NaN         NaN   \n",
       "ffecf65324         NaN         NaN         NaN         NaN         NaN   \n",
       "fff0532cdb         NaN         NaN         NaN         NaN         NaN   \n",
       "fff07ebc97         NaN         NaN         NaN         NaN         NaN   \n",
       "fff5c815f7         NaN         NaN         NaN         NaN         NaN   \n",
       "\n",
       "content_id  fca013584c  fe3f5a2350  ff34eb1057  ff366a51d0  ffbc4f3fa0  \n",
       "user_id                                                                 \n",
       "000a544834         NaN         NaN         NaN         NaN         NaN  \n",
       "000d2a6006         NaN         NaN         NaN         NaN         0.0  \n",
       "001dba467f         NaN         NaN         NaN         NaN         NaN  \n",
       "001f0b81ec         NaN         NaN         NaN         NaN         NaN  \n",
       "0020032d22         NaN         NaN         NaN         NaN         NaN  \n",
       "...                ...         ...         ...         ...         ...  \n",
       "ffe8882b5f         NaN         NaN         NaN         NaN         NaN  \n",
       "ffecf65324         NaN         NaN         NaN         NaN         NaN  \n",
       "fff0532cdb         NaN         NaN         NaN         NaN         NaN  \n",
       "fff07ebc97         NaN         NaN         NaN         NaN         NaN  \n",
       "fff5c815f7         NaN         NaN         NaN         NaN         NaN  \n",
       "\n",
       "[7252 rows x 583 columns]"
      ]
     },
     "execution_count": 223,
     "metadata": {},
     "output_type": "execute_result"
    }
   ],
   "source": [
    "df.pivot_table(index=\"user_id\", columns=\"content_id\", values=\"engaged_pct\")"
   ]
  },
  {
   "cell_type": "code",
   "execution_count": 18,
   "id": "da8eeb8e-7234-4c65-b40c-d9298cd7653b",
   "metadata": {},
   "outputs": [
    {
     "data": {
      "text/plain": [
       "4227916"
      ]
     },
     "execution_count": 18,
     "metadata": {},
     "output_type": "execute_result"
    }
   ],
   "source": [
    "7252*583\n",
    "# 4,227,916"
   ]
  },
  {
   "cell_type": "code",
   "execution_count": 224,
   "id": "96040ca2-88e1-47e7-9e11-21ac451108ff",
   "metadata": {},
   "outputs": [
    {
     "data": {
      "text/plain": [
       "(197562, 3)"
      ]
     },
     "execution_count": 224,
     "metadata": {},
     "output_type": "execute_result"
    }
   ],
   "source": [
    "df[[\"user_id\", \"content_id\", \"engaged_pct\"]].shape"
   ]
  },
  {
   "cell_type": "markdown",
   "id": "7ddd5980-139f-4903-a828-c55222420011",
   "metadata": {},
   "source": [
    "## Make Implicit Data"
   ]
  },
  {
   "cell_type": "code",
   "execution_count": null,
   "id": "be356ac5-6537-4854-9992-8b0219bec45d",
   "metadata": {},
   "outputs": [],
   "source": [
    "# implicit data is any piece of content that has ever been engaged with\n",
    "# make a dataframe\n",
    "\n",
    "# is it ok if I make my user embedding and content embedding from same data set? movies uses two datasets to do this\n",
    "# yes\n",
    "# use combination of unique users and unique content to generate space\n",
    "# use data to train\n",
    "\n",
    "\n",
    "# get all user ids for unique users\n",
    "\n",
    "# use implicit_df for training (this will inherently not have some user/content combintions)"
   ]
  },
  {
   "cell_type": "code",
   "execution_count": 373,
   "id": "89ebe091-272d-4db1-a447-1186c7977cae",
   "metadata": {},
   "outputs": [],
   "source": [
    "# inputs into model\n",
    "df_unique_users = pd.DataFrame(list(df_raw[\"user_id\"].unique()), columns=[\"user_id\"])\n",
    "df_engaged = df_raw[df_raw[\"event_type\"] == \"engaged\"]"
   ]
  },
  {
   "cell_type": "code",
   "execution_count": 369,
   "id": "cbbf7b22-02ab-4a93-9527-9aeae1182559",
   "metadata": {},
   "outputs": [
    {
     "data": {
      "text/html": [
       "<div>\n",
       "<style scoped>\n",
       "    .dataframe tbody tr th:only-of-type {\n",
       "        vertical-align: middle;\n",
       "    }\n",
       "\n",
       "    .dataframe tbody tr th {\n",
       "        vertical-align: top;\n",
       "    }\n",
       "\n",
       "    .dataframe thead th {\n",
       "        text-align: right;\n",
       "    }\n",
       "</style>\n",
       "<table border=\"1\" class=\"dataframe\">\n",
       "  <thead>\n",
       "    <tr style=\"text-align: right;\">\n",
       "      <th></th>\n",
       "      <th>user_id</th>\n",
       "      <th>content_id</th>\n",
       "      <th>viewed_count</th>\n",
       "      <th>engaged_count</th>\n",
       "      <th>shown_count</th>\n",
       "      <th>engaged_pct</th>\n",
       "    </tr>\n",
       "  </thead>\n",
       "  <tbody>\n",
       "    <tr>\n",
       "      <th>0</th>\n",
       "      <td>000a544834</td>\n",
       "      <td>34caa29b86</td>\n",
       "      <td>1</td>\n",
       "      <td>0</td>\n",
       "      <td>1</td>\n",
       "      <td>0.000000</td>\n",
       "    </tr>\n",
       "    <tr>\n",
       "      <th>1</th>\n",
       "      <td>000a544834</td>\n",
       "      <td>3d0e786812</td>\n",
       "      <td>1</td>\n",
       "      <td>0</td>\n",
       "      <td>1</td>\n",
       "      <td>0.000000</td>\n",
       "    </tr>\n",
       "    <tr>\n",
       "      <th>2</th>\n",
       "      <td>000a544834</td>\n",
       "      <td>5c7ee2dd80</td>\n",
       "      <td>1</td>\n",
       "      <td>1</td>\n",
       "      <td>2</td>\n",
       "      <td>0.500000</td>\n",
       "    </tr>\n",
       "    <tr>\n",
       "      <th>3</th>\n",
       "      <td>000a544834</td>\n",
       "      <td>6f7ca40e85</td>\n",
       "      <td>2</td>\n",
       "      <td>0</td>\n",
       "      <td>2</td>\n",
       "      <td>0.000000</td>\n",
       "    </tr>\n",
       "    <tr>\n",
       "      <th>4</th>\n",
       "      <td>000a544834</td>\n",
       "      <td>745115bd62</td>\n",
       "      <td>1</td>\n",
       "      <td>0</td>\n",
       "      <td>1</td>\n",
       "      <td>0.000000</td>\n",
       "    </tr>\n",
       "    <tr>\n",
       "      <th>...</th>\n",
       "      <td>...</td>\n",
       "      <td>...</td>\n",
       "      <td>...</td>\n",
       "      <td>...</td>\n",
       "      <td>...</td>\n",
       "      <td>...</td>\n",
       "    </tr>\n",
       "    <tr>\n",
       "      <th>197557</th>\n",
       "      <td>fff5c815f7</td>\n",
       "      <td>b11fec4c92</td>\n",
       "      <td>1</td>\n",
       "      <td>0</td>\n",
       "      <td>1</td>\n",
       "      <td>0.000000</td>\n",
       "    </tr>\n",
       "    <tr>\n",
       "      <th>197558</th>\n",
       "      <td>fff5c815f7</td>\n",
       "      <td>b2f77c9143</td>\n",
       "      <td>1</td>\n",
       "      <td>2</td>\n",
       "      <td>3</td>\n",
       "      <td>0.666667</td>\n",
       "    </tr>\n",
       "    <tr>\n",
       "      <th>197559</th>\n",
       "      <td>fff5c815f7</td>\n",
       "      <td>bed9cfbff5</td>\n",
       "      <td>1</td>\n",
       "      <td>0</td>\n",
       "      <td>1</td>\n",
       "      <td>0.000000</td>\n",
       "    </tr>\n",
       "    <tr>\n",
       "      <th>197560</th>\n",
       "      <td>fff5c815f7</td>\n",
       "      <td>c29f53db23</td>\n",
       "      <td>1</td>\n",
       "      <td>0</td>\n",
       "      <td>1</td>\n",
       "      <td>0.000000</td>\n",
       "    </tr>\n",
       "    <tr>\n",
       "      <th>197561</th>\n",
       "      <td>fff5c815f7</td>\n",
       "      <td>f6e281b693</td>\n",
       "      <td>3</td>\n",
       "      <td>0</td>\n",
       "      <td>3</td>\n",
       "      <td>0.000000</td>\n",
       "    </tr>\n",
       "  </tbody>\n",
       "</table>\n",
       "<p>197562 rows × 6 columns</p>\n",
       "</div>"
      ],
      "text/plain": [
       "           user_id  content_id  viewed_count  engaged_count  shown_count  \\\n",
       "0       000a544834  34caa29b86             1              0            1   \n",
       "1       000a544834  3d0e786812             1              0            1   \n",
       "2       000a544834  5c7ee2dd80             1              1            2   \n",
       "3       000a544834  6f7ca40e85             2              0            2   \n",
       "4       000a544834  745115bd62             1              0            1   \n",
       "...            ...         ...           ...            ...          ...   \n",
       "197557  fff5c815f7  b11fec4c92             1              0            1   \n",
       "197558  fff5c815f7  b2f77c9143             1              2            3   \n",
       "197559  fff5c815f7  bed9cfbff5             1              0            1   \n",
       "197560  fff5c815f7  c29f53db23             1              0            1   \n",
       "197561  fff5c815f7  f6e281b693             3              0            3   \n",
       "\n",
       "        engaged_pct  \n",
       "0          0.000000  \n",
       "1          0.000000  \n",
       "2          0.500000  \n",
       "3          0.000000  \n",
       "4          0.000000  \n",
       "...             ...  \n",
       "197557     0.000000  \n",
       "197558     0.666667  \n",
       "197559     0.000000  \n",
       "197560     0.000000  \n",
       "197561     0.000000  \n",
       "\n",
       "[197562 rows x 6 columns]"
      ]
     },
     "execution_count": 369,
     "metadata": {},
     "output_type": "execute_result"
    }
   ],
   "source": [
    "df"
   ]
  },
  {
   "cell_type": "code",
   "execution_count": 353,
   "id": "4e91bbfb-ef4b-4ad5-a132-cd7256d29838",
   "metadata": {},
   "outputs": [
    {
     "data": {
      "text/html": [
       "<div>\n",
       "<style scoped>\n",
       "    .dataframe tbody tr th:only-of-type {\n",
       "        vertical-align: middle;\n",
       "    }\n",
       "\n",
       "    .dataframe tbody tr th {\n",
       "        vertical-align: top;\n",
       "    }\n",
       "\n",
       "    .dataframe thead th {\n",
       "        text-align: right;\n",
       "    }\n",
       "</style>\n",
       "<table border=\"1\" class=\"dataframe\">\n",
       "  <thead>\n",
       "    <tr style=\"text-align: right;\">\n",
       "      <th></th>\n",
       "      <th>user_id</th>\n",
       "      <th>content_id</th>\n",
       "      <th>viewed_count</th>\n",
       "      <th>engaged_count</th>\n",
       "      <th>shown_count</th>\n",
       "      <th>engaged_pct</th>\n",
       "    </tr>\n",
       "  </thead>\n",
       "  <tbody>\n",
       "    <tr>\n",
       "      <th>0</th>\n",
       "      <td>000a544834</td>\n",
       "      <td>34caa29b86</td>\n",
       "      <td>1</td>\n",
       "      <td>0</td>\n",
       "      <td>1</td>\n",
       "      <td>0.0</td>\n",
       "    </tr>\n",
       "    <tr>\n",
       "      <th>1</th>\n",
       "      <td>000a544834</td>\n",
       "      <td>3d0e786812</td>\n",
       "      <td>1</td>\n",
       "      <td>0</td>\n",
       "      <td>1</td>\n",
       "      <td>0.0</td>\n",
       "    </tr>\n",
       "    <tr>\n",
       "      <th>3</th>\n",
       "      <td>000a544834</td>\n",
       "      <td>6f7ca40e85</td>\n",
       "      <td>2</td>\n",
       "      <td>0</td>\n",
       "      <td>2</td>\n",
       "      <td>0.0</td>\n",
       "    </tr>\n",
       "    <tr>\n",
       "      <th>4</th>\n",
       "      <td>000a544834</td>\n",
       "      <td>745115bd62</td>\n",
       "      <td>1</td>\n",
       "      <td>0</td>\n",
       "      <td>1</td>\n",
       "      <td>0.0</td>\n",
       "    </tr>\n",
       "    <tr>\n",
       "      <th>5</th>\n",
       "      <td>000a544834</td>\n",
       "      <td>7609df67d1</td>\n",
       "      <td>1</td>\n",
       "      <td>0</td>\n",
       "      <td>1</td>\n",
       "      <td>0.0</td>\n",
       "    </tr>\n",
       "    <tr>\n",
       "      <th>...</th>\n",
       "      <td>...</td>\n",
       "      <td>...</td>\n",
       "      <td>...</td>\n",
       "      <td>...</td>\n",
       "      <td>...</td>\n",
       "      <td>...</td>\n",
       "    </tr>\n",
       "    <tr>\n",
       "      <th>197556</th>\n",
       "      <td>fff5c815f7</td>\n",
       "      <td>a7d8a7797b</td>\n",
       "      <td>1</td>\n",
       "      <td>0</td>\n",
       "      <td>1</td>\n",
       "      <td>0.0</td>\n",
       "    </tr>\n",
       "    <tr>\n",
       "      <th>197557</th>\n",
       "      <td>fff5c815f7</td>\n",
       "      <td>b11fec4c92</td>\n",
       "      <td>1</td>\n",
       "      <td>0</td>\n",
       "      <td>1</td>\n",
       "      <td>0.0</td>\n",
       "    </tr>\n",
       "    <tr>\n",
       "      <th>197559</th>\n",
       "      <td>fff5c815f7</td>\n",
       "      <td>bed9cfbff5</td>\n",
       "      <td>1</td>\n",
       "      <td>0</td>\n",
       "      <td>1</td>\n",
       "      <td>0.0</td>\n",
       "    </tr>\n",
       "    <tr>\n",
       "      <th>197560</th>\n",
       "      <td>fff5c815f7</td>\n",
       "      <td>c29f53db23</td>\n",
       "      <td>1</td>\n",
       "      <td>0</td>\n",
       "      <td>1</td>\n",
       "      <td>0.0</td>\n",
       "    </tr>\n",
       "    <tr>\n",
       "      <th>197561</th>\n",
       "      <td>fff5c815f7</td>\n",
       "      <td>f6e281b693</td>\n",
       "      <td>3</td>\n",
       "      <td>0</td>\n",
       "      <td>3</td>\n",
       "      <td>0.0</td>\n",
       "    </tr>\n",
       "  </tbody>\n",
       "</table>\n",
       "<p>77320 rows × 6 columns</p>\n",
       "</div>"
      ],
      "text/plain": [
       "           user_id  content_id  viewed_count  engaged_count  shown_count  \\\n",
       "0       000a544834  34caa29b86             1              0            1   \n",
       "1       000a544834  3d0e786812             1              0            1   \n",
       "3       000a544834  6f7ca40e85             2              0            2   \n",
       "4       000a544834  745115bd62             1              0            1   \n",
       "5       000a544834  7609df67d1             1              0            1   \n",
       "...            ...         ...           ...            ...          ...   \n",
       "197556  fff5c815f7  a7d8a7797b             1              0            1   \n",
       "197557  fff5c815f7  b11fec4c92             1              0            1   \n",
       "197559  fff5c815f7  bed9cfbff5             1              0            1   \n",
       "197560  fff5c815f7  c29f53db23             1              0            1   \n",
       "197561  fff5c815f7  f6e281b693             3              0            3   \n",
       "\n",
       "        engaged_pct  \n",
       "0               0.0  \n",
       "1               0.0  \n",
       "3               0.0  \n",
       "4               0.0  \n",
       "5               0.0  \n",
       "...             ...  \n",
       "197556          0.0  \n",
       "197557          0.0  \n",
       "197559          0.0  \n",
       "197560          0.0  \n",
       "197561          0.0  \n",
       "\n",
       "[77320 rows x 6 columns]"
      ]
     },
     "execution_count": 353,
     "metadata": {},
     "output_type": "execute_result"
    }
   ],
   "source": [
    "df[df[\"engaged_count\"] == 0]"
   ]
  },
  {
   "cell_type": "code",
   "execution_count": 347,
   "id": "9766c8e4-d5f3-4120-b4af-8fc914dc5c98",
   "metadata": {},
   "outputs": [
    {
     "data": {
      "text/html": [
       "<div>\n",
       "<style scoped>\n",
       "    .dataframe tbody tr th:only-of-type {\n",
       "        vertical-align: middle;\n",
       "    }\n",
       "\n",
       "    .dataframe tbody tr th {\n",
       "        vertical-align: top;\n",
       "    }\n",
       "\n",
       "    .dataframe thead th {\n",
       "        text-align: right;\n",
       "    }\n",
       "</style>\n",
       "<table border=\"1\" class=\"dataframe\">\n",
       "  <thead>\n",
       "    <tr style=\"text-align: right;\">\n",
       "      <th></th>\n",
       "      <th>user_id</th>\n",
       "      <th>content_id</th>\n",
       "      <th>viewed_count</th>\n",
       "      <th>engaged_count</th>\n",
       "      <th>shown_count</th>\n",
       "      <th>engaged_pct</th>\n",
       "    </tr>\n",
       "  </thead>\n",
       "  <tbody>\n",
       "    <tr>\n",
       "      <th>2</th>\n",
       "      <td>000a544834</td>\n",
       "      <td>5c7ee2dd80</td>\n",
       "      <td>1</td>\n",
       "      <td>1</td>\n",
       "      <td>2</td>\n",
       "      <td>0.500000</td>\n",
       "    </tr>\n",
       "    <tr>\n",
       "      <th>12</th>\n",
       "      <td>000a544834</td>\n",
       "      <td>f8e78525fc</td>\n",
       "      <td>2</td>\n",
       "      <td>1</td>\n",
       "      <td>3</td>\n",
       "      <td>0.333333</td>\n",
       "    </tr>\n",
       "    <tr>\n",
       "      <th>13</th>\n",
       "      <td>000d2a6006</td>\n",
       "      <td>03bc268791</td>\n",
       "      <td>2</td>\n",
       "      <td>1</td>\n",
       "      <td>3</td>\n",
       "      <td>0.333333</td>\n",
       "    </tr>\n",
       "    <tr>\n",
       "      <th>14</th>\n",
       "      <td>000d2a6006</td>\n",
       "      <td>0b3e27a1d1</td>\n",
       "      <td>2</td>\n",
       "      <td>1</td>\n",
       "      <td>3</td>\n",
       "      <td>0.333333</td>\n",
       "    </tr>\n",
       "    <tr>\n",
       "      <th>16</th>\n",
       "      <td>000d2a6006</td>\n",
       "      <td>1d39c1c449</td>\n",
       "      <td>1</td>\n",
       "      <td>3</td>\n",
       "      <td>4</td>\n",
       "      <td>0.750000</td>\n",
       "    </tr>\n",
       "    <tr>\n",
       "      <th>...</th>\n",
       "      <td>...</td>\n",
       "      <td>...</td>\n",
       "      <td>...</td>\n",
       "      <td>...</td>\n",
       "      <td>...</td>\n",
       "      <td>...</td>\n",
       "    </tr>\n",
       "    <tr>\n",
       "      <th>197540</th>\n",
       "      <td>fff07ebc97</td>\n",
       "      <td>5df80dbcc0</td>\n",
       "      <td>2</td>\n",
       "      <td>2</td>\n",
       "      <td>4</td>\n",
       "      <td>0.500000</td>\n",
       "    </tr>\n",
       "    <tr>\n",
       "      <th>197543</th>\n",
       "      <td>fff07ebc97</td>\n",
       "      <td>bed9cfbff5</td>\n",
       "      <td>2</td>\n",
       "      <td>2</td>\n",
       "      <td>4</td>\n",
       "      <td>0.500000</td>\n",
       "    </tr>\n",
       "    <tr>\n",
       "      <th>197548</th>\n",
       "      <td>fff5c815f7</td>\n",
       "      <td>1c64591529</td>\n",
       "      <td>0</td>\n",
       "      <td>1</td>\n",
       "      <td>1</td>\n",
       "      <td>1.000000</td>\n",
       "    </tr>\n",
       "    <tr>\n",
       "      <th>197554</th>\n",
       "      <td>fff5c815f7</td>\n",
       "      <td>7e36cdfc2c</td>\n",
       "      <td>1</td>\n",
       "      <td>2</td>\n",
       "      <td>3</td>\n",
       "      <td>0.666667</td>\n",
       "    </tr>\n",
       "    <tr>\n",
       "      <th>197558</th>\n",
       "      <td>fff5c815f7</td>\n",
       "      <td>b2f77c9143</td>\n",
       "      <td>1</td>\n",
       "      <td>2</td>\n",
       "      <td>3</td>\n",
       "      <td>0.666667</td>\n",
       "    </tr>\n",
       "  </tbody>\n",
       "</table>\n",
       "<p>120242 rows × 6 columns</p>\n",
       "</div>"
      ],
      "text/plain": [
       "           user_id  content_id  viewed_count  engaged_count  shown_count  \\\n",
       "2       000a544834  5c7ee2dd80             1              1            2   \n",
       "12      000a544834  f8e78525fc             2              1            3   \n",
       "13      000d2a6006  03bc268791             2              1            3   \n",
       "14      000d2a6006  0b3e27a1d1             2              1            3   \n",
       "16      000d2a6006  1d39c1c449             1              3            4   \n",
       "...            ...         ...           ...            ...          ...   \n",
       "197540  fff07ebc97  5df80dbcc0             2              2            4   \n",
       "197543  fff07ebc97  bed9cfbff5             2              2            4   \n",
       "197548  fff5c815f7  1c64591529             0              1            1   \n",
       "197554  fff5c815f7  7e36cdfc2c             1              2            3   \n",
       "197558  fff5c815f7  b2f77c9143             1              2            3   \n",
       "\n",
       "        engaged_pct  \n",
       "2          0.500000  \n",
       "12         0.333333  \n",
       "13         0.333333  \n",
       "14         0.333333  \n",
       "16         0.750000  \n",
       "...             ...  \n",
       "197540     0.500000  \n",
       "197543     0.500000  \n",
       "197548     1.000000  \n",
       "197554     0.666667  \n",
       "197558     0.666667  \n",
       "\n",
       "[120242 rows x 6 columns]"
      ]
     },
     "execution_count": 347,
     "metadata": {},
     "output_type": "execute_result"
    }
   ],
   "source": [
    "df_implicit = df[df[\"engaged_count\"] >= 1]"
   ]
  },
  {
   "cell_type": "code",
   "execution_count": 348,
   "id": "bc788a98-b656-46ba-a393-cb1578cebacf",
   "metadata": {},
   "outputs": [
    {
     "data": {
      "text/plain": [
       "7066"
      ]
     },
     "execution_count": 348,
     "metadata": {},
     "output_type": "execute_result"
    }
   ],
   "source": [
    "len(df_implicit[\"user_id\"].unique())\n",
    "# caputre 7066 out of 7252 total users"
   ]
  },
  {
   "cell_type": "code",
   "execution_count": 349,
   "id": "9353628d-a5b4-4452-a8d8-6a0bbada4544",
   "metadata": {},
   "outputs": [
    {
     "data": {
      "text/plain": [
       "583"
      ]
     },
     "execution_count": 349,
     "metadata": {},
     "output_type": "execute_result"
    }
   ],
   "source": [
    "len(df_implicit[\"content_id\"].unique())\n",
    "# all content accounted for"
   ]
  },
  {
   "cell_type": "code",
   "execution_count": 229,
   "id": "87e1faf1-c2d2-4ff2-aa7a-baa4d2803e50",
   "metadata": {},
   "outputs": [],
   "source": [
    "users = df_implicit[\"user_id\"]\n",
    "content = df_implicit[\"content_id\"]"
   ]
  },
  {
   "cell_type": "code",
   "execution_count": 320,
   "id": "e4e0fc90-f0fa-4de2-8b36-ae911b8f3ae3",
   "metadata": {},
   "outputs": [
    {
     "data": {
      "text/plain": [
       "2         000a544834\n",
       "12        000a544834\n",
       "13        000d2a6006\n",
       "14        000d2a6006\n",
       "16        000d2a6006\n",
       "             ...    \n",
       "197540    fff07ebc97\n",
       "197543    fff07ebc97\n",
       "197548    fff5c815f7\n",
       "197554    fff5c815f7\n",
       "197558    fff5c815f7\n",
       "Name: user_id, Length: 120242, dtype: object"
      ]
     },
     "execution_count": 320,
     "metadata": {},
     "output_type": "execute_result"
    }
   ],
   "source": [
    "users"
   ]
  },
  {
   "cell_type": "code",
   "execution_count": 321,
   "id": "fd6c71a1-680e-4d3f-8805-3219d97e0b00",
   "metadata": {},
   "outputs": [
    {
     "data": {
      "text/plain": [
       "2         5c7ee2dd80\n",
       "12        f8e78525fc\n",
       "13        03bc268791\n",
       "14        0b3e27a1d1\n",
       "16        1d39c1c449\n",
       "             ...    \n",
       "197540    5df80dbcc0\n",
       "197543    bed9cfbff5\n",
       "197548    1c64591529\n",
       "197554    7e36cdfc2c\n",
       "197558    b2f77c9143\n",
       "Name: content_id, Length: 120242, dtype: object"
      ]
     },
     "execution_count": 321,
     "metadata": {},
     "output_type": "execute_result"
    }
   ],
   "source": [
    "content"
   ]
  },
  {
   "cell_type": "markdown",
   "id": "d7a2ee83-ebf3-4cc5-93dc-f2e641494848",
   "metadata": {},
   "source": [
    "# Retrieval"
   ]
  },
  {
   "cell_type": "code",
   "execution_count": null,
   "id": "71c81a6f-d078-46e8-9373-d62eae5b4bef",
   "metadata": {},
   "outputs": [],
   "source": [
    "# Retrieval - two tower - https://blog.tensorflow.org/2020/09/introducing-tensorflow-recommenders.html\n",
    "# takes a user id and returns a subset of good candidates\n",
    "\n",
    "# ranking - https://www.tensorflow.org/recommenders/examples/basic_ranking\n",
    "# takes ad user id and a subset of good candidates and returns the best candidate\n",
    "\n",
    "# optimizing for a single objective (multi object is avaailable - ratings and clicks)"
   ]
  },
  {
   "cell_type": "markdown",
   "id": "553558d3-ad19-4717-8284-5290aea5d242",
   "metadata": {},
   "source": [
    "## Load Data - Content"
   ]
  },
  {
   "cell_type": "code",
   "execution_count": 547,
   "id": "e90e5e94-40ba-4185-b0e0-3415575555d9",
   "metadata": {},
   "outputs": [],
   "source": [
    "users_content_raw = tf.data.Dataset.from_tensor_slices(dict(df_engaged[[\"user_id\", \"content_id\"]]))\n",
    "content_raw = tf.data.Dataset.from_tensor_slices(\n",
    "    dict(df_engaged[[\"user_id\", \"content_id\"]])\n",
    ")"
   ]
  },
  {
   "cell_type": "code",
   "execution_count": 548,
   "id": "5e37a993-68c4-4075-bbb9-c10c0708e610",
   "metadata": {},
   "outputs": [],
   "source": [
    "#ratings -> user_content\n",
    "#movies -> content\n",
    "\n",
    "users_content = users_content_raw.map(lambda x: {\"user_id\": x[\"user_id\"], \"content_id\": x[\"content_id\"]})\n",
    "\n",
    "content = content_raw.map(\n",
    "    lambda x: x[\"content_id\"]\n",
    ")"
   ]
  },
  {
   "cell_type": "code",
   "execution_count": 549,
   "id": "e5ff7853-3e42-4755-8296-487636b0e79e",
   "metadata": {},
   "outputs": [
    {
     "name": "stdout",
     "output_type": "stream",
     "text": [
      "<MapDataset element_spec={'user_id': TensorSpec(shape=(), dtype=tf.string, name=None), 'content_id': TensorSpec(shape=(), dtype=tf.string, name=None)}>\n",
      "<MapDataset element_spec={'movie_title': TensorSpec(shape=(), dtype=tf.string, name=None), 'user_id': TensorSpec(shape=(), dtype=tf.string, name=None), 'user_rating': TensorSpec(shape=(), dtype=tf.float32, name=None)}>\n"
     ]
    }
   ],
   "source": [
    "print(users_content)\n",
    "print(ratings)"
   ]
  },
  {
   "cell_type": "code",
   "execution_count": 550,
   "id": "5bebfeed-fc78-461a-9577-f90e41ffcdde",
   "metadata": {},
   "outputs": [
    {
     "name": "stdout",
     "output_type": "stream",
     "text": [
      "<MapDataset element_spec=TensorSpec(shape=(), dtype=tf.string, name=None)>\n",
      "<MapDataset element_spec=TensorSpec(shape=(), dtype=tf.string, name=None)>\n"
     ]
    }
   ],
   "source": [
    "print(content)\n",
    "print(movies)"
   ]
  },
  {
   "cell_type": "code",
   "execution_count": 551,
   "id": "d0f313bf-f8ab-4e71-89d9-c0c21200a325",
   "metadata": {},
   "outputs": [
    {
     "name": "stdout",
     "output_type": "stream",
     "text": [
      "content length:  192044\n",
      "length of shuffled:  192044\n",
      "training set size:  144033\n",
      "test set size:  48011\n"
     ]
    }
   ],
   "source": [
    "print('content length: ', len(content))\n",
    "tf.random.set_seed(42)\n",
    "shuffled = users_content.shuffle(buffer_size=5_000, seed=42, reshuffle_each_iteration=False)\n",
    "print('length of shuffled: ', len(shuffled))\n",
    "to_take = int(len(shuffled) * .75)\n",
    "remaining = int(len(shuffled) - to_take)\n",
    "print('training set size: ', to_take)\n",
    "print('test set size: ', remaining)\n",
    "\n",
    "train = shuffled.take(to_take)\n",
    "test = shuffled.skip(to_take).take(remaining)"
   ]
  },
  {
   "cell_type": "code",
   "execution_count": 552,
   "id": "1d31a9de-28a4-4429-b446-98be3350b18a",
   "metadata": {
    "tags": []
   },
   "outputs": [
    {
     "name": "stdout",
     "output_type": "stream",
     "text": [
      "number of unique content_id:  583\n",
      "number of unique users:  7066\n"
     ]
    },
    {
     "data": {
      "text/plain": [
       "array([b'00733d9430', b'008c372b81', b'01af663e58', b'024775977e',\n",
       "       b'02538907fb', b'02a1c31249', b'02c1e6d1c0', b'02d4994f74',\n",
       "       b'03771ad6ff', b'03bc268791'], dtype=object)"
      ]
     },
     "execution_count": 552,
     "metadata": {},
     "output_type": "execute_result"
    }
   ],
   "source": [
    "user_ids = users_content.batch(1_000).map(lambda x: x[\"user_id\"])\n",
    "content_ids = content.batch(1_000_000)\n",
    "unique_user_ids = np.unique(np.concatenate(list(user_ids)))\n",
    "unique_content_ids = np.unique(np.concatenate(list(content_ids)))\n",
    "\n",
    "print(\"number of unique content_id: \", len(unique_content_ids))\n",
    "print(\"number of unique users: \", len(unique_user_ids))\n",
    "\n",
    "# look at top 10\n",
    "unique_content_ids[:10]"
   ]
  },
  {
   "cell_type": "markdown",
   "id": "89982665-4b13-4171-9748-7e416af7455b",
   "metadata": {},
   "source": [
    "## Define Model"
   ]
  },
  {
   "cell_type": "code",
   "execution_count": 553,
   "id": "95d5e2ef-dd02-458f-b034-fab8d603eea9",
   "metadata": {},
   "outputs": [],
   "source": [
    "embedding_dimension = 32"
   ]
  },
  {
   "cell_type": "code",
   "execution_count": 554,
   "id": "cde7a393-a426-4d2b-9b72-6b684cfe5cc8",
   "metadata": {},
   "outputs": [],
   "source": [
    "user_model = tf.keras.Sequential(\n",
    "    [\n",
    "        tf.keras.layers.StringLookup(vocabulary=unique_user_ids, mask_token=None),\n",
    "        tf.keras.layers.Embedding(\n",
    "            len(unique_user_ids) + 1, embedding_dimension\n",
    "        ),  \n",
    "    ]\n",
    ")"
   ]
  },
  {
   "cell_type": "code",
   "execution_count": 555,
   "id": "83755152-b05a-4013-b885-945b25b9605b",
   "metadata": {},
   "outputs": [],
   "source": [
    "content_model = tf.keras.Sequential(\n",
    "    [\n",
    "        tf.keras.layers.StringLookup(vocabulary=unique_content_ids, mask_token=None),\n",
    "        tf.keras.layers.Embedding(len(unique_content_ids) + 1, embedding_dimension),\n",
    "    ]\n",
    ")"
   ]
  },
  {
   "cell_type": "code",
   "execution_count": 557,
   "id": "a94df9f3-66c5-4c09-a469-55b2cd96eafd",
   "metadata": {},
   "outputs": [
    {
     "name": "stdout",
     "output_type": "stream",
     "text": [
      "tf.Tensor(b'f260f3f3ce', shape=(), dtype=string)\n",
      "tf.Tensor(b'f260f3f3ce', shape=(), dtype=string)\n"
     ]
    }
   ],
   "source": [
    "for row in content.take(2):\n",
    "    print(row)"
   ]
  },
  {
   "cell_type": "code",
   "execution_count": 558,
   "id": "d2d8a2c9-d12b-43e7-909f-bb7b6c57ecb2",
   "metadata": {},
   "outputs": [],
   "source": [
    "metrics = tfrs.metrics.FactorizedTopK(candidates=content.batch(128).map(content_model), k=)"
   ]
  },
  {
   "cell_type": "code",
   "execution_count": 559,
   "id": "eb3678fd-65b6-43d5-9540-2fad6d7d08c4",
   "metadata": {},
   "outputs": [],
   "source": [
    "TASK = tfrs.tasks.Retrieval(metrics=metrics)"
   ]
  },
  {
   "cell_type": "code",
   "execution_count": 560,
   "id": "85f33586-0c17-4393-9eea-368e92b7c1b5",
   "metadata": {},
   "outputs": [],
   "source": [
    "# defined as the dot product between user and item embeddings. corresponds to matrix factorization.\n",
    "\n",
    "\n",
    "class RetrievalModel(tfrs.Model):\n",
    "    def __init__(self, user_model, content_model):\n",
    "        super().__init__()\n",
    "        self.content_model: tf.keras.Model = content_model\n",
    "        self.user_model: tf.keras.Model = user_model\n",
    "        self.task: tf.keras.layers.Layer = TASK\n",
    "\n",
    "    def compute_loss(\n",
    "        self, features: Dict[Text, tf.Tensor], training=False\n",
    "    ) -> tf.Tensor:\n",
    "        # We pick out the user features and pass them into the user model.\n",
    "        user_embeddings = self.user_model(features[\"user_id\"])\n",
    "        # And pick out the movie features and pass them into the movie model,\n",
    "        # getting embeddings back.\n",
    "        positive_movie_embeddings = self.content_model(features[\"content_id\"])\n",
    "\n",
    "        # The task computes the loss and the metrics.\n",
    "        return self.task(user_embeddings, positive_movie_embeddings)"
   ]
  },
  {
   "cell_type": "markdown",
   "id": "88d8b9c9-4300-4be9-8ed5-7b83dbcf5916",
   "metadata": {},
   "source": [
    "## Fit Model"
   ]
  },
  {
   "cell_type": "code",
   "execution_count": 561,
   "id": "4e2a952e-4368-4e81-95dc-0e7221fbe6fe",
   "metadata": {},
   "outputs": [],
   "source": [
    "model = RetrievalModel(user_model, content_model)\n",
    "model.compile(optimizer=tf.keras.optimizers.Adagrad(learning_rate=0.1))"
   ]
  },
  {
   "cell_type": "code",
   "execution_count": 565,
   "id": "ef5eb171-1af9-4bbb-ae90-1241bd2558e4",
   "metadata": {},
   "outputs": [
    {
     "data": {
      "text/plain": [
       "<__main__.RetrievalModel at 0x7fd47b5d2e50>"
      ]
     },
     "execution_count": 565,
     "metadata": {},
     "output_type": "execute_result"
    }
   ],
   "source": [
    "model"
   ]
  },
  {
   "cell_type": "code",
   "execution_count": 562,
   "id": "95d1828c-f159-461e-935b-c82ad218cce5",
   "metadata": {},
   "outputs": [],
   "source": [
    "cached_train = train.shuffle(buffer_size=100_000).batch(8192).cache()\n",
    "cached_test = test.batch(4096).cache()"
   ]
  },
  {
   "cell_type": "code",
   "execution_count": 563,
   "id": "efdff1ec-f6a7-4e82-83c4-342eb28543cb",
   "metadata": {},
   "outputs": [],
   "source": [
    "log_dir = \"logs/fit/\" + datetime.datetime.now().strftime(\"%Y%m%d-%H%M%S\")\n",
    "tensorboard_callback = tf.keras.callbacks.TensorBoard(log_dir=log_dir, histogram_freq=1)"
   ]
  },
  {
   "cell_type": "code",
   "execution_count": 564,
   "id": "b012d4cc-0465-4cfd-88e2-011af0808dea",
   "metadata": {},
   "outputs": [
    {
     "name": "stdout",
     "output_type": "stream",
     "text": [
      "Epoch 1/3\n",
      "18/18 [==============================] - 809s 45s/step - factorized_top_k/top_1_categorical_accuracy: 0.0013 - factorized_top_k/top_5_categorical_accuracy: 0.0013 - factorized_top_k/top_10_categorical_accuracy: 0.0013 - factorized_top_k/top_50_categorical_accuracy: 0.0014 - factorized_top_k/top_100_categorical_accuracy: 0.0015 - loss: 64422.3450 - regularization_loss: 0.0000e+00 - total_loss: 64422.3450             \n",
      "Epoch 2/3\n",
      "18/18 [==============================] - 748s 41s/step - factorized_top_k/top_1_categorical_accuracy: 0.0107 - factorized_top_k/top_5_categorical_accuracy: 0.0107 - factorized_top_k/top_10_categorical_accuracy: 0.0108 - factorized_top_k/top_50_categorical_accuracy: 0.0117 - factorized_top_k/top_100_categorical_accuracy: 0.0123 - loss: 56845.5127 - regularization_loss: 0.0000e+00 - total_loss: 56845.5127\n",
      "Epoch 3/3\n",
      "18/18 [==============================] - 730s 40s/step - factorized_top_k/top_1_categorical_accuracy: 0.0159 - factorized_top_k/top_5_categorical_accuracy: 0.0159 - factorized_top_k/top_10_categorical_accuracy: 0.0161 - factorized_top_k/top_50_categorical_accuracy: 0.0173 - factorized_top_k/top_100_categorical_accuracy: 0.0188 - loss: 55053.7249 - regularization_loss: 0.0000e+00 - total_loss: 55053.7249\n"
     ]
    },
    {
     "data": {
      "text/plain": [
       "<keras.callbacks.History at 0x7fd47b5c4cd0>"
      ]
     },
     "execution_count": 564,
     "metadata": {},
     "output_type": "execute_result"
    }
   ],
   "source": [
    "model.fit(cached_train, epochs=3, callbacks=[tensorboard_callback])"
   ]
  },
  {
   "cell_type": "code",
   "execution_count": 542,
   "id": "e0bad889-0df4-481d-a1fb-a036b519cd51",
   "metadata": {},
   "outputs": [
    {
     "name": "stderr",
     "output_type": "stream",
     "text": [
      "UsageError: Line magic function `%tensorboard` not found.\n"
     ]
    }
   ],
   "source": [
    "# run the command below in terminal\n",
    "# tensorboard --logdir logs/fit"
   ]
  },
  {
   "cell_type": "code",
   "execution_count": null,
   "id": "575ba21b-9101-43fd-8bc1-63ff7d3a5ac3",
   "metadata": {},
   "outputs": [],
   "source": [
    "print(user_model.summary())\n",
    "content_model.summary()"
   ]
  },
  {
   "cell_type": "code",
   "execution_count": 501,
   "id": "f80ee14c-d955-41f3-bbd0-a3ac14fa4c9d",
   "metadata": {},
   "outputs": [
    {
     "name": "stdout",
     "output_type": "stream",
     "text": [
      "12/12 [==============================] - 268s 22s/step - factorized_top_k/top_1_categorical_accuracy: 0.0195 - factorized_top_k/top_5_categorical_accuracy: 0.0195 - factorized_top_k/top_10_categorical_accuracy: 0.0195 - factorized_top_k/top_50_categorical_accuracy: 0.0198 - factorized_top_k/top_100_categorical_accuracy: 0.0208 - loss: 25398.9120 - regularization_loss: 0.0000e+00 - total_loss: 25398.9120\n"
     ]
    },
    {
     "data": {
      "text/plain": [
       "{'factorized_top_k/top_1_categorical_accuracy': 0.019537189975380898,\n",
       " 'factorized_top_k/top_5_categorical_accuracy': 0.019537189975380898,\n",
       " 'factorized_top_k/top_10_categorical_accuracy': 0.019537189975380898,\n",
       " 'factorized_top_k/top_50_categorical_accuracy': 0.019787132740020752,\n",
       " 'factorized_top_k/top_100_categorical_accuracy': 0.02082855999469757,\n",
       " 'loss': 18248.3359375,\n",
       " 'regularization_loss': 0,\n",
       " 'total_loss': 18248.3359375}"
      ]
     },
     "execution_count": 501,
     "metadata": {},
     "output_type": "execute_result"
    }
   ],
   "source": [
    "model.evaluate(cached_test, return_dict=True)"
   ]
  },
  {
   "cell_type": "markdown",
   "id": "ebcc6dc7-0be2-468b-8708-eba6f46ed770",
   "metadata": {},
   "source": [
    "## Make Predictions"
   ]
  },
  {
   "cell_type": "code",
   "execution_count": 206,
   "id": "02b46bce-2af5-4b8b-8fcb-e4fe8d5c3b73",
   "metadata": {},
   "outputs": [
    {
     "name": "stdout",
     "output_type": "stream",
     "text": [
      "Recommendations for user 42: [b'Rent-a-Kid (1995)'\n",
      " b'Land Before Time III: The Time of the Great Giving (1995) (V)'\n",
      " b'Paper, The (1994)' b'Unstrung Heroes (1995)' b'Malice (1993)']\n"
     ]
    }
   ],
   "source": [
    "# Create a model that takes in raw query features, and\n",
    "index = tfrs.layers.factorized_top_k.BruteForce(model.user_model)\n",
    "# recommends movies out of the entire movies dataset.\n",
    "index.index_from_dataset(\n",
    "    tf.data.Dataset.zip((movies.batch(100), movies.batch(100).map(model.movie_model)))\n",
    ")\n",
    "\n",
    "# Get recommendations.\n",
    "_, titles = index(tf.constant([\"42\"]))\n",
    "print(f\"Recommendations for user 42: {titles[0, :5]}\")"
   ]
  },
  {
   "cell_type": "code",
   "execution_count": 317,
   "id": "4ed1c6a8-8e6b-47ab-b60d-82c2be5f80f2",
   "metadata": {},
   "outputs": [
    {
     "name": "stdout",
     "output_type": "stream",
     "text": [
      "[b'Rent-a-Kid (1995)'\n",
      " b'Land Before Time III: The Time of the Great Giving (1995) (V)'\n",
      " b'Paper, The (1994)' b'Unstrung Heroes (1995)' b'Malice (1993)']\n"
     ]
    }
   ],
   "source": [
    "print(f\"{titles[0, :5]}\")"
   ]
  },
  {
   "cell_type": "markdown",
   "id": "745c2ea9-ab79-4468-8c5c-5797a2479311",
   "metadata": {},
   "source": []
  },
  {
   "cell_type": "code",
   "execution_count": null,
   "id": "83ebf44c-238a-436b-ab3f-3bb9f9f020b9",
   "metadata": {},
   "outputs": [],
   "source": [
    "# need to remove things user has already engaged with\n",
    "# user -> item\n",
    "# item -> item. usualy on a product page to recommend similar products"
   ]
  },
  {
   "cell_type": "markdown",
   "id": "8193128d-57a8-4fc8-8188-5b12cb39ded1",
   "metadata": {},
   "source": [
    "# Rank"
   ]
  },
  {
   "cell_type": "code",
   "execution_count": null,
   "id": "db92f3b5-b6b1-4c94-94ca-63d5fbb4527b",
   "metadata": {},
   "outputs": [],
   "source": [
    "# use explicit feedback (engage pct) in ranking\n",
    "# ratings -> content_users_engaged\n",
    "# movies -> all content"
   ]
  },
  {
   "cell_type": "code",
   "execution_count": 537,
   "id": "3a47dd14-304f-4121-9364-d8cbb696ce82",
   "metadata": {},
   "outputs": [
    {
     "data": {
      "text/plain": [
       "{'bucketized_user_age': TensorSpec(shape=(), dtype=tf.float32, name=None),\n",
       " 'movie_genres': TensorSpec(shape=(None,), dtype=tf.int64, name=None),\n",
       " 'movie_id': TensorSpec(shape=(), dtype=tf.string, name=None),\n",
       " 'movie_title': TensorSpec(shape=(), dtype=tf.string, name=None),\n",
       " 'raw_user_age': TensorSpec(shape=(), dtype=tf.float32, name=None),\n",
       " 'timestamp': TensorSpec(shape=(), dtype=tf.int64, name=None),\n",
       " 'user_gender': TensorSpec(shape=(), dtype=tf.bool, name=None),\n",
       " 'user_id': TensorSpec(shape=(), dtype=tf.string, name=None),\n",
       " 'user_occupation_label': TensorSpec(shape=(), dtype=tf.int64, name=None),\n",
       " 'user_occupation_text': TensorSpec(shape=(), dtype=tf.string, name=None),\n",
       " 'user_rating': TensorSpec(shape=(), dtype=tf.float32, name=None),\n",
       " 'user_zip_code': TensorSpec(shape=(), dtype=tf.string, name=None)}"
      ]
     },
     "execution_count": 537,
     "metadata": {},
     "output_type": "execute_result"
    }
   ],
   "source": [
    "ratings_raw.element_spec"
   ]
  },
  {
   "cell_type": "code",
   "execution_count": 510,
   "id": "cd74fef7-fc44-49cb-bdda-f85c70d1ee85",
   "metadata": {},
   "outputs": [],
   "source": [
    "# use user_rating\n",
    "ratings = ratings_raw.map(\n",
    "    lambda x: {\n",
    "        \"movie_title\": x[\"movie_title\"],\n",
    "        \"user_id\": x[\"user_id\"],\n",
    "        \"user_rating\": x[\"user_rating\"],\n",
    "    }\n",
    ")"
   ]
  },
  {
   "cell_type": "code",
   "execution_count": 532,
   "id": "f634ab5a-5b74-4ed2-9ac5-efe5816c99e2",
   "metadata": {},
   "outputs": [
    {
     "name": "stdout",
     "output_type": "stream",
     "text": [
      "<ShuffleDataset element_spec={'movie_title': TensorSpec(shape=(), dtype=tf.string, name=None), 'user_id': TensorSpec(shape=(), dtype=tf.string, name=None), 'user_rating': TensorSpec(shape=(), dtype=tf.float32, name=None)}>\n"
     ]
    }
   ],
   "source": [
    "tf.random.set_seed(42)\n",
    "shuffled = ratings.shuffle(100_000, seed=42, reshuffle_each_iteration=False)\n",
    "print(shuffled)\n",
    "train = shuffled.take(80_000)\n",
    "test = shuffled.skip(80_000).take(20_000)"
   ]
  },
  {
   "cell_type": "code",
   "execution_count": 535,
   "id": "5e265560-2f51-4ca1-bc53-9a13fb29732a",
   "metadata": {},
   "outputs": [
    {
     "data": {
      "text/plain": [
       "{'movie_title': TensorSpec(shape=(), dtype=tf.string, name=None),\n",
       " 'user_id': TensorSpec(shape=(), dtype=tf.string, name=None),\n",
       " 'user_rating': TensorSpec(shape=(), dtype=tf.float32, name=None)}"
      ]
     },
     "execution_count": 535,
     "metadata": {},
     "output_type": "execute_result"
    }
   ],
   "source": [
    "shuffled.element_spec"
   ]
  },
  {
   "cell_type": "code",
   "execution_count": 512,
   "id": "3d616d7f-cfc8-468d-aed2-be8dbede693d",
   "metadata": {},
   "outputs": [],
   "source": [
    "movie_titles = ratings.batch(1_000_000).map(lambda x: x[\"movie_title\"])\n",
    "user_ids = ratings.batch(1_000_000).map(lambda x: x[\"user_id\"])\n",
    "\n",
    "unique_movie_titles = np.unique(np.concatenate(list(movie_titles)))\n",
    "unique_user_ids = np.unique(np.concatenate(list(user_ids)))"
   ]
  },
  {
   "cell_type": "code",
   "execution_count": 513,
   "id": "ba5d1bab-5a72-4033-9398-a499520bb510",
   "metadata": {},
   "outputs": [],
   "source": [
    "class RankingModel(tf.keras.Model):\n",
    "    def __init__(self):\n",
    "        super().__init__()\n",
    "        embedding_dimension = 32\n",
    "\n",
    "        # Compute embeddings for users.\n",
    "        self.user_embeddings = tf.keras.Sequential(\n",
    "            [\n",
    "                tf.keras.layers.StringLookup(\n",
    "                    vocabulary=unique_user_ids, mask_token=None\n",
    "                ),\n",
    "                tf.keras.layers.Embedding(\n",
    "                    len(unique_user_ids) + 1, embedding_dimension\n",
    "                ),\n",
    "            ]\n",
    "        )\n",
    "\n",
    "        # Compute embeddings for movies.\n",
    "        self.movie_embeddings = tf.keras.Sequential(\n",
    "            [\n",
    "                tf.keras.layers.StringLookup(\n",
    "                    vocabulary=unique_movie_titles, mask_token=None\n",
    "                ),\n",
    "                tf.keras.layers.Embedding(\n",
    "                    len(unique_movie_titles) + 1, embedding_dimension\n",
    "                ),\n",
    "            ]\n",
    "        )\n",
    "\n",
    "        # Compute predictions.\n",
    "        self.ratings = tf.keras.Sequential(\n",
    "            [\n",
    "                # Learn multiple dense layers.\n",
    "                tf.keras.layers.Dense(256, activation=\"relu\"),\n",
    "                tf.keras.layers.Dense(64, activation=\"relu\"),\n",
    "                # Make rating predictions in the final layer.\n",
    "                tf.keras.layers.Dense(1),\n",
    "            ]\n",
    "        )\n",
    "\n",
    "    def call(self, inputs):\n",
    "\n",
    "        user_id, movie_title = inputs\n",
    "\n",
    "        user_embedding = self.user_embeddings(user_id)\n",
    "        movie_embedding = self.movie_embeddings(movie_title)\n",
    "\n",
    "        return self.ratings(tf.concat([user_embedding, movie_embedding], axis=1))"
   ]
  },
  {
   "cell_type": "code",
   "execution_count": 514,
   "id": "e6b8c061-f2b4-43f1-8d48-05b83c7f432f",
   "metadata": {},
   "outputs": [
    {
     "name": "stdout",
     "output_type": "stream",
     "text": [
      "WARNING:tensorflow:Layers in a Sequential model should only have a single input tensor. Received: inputs=['42']. Consider rewriting this model with the Functional API.\n"
     ]
    },
    {
     "name": "stderr",
     "output_type": "stream",
     "text": [
      "WARNING:tensorflow:Layers in a Sequential model should only have a single input tensor. Received: inputs=['42']. Consider rewriting this model with the Functional API.\n"
     ]
    },
    {
     "name": "stdout",
     "output_type": "stream",
     "text": [
      "WARNING:tensorflow:Layers in a Sequential model should only have a single input tensor. Received: inputs=[\"One Flew Over the Cuckoo's Nest (1975)\"]. Consider rewriting this model with the Functional API.\n"
     ]
    },
    {
     "name": "stderr",
     "output_type": "stream",
     "text": [
      "WARNING:tensorflow:Layers in a Sequential model should only have a single input tensor. Received: inputs=[\"One Flew Over the Cuckoo's Nest (1975)\"]. Consider rewriting this model with the Functional API.\n"
     ]
    },
    {
     "data": {
      "text/plain": [
       "<tf.Tensor: shape=(1, 1), dtype=float32, numpy=array([[0.03740937]], dtype=float32)>"
      ]
     },
     "execution_count": 514,
     "metadata": {},
     "output_type": "execute_result"
    }
   ],
   "source": [
    "RankingModel()(([\"42\"], [\"One Flew Over the Cuckoo's Nest (1975)\"]))"
   ]
  },
  {
   "cell_type": "code",
   "execution_count": 515,
   "id": "be745531-0e80-459b-bc90-e4a4c9ecec4c",
   "metadata": {},
   "outputs": [],
   "source": [
    "task = tfrs.tasks.Ranking(\n",
    "    loss=tf.keras.losses.MeanSquaredError(),\n",
    "    metrics=[tf.keras.metrics.RootMeanSquaredError()],\n",
    ")"
   ]
  },
  {
   "cell_type": "code",
   "execution_count": 516,
   "id": "4753ff44-e358-457c-aef0-d1d4937769ff",
   "metadata": {},
   "outputs": [],
   "source": [
    "class MovielensModel(tfrs.models.Model):\n",
    "    def __init__(self):\n",
    "        super().__init__()\n",
    "        self.ranking_model: tf.keras.Model = RankingModel()\n",
    "        self.task: tf.keras.layers.Layer = tfrs.tasks.Ranking(\n",
    "            loss=tf.keras.losses.MeanSquaredError(),\n",
    "            metrics=[tf.keras.metrics.RootMeanSquaredError()],\n",
    "        )\n",
    "\n",
    "    def call(self, features: Dict[str, tf.Tensor]) -> tf.Tensor:\n",
    "        return self.ranking_model((features[\"user_id\"], features[\"movie_title\"]))\n",
    "\n",
    "    def compute_loss(\n",
    "        self, features: Dict[Text, tf.Tensor], training=False\n",
    "    ) -> tf.Tensor:\n",
    "        labels = features.pop(\"user_rating\")\n",
    "\n",
    "        rating_predictions = self(features)\n",
    "\n",
    "        # The task computes the loss and the metrics.\n",
    "        return self.task(labels=labels, predictions=rating_predictions)"
   ]
  },
  {
   "cell_type": "code",
   "execution_count": 517,
   "id": "586c198b-0a85-4a29-87e0-a743d976bce4",
   "metadata": {},
   "outputs": [],
   "source": [
    "model = MovielensModel()\n",
    "model.compile(optimizer=tf.keras.optimizers.Adagrad(learning_rate=0.1))"
   ]
  },
  {
   "cell_type": "code",
   "execution_count": 518,
   "id": "4bf7107a-fe78-4db2-b05d-f385257fc0d5",
   "metadata": {},
   "outputs": [],
   "source": [
    "cached_train = train.shuffle(100_000).batch(8192).cache()\n",
    "cached_test = test.batch(4096).cache()"
   ]
  },
  {
   "cell_type": "code",
   "execution_count": 519,
   "id": "5c38e986-e5ad-4a63-9465-57eb58394cd1",
   "metadata": {},
   "outputs": [
    {
     "name": "stdout",
     "output_type": "stream",
     "text": [
      "Epoch 1/5\n",
      "10/10 [==============================] - 4s 42ms/step - root_mean_squared_error: 2.1718 - loss: 4.3303 - regularization_loss: 0.0000e+00 - total_loss: 4.3303\n",
      "Epoch 2/5\n",
      "10/10 [==============================] - 0s 21ms/step - root_mean_squared_error: 1.1227 - loss: 1.2602 - regularization_loss: 0.0000e+00 - total_loss: 1.2602\n",
      "Epoch 3/5\n",
      "10/10 [==============================] - 0s 19ms/step - root_mean_squared_error: 1.1162 - loss: 1.2456 - regularization_loss: 0.0000e+00 - total_loss: 1.2456\n",
      "Epoch 4/5\n",
      "10/10 [==============================] - 0s 19ms/step - root_mean_squared_error: 1.1073 - loss: 1.2252 - regularization_loss: 0.0000e+00 - total_loss: 1.2252\n",
      "Epoch 5/5\n",
      "10/10 [==============================] - 0s 21ms/step - root_mean_squared_error: 1.0935 - loss: 1.1942 - regularization_loss: 0.0000e+00 - total_loss: 1.1942\n"
     ]
    },
    {
     "data": {
      "text/plain": [
       "<keras.callbacks.History at 0x7fd47a428100>"
      ]
     },
     "execution_count": 519,
     "metadata": {},
     "output_type": "execute_result"
    }
   ],
   "source": [
    "model.fit(cached_train, epochs=5)"
   ]
  },
  {
   "cell_type": "markdown",
   "id": "1de70e8a-5ef7-45cc-8399-83bf5fa7fbf8",
   "metadata": {},
   "source": [
    "## Get Ranking"
   ]
  },
  {
   "cell_type": "code",
   "execution_count": 531,
   "id": "60f3aa42-8f7d-4a41-9388-576dc1013806",
   "metadata": {},
   "outputs": [
    {
     "name": "stdout",
     "output_type": "stream",
     "text": [
      "Ratings:\n",
      "b'Pallbearer, The (1996)': [[3.600559]]\n",
      "b'Jack (1996)': [[3.5983663]]\n",
      "b'Land Before Time III: The Time of the Great Giving (1995) (V)': [[3.5924847]]\n",
      "b'Rent-a-Kid (1995)': [[3.5888155]]\n",
      "b'All Dogs Go to Heaven 2 (1996)': [[3.5628388]]\n",
      "b'Dunston Checks In (1996)': [[3.5565257]]\n",
      "b'Unstrung Heroes (1995)': [[3.5491028]]\n",
      "b'Paper, The (1994)': [[3.5153637]]\n",
      "b'Malice (1993)': [[3.5017323]]\n",
      "b'Unforgettable (1996)': [[3.4752536]]\n"
     ]
    }
   ],
   "source": [
    "test_ratings = {}\n",
    "\n",
    "for movie_title in titles[0]:\n",
    "    movie_title = movie_title.numpy()\n",
    "    test_ratings[movie_title] = model(\n",
    "        {\"user_id\": np.array([\"42\"]), \"movie_title\": np.array([movie_title])}\n",
    "    )\n",
    "\n",
    "print(\"Ratings:\")\n",
    "for title, score in sorted(test_ratings.items(), key=lambda x: x[1], reverse=True):\n",
    "    print(f\"{title}: {score}\")"
   ]
  },
  {
   "cell_type": "code",
   "execution_count": null,
   "id": "526b2c3b-3e75-4afd-850e-a7bec8ee1a1c",
   "metadata": {},
   "outputs": [],
   "source": []
  }
 ],
 "metadata": {
  "kernelspec": {
   "display_name": "Python 3",
   "language": "python",
   "name": "python3"
  },
  "language_info": {
   "codemirror_mode": {
    "name": "ipython",
    "version": 3
   },
   "file_extension": ".py",
   "mimetype": "text/x-python",
   "name": "python",
   "nbconvert_exporter": "python",
   "pygments_lexer": "ipython3",
   "version": "3.8.8"
  }
 },
 "nbformat": 4,
 "nbformat_minor": 5
}
