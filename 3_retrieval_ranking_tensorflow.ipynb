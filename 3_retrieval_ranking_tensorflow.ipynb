{
 "cells": [
  {
   "cell_type": "code",
   "execution_count": 8,
   "id": "0cecda41-786d-48b8-ab43-d0591fb8fce5",
   "metadata": {},
   "outputs": [],
   "source": [
    "import datetime\n",
    "import os\n",
    "import pprint\n",
    "import tempfile\n",
    "from typing import Dict, Text\n",
    "\n",
    "import numpy as np\n",
    "import pandas as pd\n",
    "import seaborn as sns\n",
    "import surprise\n",
    "import tensorflow as tf\n",
    "import tensorflow_recommenders as tfrs\n",
    "\n",
    "import tensorflow_datasets as tfds"
   ]
  },
  {
   "cell_type": "code",
   "execution_count": 9,
   "id": "baeaffed-f1d9-44a0-9a2d-1ec534284b96",
   "metadata": {},
   "outputs": [
    {
     "data": {
      "text/html": [
       "<div>\n",
       "<style scoped>\n",
       "    .dataframe tbody tr th:only-of-type {\n",
       "        vertical-align: middle;\n",
       "    }\n",
       "\n",
       "    .dataframe tbody tr th {\n",
       "        vertical-align: top;\n",
       "    }\n",
       "\n",
       "    .dataframe thead th {\n",
       "        text-align: right;\n",
       "    }\n",
       "</style>\n",
       "<table border=\"1\" class=\"dataframe\">\n",
       "  <thead>\n",
       "    <tr style=\"text-align: right;\">\n",
       "      <th></th>\n",
       "      <th>user_id</th>\n",
       "      <th>content_id</th>\n",
       "      <th>event_timestamp</th>\n",
       "      <th>event_type</th>\n",
       "    </tr>\n",
       "  </thead>\n",
       "  <tbody>\n",
       "    <tr>\n",
       "      <th>0</th>\n",
       "      <td>1438eb1414</td>\n",
       "      <td>f260f3f3ce</td>\n",
       "      <td>1.642347e+09</td>\n",
       "      <td>viewed</td>\n",
       "    </tr>\n",
       "    <tr>\n",
       "      <th>1</th>\n",
       "      <td>5380d76552</td>\n",
       "      <td>f260f3f3ce</td>\n",
       "      <td>1.642538e+09</td>\n",
       "      <td>viewed</td>\n",
       "    </tr>\n",
       "    <tr>\n",
       "      <th>2</th>\n",
       "      <td>f600b96610</td>\n",
       "      <td>f260f3f3ce</td>\n",
       "      <td>1.643294e+09</td>\n",
       "      <td>engaged</td>\n",
       "    </tr>\n",
       "    <tr>\n",
       "      <th>3</th>\n",
       "      <td>395ee54b4e</td>\n",
       "      <td>bce874342a</td>\n",
       "      <td>1.642697e+09</td>\n",
       "      <td>viewed</td>\n",
       "    </tr>\n",
       "    <tr>\n",
       "      <th>4</th>\n",
       "      <td>dcbb8d2a04</td>\n",
       "      <td>f260f3f3ce</td>\n",
       "      <td>1.641336e+09</td>\n",
       "      <td>viewed</td>\n",
       "    </tr>\n",
       "    <tr>\n",
       "      <th>...</th>\n",
       "      <td>...</td>\n",
       "      <td>...</td>\n",
       "      <td>...</td>\n",
       "      <td>...</td>\n",
       "    </tr>\n",
       "    <tr>\n",
       "      <th>484072</th>\n",
       "      <td>3638877804</td>\n",
       "      <td>a842a97d1a</td>\n",
       "      <td>1.644180e+09</td>\n",
       "      <td>viewed</td>\n",
       "    </tr>\n",
       "    <tr>\n",
       "      <th>484073</th>\n",
       "      <td>e1903bb0ba</td>\n",
       "      <td>5c57c25574</td>\n",
       "      <td>1.642185e+09</td>\n",
       "      <td>viewed</td>\n",
       "    </tr>\n",
       "    <tr>\n",
       "      <th>484074</th>\n",
       "      <td>f5fa01d9b5</td>\n",
       "      <td>58bb410bc8</td>\n",
       "      <td>1.643659e+09</td>\n",
       "      <td>engaged</td>\n",
       "    </tr>\n",
       "    <tr>\n",
       "      <th>484075</th>\n",
       "      <td>0090363528</td>\n",
       "      <td>5c57c25574</td>\n",
       "      <td>1.640085e+09</td>\n",
       "      <td>viewed</td>\n",
       "    </tr>\n",
       "    <tr>\n",
       "      <th>484076</th>\n",
       "      <td>23e5d42f3f</td>\n",
       "      <td>5c57c25574</td>\n",
       "      <td>1.641615e+09</td>\n",
       "      <td>viewed</td>\n",
       "    </tr>\n",
       "  </tbody>\n",
       "</table>\n",
       "<p>484077 rows × 4 columns</p>\n",
       "</div>"
      ],
      "text/plain": [
       "           user_id  content_id  event_timestamp event_type\n",
       "0       1438eb1414  f260f3f3ce     1.642347e+09     viewed\n",
       "1       5380d76552  f260f3f3ce     1.642538e+09     viewed\n",
       "2       f600b96610  f260f3f3ce     1.643294e+09    engaged\n",
       "3       395ee54b4e  bce874342a     1.642697e+09     viewed\n",
       "4       dcbb8d2a04  f260f3f3ce     1.641336e+09     viewed\n",
       "...            ...         ...              ...        ...\n",
       "484072  3638877804  a842a97d1a     1.644180e+09     viewed\n",
       "484073  e1903bb0ba  5c57c25574     1.642185e+09     viewed\n",
       "484074  f5fa01d9b5  58bb410bc8     1.643659e+09    engaged\n",
       "484075  0090363528  5c57c25574     1.640085e+09     viewed\n",
       "484076  23e5d42f3f  5c57c25574     1.641615e+09     viewed\n",
       "\n",
       "[484077 rows x 4 columns]"
      ]
     },
     "execution_count": 9,
     "metadata": {},
     "output_type": "execute_result"
    }
   ],
   "source": [
    "df_raw = pd.read_csv(\"../lovevery_mle_homework_content_engagement.csv\")\n",
    "df_raw"
   ]
  },
  {
   "cell_type": "markdown",
   "id": "b791b5ea-9f52-4aa0-a544-710206415bbf",
   "metadata": {},
   "source": [
    "# Build Datasets"
   ]
  },
  {
   "cell_type": "markdown",
   "id": "2f71f2ef-a107-44e1-9fe5-393e1032af41",
   "metadata": {},
   "source": [
    "## Make Engaged DataFrame\n",
    "* every record in raw data is either a view or engagement.\n",
    "* The rate a user engages with content they see is an implicit rating\n",
    "* as seen in the pivot table user_id vs content_id, not all content & user_id combinations have been presented. This is what the model trys to predict\n",
    "* all users in dataset have engaged with at least one piece of content"
   ]
  },
  {
   "cell_type": "code",
   "execution_count": 10,
   "id": "29ff594c-5756-4555-8a58-c4f45a5d34d7",
   "metadata": {},
   "outputs": [],
   "source": [
    "# create a column for the number of times content was viewed. Returns 197,562 records\n",
    "df_viewed = (\n",
    "    df_raw.groupby([\"user_id\", \"content_id\"])[\"event_type\"]\n",
    "    .apply(lambda x: (x == \"viewed\").sum())\n",
    "    .reset_index(name=\"viewed_count\")\n",
    ")"
   ]
  },
  {
   "cell_type": "code",
   "execution_count": 11,
   "id": "34424cf6-0939-4fa4-be86-027e2964d8d0",
   "metadata": {},
   "outputs": [],
   "source": [
    "# create a column for the number of times content was engaged. Returns 197,562 records\n",
    "df_engaged = (\n",
    "    df_raw.groupby([\"user_id\", \"content_id\"])[\"event_type\"]\n",
    "    .apply(lambda x: (x == \"engaged\").sum())\n",
    "    .reset_index(name=\"engaged_count\")\n",
    ")"
   ]
  },
  {
   "cell_type": "code",
   "execution_count": 12,
   "id": "7602aea3-e0df-49b1-88e4-50ffbee054e7",
   "metadata": {},
   "outputs": [],
   "source": [
    "df = pd.merge(df_viewed, df_engaged, on=[\"user_id\", \"content_id\"], how=\"inner\")"
   ]
  },
  {
   "cell_type": "code",
   "execution_count": 13,
   "id": "6c4d2408-d1ee-4973-ab2d-484b2207d53d",
   "metadata": {},
   "outputs": [],
   "source": [
    "# can have instances where engaged count is higher than viewed count.\n",
    "# Must add the two columns to get a total number of times a user has seen content\n",
    "df[\"shown_count\"] = df[\"engaged_count\"] + df[\"viewed_count\"]"
   ]
  },
  {
   "cell_type": "code",
   "execution_count": 14,
   "id": "54a5facd-cdc3-4ace-a1c8-6cb8a7d2d58f",
   "metadata": {},
   "outputs": [],
   "source": [
    "# engaged pct is a proxy for some type of rating.\n",
    "df[\"engaged_pct\"] = df[\"engaged_count\"] / df[\"shown_count\"]"
   ]
  },
  {
   "cell_type": "code",
   "execution_count": 15,
   "id": "cc04a793-6a15-4a81-b2fd-c0a92a09c8a4",
   "metadata": {},
   "outputs": [
    {
     "data": {
      "text/html": [
       "<div>\n",
       "<style scoped>\n",
       "    .dataframe tbody tr th:only-of-type {\n",
       "        vertical-align: middle;\n",
       "    }\n",
       "\n",
       "    .dataframe tbody tr th {\n",
       "        vertical-align: top;\n",
       "    }\n",
       "\n",
       "    .dataframe thead th {\n",
       "        text-align: right;\n",
       "    }\n",
       "</style>\n",
       "<table border=\"1\" class=\"dataframe\">\n",
       "  <thead>\n",
       "    <tr style=\"text-align: right;\">\n",
       "      <th></th>\n",
       "      <th>user_id</th>\n",
       "      <th>content_id</th>\n",
       "      <th>viewed_count</th>\n",
       "      <th>engaged_count</th>\n",
       "      <th>shown_count</th>\n",
       "      <th>engaged_pct</th>\n",
       "    </tr>\n",
       "  </thead>\n",
       "  <tbody>\n",
       "    <tr>\n",
       "      <th>0</th>\n",
       "      <td>000a544834</td>\n",
       "      <td>34caa29b86</td>\n",
       "      <td>1</td>\n",
       "      <td>0</td>\n",
       "      <td>1</td>\n",
       "      <td>0.000000</td>\n",
       "    </tr>\n",
       "    <tr>\n",
       "      <th>98451</th>\n",
       "      <td>82216a2c7d</td>\n",
       "      <td>bd1201fb2a</td>\n",
       "      <td>0</td>\n",
       "      <td>1</td>\n",
       "      <td>1</td>\n",
       "      <td>1.000000</td>\n",
       "    </tr>\n",
       "    <tr>\n",
       "      <th>98444</th>\n",
       "      <td>82216a2c7d</td>\n",
       "      <td>86091a3dd6</td>\n",
       "      <td>0</td>\n",
       "      <td>1</td>\n",
       "      <td>1</td>\n",
       "      <td>1.000000</td>\n",
       "    </tr>\n",
       "    <tr>\n",
       "      <th>98440</th>\n",
       "      <td>82216a2c7d</td>\n",
       "      <td>639ae113f9</td>\n",
       "      <td>0</td>\n",
       "      <td>1</td>\n",
       "      <td>1</td>\n",
       "      <td>1.000000</td>\n",
       "    </tr>\n",
       "    <tr>\n",
       "      <th>98438</th>\n",
       "      <td>82216a2c7d</td>\n",
       "      <td>5149306338</td>\n",
       "      <td>1</td>\n",
       "      <td>0</td>\n",
       "      <td>1</td>\n",
       "      <td>0.000000</td>\n",
       "    </tr>\n",
       "    <tr>\n",
       "      <th>...</th>\n",
       "      <td>...</td>\n",
       "      <td>...</td>\n",
       "      <td>...</td>\n",
       "      <td>...</td>\n",
       "      <td>...</td>\n",
       "      <td>...</td>\n",
       "    </tr>\n",
       "    <tr>\n",
       "      <th>70255</th>\n",
       "      <td>5e0fb13f54</td>\n",
       "      <td>8b53482986</td>\n",
       "      <td>20</td>\n",
       "      <td>9</td>\n",
       "      <td>29</td>\n",
       "      <td>0.310345</td>\n",
       "    </tr>\n",
       "    <tr>\n",
       "      <th>163060</th>\n",
       "      <td>d39bca4a9c</td>\n",
       "      <td>0e5f24c27b</td>\n",
       "      <td>35</td>\n",
       "      <td>0</td>\n",
       "      <td>35</td>\n",
       "      <td>0.000000</td>\n",
       "    </tr>\n",
       "    <tr>\n",
       "      <th>163065</th>\n",
       "      <td>d39bca4a9c</td>\n",
       "      <td>99c6cf7932</td>\n",
       "      <td>19</td>\n",
       "      <td>32</td>\n",
       "      <td>51</td>\n",
       "      <td>0.627451</td>\n",
       "    </tr>\n",
       "    <tr>\n",
       "      <th>136619</th>\n",
       "      <td>b104fe8d85</td>\n",
       "      <td>563c1fdf8f</td>\n",
       "      <td>24</td>\n",
       "      <td>33</td>\n",
       "      <td>57</td>\n",
       "      <td>0.578947</td>\n",
       "    </tr>\n",
       "    <tr>\n",
       "      <th>39835</th>\n",
       "      <td>34fcdf8893</td>\n",
       "      <td>839abd6731</td>\n",
       "      <td>61</td>\n",
       "      <td>4</td>\n",
       "      <td>65</td>\n",
       "      <td>0.061538</td>\n",
       "    </tr>\n",
       "  </tbody>\n",
       "</table>\n",
       "<p>197562 rows × 6 columns</p>\n",
       "</div>"
      ],
      "text/plain": [
       "           user_id  content_id  viewed_count  engaged_count  shown_count  \\\n",
       "0       000a544834  34caa29b86             1              0            1   \n",
       "98451   82216a2c7d  bd1201fb2a             0              1            1   \n",
       "98444   82216a2c7d  86091a3dd6             0              1            1   \n",
       "98440   82216a2c7d  639ae113f9             0              1            1   \n",
       "98438   82216a2c7d  5149306338             1              0            1   \n",
       "...            ...         ...           ...            ...          ...   \n",
       "70255   5e0fb13f54  8b53482986            20              9           29   \n",
       "163060  d39bca4a9c  0e5f24c27b            35              0           35   \n",
       "163065  d39bca4a9c  99c6cf7932            19             32           51   \n",
       "136619  b104fe8d85  563c1fdf8f            24             33           57   \n",
       "39835   34fcdf8893  839abd6731            61              4           65   \n",
       "\n",
       "        engaged_pct  \n",
       "0          0.000000  \n",
       "98451      1.000000  \n",
       "98444      1.000000  \n",
       "98440      1.000000  \n",
       "98438      0.000000  \n",
       "...             ...  \n",
       "70255      0.310345  \n",
       "163060     0.000000  \n",
       "163065     0.627451  \n",
       "136619     0.578947  \n",
       "39835      0.061538  \n",
       "\n",
       "[197562 rows x 6 columns]"
      ]
     },
     "execution_count": 15,
     "metadata": {},
     "output_type": "execute_result"
    }
   ],
   "source": [
    "df.sort_values(by=\"shown_count\")"
   ]
  },
  {
   "cell_type": "code",
   "execution_count": 16,
   "id": "342bf949-2e20-45ce-87d6-f25312a1ca6f",
   "metadata": {},
   "outputs": [
    {
     "data": {
      "text/plain": [
       "583"
      ]
     },
     "execution_count": 16,
     "metadata": {},
     "output_type": "execute_result"
    }
   ],
   "source": [
    "# ratings -> engageed_pct\n",
    "df_ratings = df[[\"user_id\", \"content_id\", \"engaged_pct\"]]\n",
    "len(df_ratings[\"content_id\"].unique())"
   ]
  },
  {
   "cell_type": "code",
   "execution_count": 17,
   "id": "73879af5-1d16-4f5a-ba49-eb0ea53892a7",
   "metadata": {},
   "outputs": [
    {
     "data": {
      "text/html": [
       "<div>\n",
       "<style scoped>\n",
       "    .dataframe tbody tr th:only-of-type {\n",
       "        vertical-align: middle;\n",
       "    }\n",
       "\n",
       "    .dataframe tbody tr th {\n",
       "        vertical-align: top;\n",
       "    }\n",
       "\n",
       "    .dataframe thead th {\n",
       "        text-align: right;\n",
       "    }\n",
       "</style>\n",
       "<table border=\"1\" class=\"dataframe\">\n",
       "  <thead>\n",
       "    <tr style=\"text-align: right;\">\n",
       "      <th></th>\n",
       "      <th>user_id</th>\n",
       "      <th>content_id</th>\n",
       "      <th>engaged_pct</th>\n",
       "    </tr>\n",
       "  </thead>\n",
       "  <tbody>\n",
       "    <tr>\n",
       "      <th>0</th>\n",
       "      <td>000a544834</td>\n",
       "      <td>34caa29b86</td>\n",
       "      <td>0.0</td>\n",
       "    </tr>\n",
       "    <tr>\n",
       "      <th>1</th>\n",
       "      <td>000a544834</td>\n",
       "      <td>3d0e786812</td>\n",
       "      <td>0.0</td>\n",
       "    </tr>\n",
       "    <tr>\n",
       "      <th>2</th>\n",
       "      <td>000a544834</td>\n",
       "      <td>5c7ee2dd80</td>\n",
       "      <td>0.5</td>\n",
       "    </tr>\n",
       "    <tr>\n",
       "      <th>3</th>\n",
       "      <td>000a544834</td>\n",
       "      <td>6f7ca40e85</td>\n",
       "      <td>0.0</td>\n",
       "    </tr>\n",
       "    <tr>\n",
       "      <th>4</th>\n",
       "      <td>000a544834</td>\n",
       "      <td>745115bd62</td>\n",
       "      <td>0.0</td>\n",
       "    </tr>\n",
       "  </tbody>\n",
       "</table>\n",
       "</div>"
      ],
      "text/plain": [
       "      user_id  content_id  engaged_pct\n",
       "0  000a544834  34caa29b86          0.0\n",
       "1  000a544834  3d0e786812          0.0\n",
       "2  000a544834  5c7ee2dd80          0.5\n",
       "3  000a544834  6f7ca40e85          0.0\n",
       "4  000a544834  745115bd62          0.0"
      ]
     },
     "execution_count": 17,
     "metadata": {},
     "output_type": "execute_result"
    }
   ],
   "source": [
    "df_ratings.head()"
   ]
  },
  {
   "cell_type": "markdown",
   "id": "b692f391-2f00-464f-9584-db309cc614f8",
   "metadata": {},
   "source": [
    "## Make Content_id Dataframe for Model\n",
    "includes ids for all content"
   ]
  },
  {
   "cell_type": "code",
   "execution_count": 18,
   "id": "0dbfab5a-0387-488c-9aaf-b103b6bef5b3",
   "metadata": {},
   "outputs": [
    {
     "data": {
      "text/html": [
       "<div>\n",
       "<style scoped>\n",
       "    .dataframe tbody tr th:only-of-type {\n",
       "        vertical-align: middle;\n",
       "    }\n",
       "\n",
       "    .dataframe tbody tr th {\n",
       "        vertical-align: top;\n",
       "    }\n",
       "\n",
       "    .dataframe thead th {\n",
       "        text-align: right;\n",
       "    }\n",
       "</style>\n",
       "<table border=\"1\" class=\"dataframe\">\n",
       "  <thead>\n",
       "    <tr style=\"text-align: right;\">\n",
       "      <th></th>\n",
       "      <th>content_id</th>\n",
       "    </tr>\n",
       "  </thead>\n",
       "  <tbody>\n",
       "    <tr>\n",
       "      <th>0</th>\n",
       "      <td>f260f3f3ce</td>\n",
       "    </tr>\n",
       "    <tr>\n",
       "      <th>1</th>\n",
       "      <td>bce874342a</td>\n",
       "    </tr>\n",
       "    <tr>\n",
       "      <th>2</th>\n",
       "      <td>bbf2753b99</td>\n",
       "    </tr>\n",
       "    <tr>\n",
       "      <th>3</th>\n",
       "      <td>a9b6c93c3a</td>\n",
       "    </tr>\n",
       "    <tr>\n",
       "      <th>4</th>\n",
       "      <td>0c93cc1338</td>\n",
       "    </tr>\n",
       "  </tbody>\n",
       "</table>\n",
       "</div>"
      ],
      "text/plain": [
       "   content_id\n",
       "0  f260f3f3ce\n",
       "1  bce874342a\n",
       "2  bbf2753b99\n",
       "3  a9b6c93c3a\n",
       "4  0c93cc1338"
      ]
     },
     "execution_count": 18,
     "metadata": {},
     "output_type": "execute_result"
    }
   ],
   "source": [
    "df_content = pd.DataFrame(df_raw[\"content_id\"].unique())\n",
    "df_content = df_content.rename(columns={0: \"content_id\"})\n",
    "df_content.head()"
   ]
  },
  {
   "cell_type": "code",
   "execution_count": 19,
   "id": "c5f52c20-9e0c-4c56-b8fd-c22f80af338e",
   "metadata": {},
   "outputs": [
    {
     "data": {
      "text/plain": [
       "0      f260f3f3ce\n",
       "1      bce874342a\n",
       "2      bbf2753b99\n",
       "3      a9b6c93c3a\n",
       "4      0c93cc1338\n",
       "          ...    \n",
       "578    2ca0fce09f\n",
       "579    5c57c25574\n",
       "580    58bb410bc8\n",
       "581    a842a97d1a\n",
       "582    2ce01b7f37\n",
       "Name: content_id, Length: 583, dtype: object"
      ]
     },
     "execution_count": 19,
     "metadata": {},
     "output_type": "execute_result"
    }
   ],
   "source": [
    "df_content[\"content_id\"]"
   ]
  },
  {
   "cell_type": "markdown",
   "id": "0040940c-fdd0-4a3b-a153-6e26ca0be370",
   "metadata": {},
   "source": [
    "# Modeling\n",
    "Implement both retrieval and ranking models\n",
    "\n",
    "Retrieval - two tower - https://blog.tensorflow.org/2020/09/introducing-tensorflow-recommenders.html\n",
    "takes a user id and returns a subset of good candidates\n",
    "\n",
    "ranking - https://www.tensorflow.org/recommenders/examples/basic_ranking\n",
    "takes ad user id and a subset of good candidates and returns the best candidate\n",
    "\n",
    "optimizing for a single objective (multi object is avaailable - ratings and clicks)"
   ]
  },
  {
   "cell_type": "code",
   "execution_count": null,
   "id": "d5d472f7-b412-41d5-bdd3-af1ec2eef93b",
   "metadata": {},
   "outputs": [],
   "source": [
    "mlflow.tensorflow.autolog()\n",
    "\n",
    "USER_ID = \"82216a2c7d\"\n",
    "CONTENT_ID = \"49a9f915b5\""
   ]
  },
  {
   "cell_type": "code",
   "execution_count": null,
   "id": "9236a938-26e6-4b66-835f-b11773b414e4",
   "metadata": {},
   "outputs": [],
   "source": []
  },
  {
   "cell_type": "markdown",
   "id": "1fb00de3-862b-49c7-be7b-4efaba98bc50",
   "metadata": {},
   "source": [
    "## Retrieval"
   ]
  },
  {
   "cell_type": "markdown",
   "id": "eb9569de-1f68-49a0-b3f3-4510a32b7d41",
   "metadata": {},
   "source": [
    "### Load data into TensorFlow"
   ]
  },
  {
   "cell_type": "code",
   "execution_count": 21,
   "id": "6a9537bf-98eb-4abf-a437-0f2f7e887b50",
   "metadata": {},
   "outputs": [
    {
     "name": "stdout",
     "output_type": "stream",
     "text": [
      "{'user_id': TensorSpec(shape=(), dtype=tf.string, name=None), 'content_id': TensorSpec(shape=(), dtype=tf.string, name=None), 'engaged_pct': TensorSpec(shape=(), dtype=tf.float64, name=None)}\n",
      "{'content_id': TensorSpec(shape=(), dtype=tf.string, name=None)}\n"
     ]
    }
   ],
   "source": [
    "ratings_raw = tf.data.Dataset.from_tensor_slices(\n",
    "    dict(df_ratings[[\"user_id\", \"content_id\", \"engaged_pct\"]])\n",
    ")\n",
    "content_raw = tf.data.Dataset.from_tensor_slices(dict(df_content[[\"content_id\"]]))\n",
    "print(ratings_raw.element_spec)\n",
    "print(content_raw.element_spec)"
   ]
  },
  {
   "cell_type": "code",
   "execution_count": 22,
   "id": "322cca22-dbd5-49dd-a447-3297f3bbf418",
   "metadata": {},
   "outputs": [
    {
     "name": "stdout",
     "output_type": "stream",
     "text": [
      "users_content length:  197562\n",
      "content length:  583\n"
     ]
    }
   ],
   "source": [
    "ratings_retrieval = ratings_raw.map(\n",
    "    lambda x: {\"user_id\": x[\"user_id\"], \"content_id\": x[\"content_id\"]}\n",
    ")\n",
    "\n",
    "content_retrieval = content_raw.map(lambda x: x[\"content_id\"])\n",
    "\n",
    "print(\"users_content length: \", len(ratings_retrieval))\n",
    "print(\"content length: \", len(content_retrieval))"
   ]
  },
  {
   "cell_type": "code",
   "execution_count": 23,
   "id": "9f091eba-0378-421f-bd8f-ab60d12417fa",
   "metadata": {},
   "outputs": [
    {
     "name": "stdout",
     "output_type": "stream",
     "text": [
      "length of shuffled:  197562\n",
      "training set size:  148171\n",
      "test set size:  49391\n"
     ]
    }
   ],
   "source": [
    "# Ratings: Shuffle and split into train and test\n",
    "\n",
    "tf.random.set_seed(42)\n",
    "shuffled_ratings = ratings_retrieval.shuffle(\n",
    "    buffer_size=1_000, seed=42, reshuffle_each_iteration=False\n",
    ")\n",
    "print(\"length of shuffled: \", len(shuffled_ratings))\n",
    "\n",
    "to_take_ratings = int(len(shuffled_ratings) * 0.75)\n",
    "remaining_ratings = int(len(shuffled_ratings) - to_take_ratings)\n",
    "\n",
    "print(\"training set size: \", to_take_ratings)\n",
    "print(\"test set size: \", remaining_ratings)\n",
    "\n",
    "train_retrieval = shuffled_ratings.take(to_take_ratings)\n",
    "test_retrieval = shuffled_ratings.skip(to_take_ratings).take(remaining_ratings)"
   ]
  },
  {
   "cell_type": "code",
   "execution_count": 25,
   "id": "b011bc52-bb1e-47fb-81c7-7368b5596315",
   "metadata": {},
   "outputs": [
    {
     "name": "stdout",
     "output_type": "stream",
     "text": [
      "number of unique titles:  583\n",
      "number of unique users:  7252\n"
     ]
    },
    {
     "data": {
      "text/plain": [
       "array([b'00733d9430', b'008c372b81', b'01af663e58', b'024775977e',\n",
       "       b'02538907fb'], dtype=object)"
      ]
     },
     "execution_count": 25,
     "metadata": {},
     "output_type": "execute_result"
    }
   ],
   "source": [
    "# get uniques\n",
    "\n",
    "content_ids_retrieval = content_retrieval.batch(1_000)\n",
    "user_ids_retrieval = ratings_retrieval.batch(1_000).map(lambda x: x[\"user_id\"])\n",
    "\n",
    "unique_content_ids_retrieval = np.unique(np.concatenate(list(content_ids_retrieval)))\n",
    "unique_user_ids_retrieval = np.unique(np.concatenate(list(user_ids_retrieval)))\n",
    "\n",
    "print(\"number of unique titles: \", len(unique_content_ids_retrieval))\n",
    "print(\"number of unique users: \", len(unique_user_ids_retrieval))\n",
    "\n",
    "# look at top 10\n",
    "unique_content_ids_retrieval[:5]"
   ]
  },
  {
   "cell_type": "markdown",
   "id": "999d7a6e-8f1f-498c-bcbb-0041de1622bd",
   "metadata": {},
   "source": [
    "### Define Model"
   ]
  },
  {
   "cell_type": "code",
   "execution_count": 26,
   "id": "b8c7760f-fe19-4596-8bf3-4c6d788c4506",
   "metadata": {},
   "outputs": [],
   "source": [
    "embedding_dimension = 32"
   ]
  },
  {
   "cell_type": "code",
   "execution_count": 27,
   "id": "abb79cc5-0b87-4c31-993b-28725b1716bc",
   "metadata": {},
   "outputs": [],
   "source": [
    "user_retrieval_model = tf.keras.Sequential(\n",
    "    [\n",
    "        tf.keras.layers.StringLookup(\n",
    "            vocabulary=unique_user_ids_retrieval, mask_token=None\n",
    "        ),\n",
    "        tf.keras.layers.Embedding(\n",
    "            len(unique_user_ids_retrieval) + 1, embedding_dimension\n",
    "        ),\n",
    "    ]\n",
    ")"
   ]
  },
  {
   "cell_type": "code",
   "execution_count": 30,
   "id": "8bf2cc92-f0f9-42fe-8627-6ec9c6bb72a9",
   "metadata": {},
   "outputs": [],
   "source": [
    "content_retrieval_model = tf.keras.Sequential(\n",
    "    [\n",
    "        tf.keras.layers.StringLookup(\n",
    "            vocabulary=unique_content_ids_retrieval, mask_token=None\n",
    "        ),\n",
    "        tf.keras.layers.Embedding(\n",
    "            len(unique_content_ids_retrieval) + 1, embedding_dimension\n",
    "        ),\n",
    "    ]\n",
    ")\n",
    "\n",
    "metrics = tfrs.metrics.FactorizedTopK(\n",
    "    candidates=content_retrieval.batch(128).map(content_retrieval_model)\n",
    ")\n",
    "TASK_RETRIEVAL = tfrs.tasks.Retrieval(metrics=metrics)"
   ]
  },
  {
   "cell_type": "code",
   "execution_count": 31,
   "id": "7a5746ba-cd5f-4a6c-b064-d3cd29d61424",
   "metadata": {},
   "outputs": [],
   "source": [
    "# defined as the dot product between user and item embeddings. corresponds to matrix factorization.\n",
    "\n",
    "\n",
    "class RetrievalModel(tfrs.Model):\n",
    "    def __init__(self, user_model, content_model):\n",
    "        super().__init__()\n",
    "        self.content_model: tf.keras.Model = content_model\n",
    "        self.user_model: tf.keras.Model = user_model\n",
    "        self.task: tf.keras.layers.Layer = TASK_RETRIEVAL\n",
    "\n",
    "    def compute_loss(\n",
    "        self, features: Dict[Text, tf.Tensor], training=False\n",
    "    ) -> tf.Tensor:\n",
    "        # We pick out the user features and pass them into the user model.\n",
    "        user_embeddings = self.user_model(features[\"user_id\"])\n",
    "\n",
    "        # And pick out the content features and pass them into the coontent model,\n",
    "        # getting embeddings back.\n",
    "        positive_content_embeddings = self.content_model(features[\"content_id\"])\n",
    "\n",
    "        # The task computes the loss and the metrics.\n",
    "        return self.task(user_embeddings, positive_content_embeddings)"
   ]
  },
  {
   "cell_type": "markdown",
   "id": "50ec2df7-9b4f-486b-9d6c-484a45ebfb6f",
   "metadata": {},
   "source": [
    "### Fit and Evaluate"
   ]
  },
  {
   "cell_type": "code",
   "execution_count": 32,
   "id": "fcee5b31-1b12-47f0-a377-0477cf3ca8eb",
   "metadata": {},
   "outputs": [],
   "source": [
    "model_retrieval = RetrievalModel(user_retrieval_model, content_retrieval_model)\n",
    "model_retrieval.compile(optimizer=tf.keras.optimizers.Adagrad(learning_rate=0.1))"
   ]
  },
  {
   "cell_type": "code",
   "execution_count": 33,
   "id": "30728057-437d-4fd8-9803-646440581aed",
   "metadata": {},
   "outputs": [],
   "source": [
    "cached_train_retrieval = (\n",
    "    train_retrieval.shuffle(buffer_size=100_000).batch(8192).cache()\n",
    ")\n",
    "cached_test_retrieval = test_retrieval.batch(4096).cache()"
   ]
  },
  {
   "cell_type": "code",
   "execution_count": 34,
   "id": "fd15be9e-8e12-4afd-90d6-1a8cc2843c89",
   "metadata": {},
   "outputs": [],
   "source": [
    "log_dir = \"logs/fit/\" + datetime.datetime.now().strftime(\"%Y%m%d-%H%M%S\")\n",
    "tensorboard_callback = tf.keras.callbacks.TensorBoard(log_dir=log_dir, histogram_freq=1)"
   ]
  },
  {
   "cell_type": "code",
   "execution_count": 35,
   "id": "e479c3b2-e84b-4668-8840-69c06ecdf137",
   "metadata": {},
   "outputs": [
    {
     "name": "stdout",
     "output_type": "stream",
     "text": [
      "Epoch 1/3\n",
      "19/19 [==============================] - 16s 674ms/step - factorized_top_k/top_1_categorical_accuracy: 0.0099 - factorized_top_k/top_5_categorical_accuracy: 0.0754 - factorized_top_k/top_10_categorical_accuracy: 0.1567 - factorized_top_k/top_50_categorical_accuracy: 0.5234 - factorized_top_k/top_100_categorical_accuracy: 0.7310 - loss: 60905.8454 - regularization_loss: 0.0000e+00 - total_loss: 60905.8454\n",
      "Epoch 2/3\n",
      "19/19 [==============================] - 11s 591ms/step - factorized_top_k/top_1_categorical_accuracy: 0.0169 - factorized_top_k/top_5_categorical_accuracy: 0.1229 - factorized_top_k/top_10_categorical_accuracy: 0.2415 - factorized_top_k/top_50_categorical_accuracy: 0.6866 - factorized_top_k/top_100_categorical_accuracy: 0.9073 - loss: 54177.5782 - regularization_loss: 0.0000e+00 - total_loss: 54177.5782\n",
      "Epoch 3/3\n",
      "19/19 [==============================] - 12s 652ms/step - factorized_top_k/top_1_categorical_accuracy: 0.0178 - factorized_top_k/top_5_categorical_accuracy: 0.1323 - factorized_top_k/top_10_categorical_accuracy: 0.2619 - factorized_top_k/top_50_categorical_accuracy: 0.7220 - factorized_top_k/top_100_categorical_accuracy: 0.9244 - loss: 53192.0031 - regularization_loss: 0.0000e+00 - total_loss: 53192.0031\n"
     ]
    },
    {
     "data": {
      "text/plain": [
       "<keras.callbacks.History at 0x7fbd850a3910>"
      ]
     },
     "execution_count": 35,
     "metadata": {},
     "output_type": "execute_result"
    }
   ],
   "source": [
    "model_retrieval.fit(cached_train_retrieval, epochs=3, callbacks=[tensorboard_callback])\n",
    "# To access TensorBoard - run the command below in terminal\n",
    "# tensorboard --logdir logs/fit"
   ]
  },
  {
   "cell_type": "code",
   "execution_count": 36,
   "id": "7784dba2-8096-40a7-806f-f3769a6954ec",
   "metadata": {},
   "outputs": [
    {
     "name": "stdout",
     "output_type": "stream",
     "text": [
      "13/13 [==============================] - 6s 315ms/step - factorized_top_k/top_1_categorical_accuracy: 0.0015 - factorized_top_k/top_5_categorical_accuracy: 0.0117 - factorized_top_k/top_10_categorical_accuracy: 0.0231 - factorized_top_k/top_50_categorical_accuracy: 0.0993 - factorized_top_k/top_100_categorical_accuracy: 0.1865 - loss: 29309.0101 - regularization_loss: 0.0000e+00 - total_loss: 29309.0101\n"
     ]
    },
    {
     "data": {
      "text/plain": [
       "{'factorized_top_k/top_1_categorical_accuracy': 0.0015184952644631267,\n",
       " 'factorized_top_k/top_5_categorical_accuracy': 0.01172278355807066,\n",
       " 'factorized_top_k/top_10_categorical_accuracy': 0.02310137450695038,\n",
       " 'factorized_top_k/top_50_categorical_accuracy': 0.09932983666658401,\n",
       " 'factorized_top_k/top_100_categorical_accuracy': 0.18653196096420288,\n",
       " 'loss': 1312.309814453125,\n",
       " 'regularization_loss': 0,\n",
       " 'total_loss': 1312.309814453125}"
      ]
     },
     "execution_count": 36,
     "metadata": {},
     "output_type": "execute_result"
    }
   ],
   "source": [
    "model_retrieval.evaluate(cached_test_retrieval, return_dict=True)"
   ]
  },
  {
   "cell_type": "markdown",
   "id": "0ae3ec77-b65d-4b8e-a526-b11b9b00cb1a",
   "metadata": {},
   "source": [
    "### Get Content Recommendations - Brute Force\n",
    "The most straightforward way of retrieving top candidates in response to a query is to do it via brute force: compute user-movie scores for all possible movies, sort them, and pick a couple of top recommendations.\n",
    "\n",
    "As the number of candidate grows, the amount of time needed grows linearly: with 10 million candidates, serving top candidates would take 250 milliseconds. This is clearly too slow for a live service. This is where approximate mechanisms come in. We can use ScaNN in TFRS to accomplish this via the tfrs.layers.factorized_top_k.ScaNN layer."
   ]
  },
  {
   "cell_type": "code",
   "execution_count": 58,
   "id": "42014d1b-847a-49c8-8541-e973c5ac658b",
   "metadata": {},
   "outputs": [
    {
     "name": "stdout",
     "output_type": "stream",
     "text": [
      "content_id recommendations for user 82216a2c7d: [b'49a9f915b5' b'a533f2f57a' b'20b0745a31' b'487d868f96' b'19e9799800']\n"
     ]
    }
   ],
   "source": [
    "# Create BruteForce model that takes in raw user_id features, and\n",
    "brute_force_index = tfrs.layers.factorized_top_k.BruteForce(model_retrieval.user_model)\n",
    "\n",
    "# recommends content out of the entire content dataset.\n",
    "brute_force_index.index_from_dataset(\n",
    "    tf.data.Dataset.zip(\n",
    "        (\n",
    "            content_retrieval.batch(100),\n",
    "            content_retrieval.batch(100).map(model_retrieval.content_model),\n",
    "        )\n",
    "    )\n",
    ")\n",
    "\n",
    "# Get recommendations for:\n",
    "_, content_ids_recommended = brute_force_index(tf.constant([USER_ID]))\n",
    "print(\n",
    "    f\"content_id recommendations for user {USER_ID}: {content_ids_recommended[0, :5]}\"\n",
    ")"
   ]
  },
  {
   "cell_type": "code",
   "execution_count": 38,
   "id": "8aa6d170-3e49-4d01-b3c8-680277c14327",
   "metadata": {},
   "outputs": [],
   "source": [
    "# This system is for: user -> item\n",
    "# item -> item. usualy on a product page to recommend similar products. Can get with cosine similarity measure vs dot product for matrix factorization"
   ]
  },
  {
   "cell_type": "markdown",
   "id": "77d5637c-c338-4181-a814-9751f0556ed8",
   "metadata": {},
   "source": [
    "## Ranking\n",
    "* pointwise - candidates are considered independently of each other (currently using)\n",
    "* listwise - candidates pairs are considered, consider the ordering of the entire list\n",
    "* can use explicit feedback (engage pct) as a ranking"
   ]
  },
  {
   "cell_type": "markdown",
   "id": "bd39b05a-d35b-44f3-9295-75fb1677fe80",
   "metadata": {},
   "source": [
    "### Load Data into TensorFlow"
   ]
  },
  {
   "cell_type": "code",
   "execution_count": 39,
   "id": "2d7d846d-70f8-4909-bb49-420ffd481096",
   "metadata": {},
   "outputs": [
    {
     "data": {
      "text/plain": [
       "{'user_id': TensorSpec(shape=(), dtype=tf.string, name=None),\n",
       " 'content_id': TensorSpec(shape=(), dtype=tf.string, name=None),\n",
       " 'engaged_pct': TensorSpec(shape=(), dtype=tf.float64, name=None)}"
      ]
     },
     "execution_count": 39,
     "metadata": {},
     "output_type": "execute_result"
    }
   ],
   "source": [
    "ratings_raw.element_spec"
   ]
  },
  {
   "cell_type": "code",
   "execution_count": 40,
   "id": "3aa2b874-b2e6-41b0-b1c8-c95bc1125862",
   "metadata": {},
   "outputs": [],
   "source": [
    "# use user_rating\n",
    "ratings_ranking = ratings_raw.map(\n",
    "    lambda x: {\n",
    "        \"user_id\": x[\"user_id\"],\n",
    "        \"content_id\": x[\"content_id\"],\n",
    "        \"engaged_pct\": x[\"engaged_pct\"],\n",
    "    }\n",
    ")"
   ]
  },
  {
   "cell_type": "code",
   "execution_count": 42,
   "id": "81aff7a5-429e-4c69-8934-39047832e8c8",
   "metadata": {},
   "outputs": [
    {
     "name": "stdout",
     "output_type": "stream",
     "text": [
      "length of shuffled:  197562\n",
      "training set size:  148171\n",
      "test set size:  49391\n"
     ]
    },
    {
     "data": {
      "text/plain": [
       "{'user_id': TensorSpec(shape=(), dtype=tf.string, name=None),\n",
       " 'content_id': TensorSpec(shape=(), dtype=tf.string, name=None),\n",
       " 'engaged_pct': TensorSpec(shape=(), dtype=tf.float64, name=None)}"
      ]
     },
     "execution_count": 42,
     "metadata": {},
     "output_type": "execute_result"
    }
   ],
   "source": [
    "# suffle and train/test split\n",
    "tf.random.set_seed(42)\n",
    "shuffled_ranking = ratings_ranking.shuffle(\n",
    "    buffer_size=1_000, seed=42, reshuffle_each_iteration=False\n",
    ")\n",
    "print(\"length of shuffled: \", len(shuffled_ranking))\n",
    "\n",
    "to_take_ranking = int(len(shuffled_ranking) * 0.75)\n",
    "remaining_ranking = int(len(shuffled_ranking) - to_take_ranking)\n",
    "\n",
    "print(\"training set size: \", to_take_ranking)\n",
    "print(\"test set size: \", remaining_ranking)\n",
    "\n",
    "train_ranking = shuffled_ranking.take(to_take_ranking)\n",
    "test_ranking = shuffled_ranking.skip(to_take_ranking).take(remaining_ranking)\n",
    "\n",
    "shuffled_ranking.element_spec"
   ]
  },
  {
   "cell_type": "code",
   "execution_count": 43,
   "id": "9d0f2635-1ec3-4ea9-a751-746a8e572368",
   "metadata": {},
   "outputs": [],
   "source": [
    "# get uniques. all from ratings\n",
    "content_ids_ranking = ratings_ranking.batch(1_000_000).map(lambda x: x[\"content_id\"])\n",
    "user_ids_ranking = ratings_ranking.batch(1_000_000).map(lambda x: x[\"user_id\"])\n",
    "\n",
    "unique_content_ids_ranking = np.unique(np.concatenate(list(content_ids_ranking)))\n",
    "unique_user_ids_ranking = np.unique(np.concatenate(list(user_ids_ranking)))"
   ]
  },
  {
   "cell_type": "markdown",
   "id": "573c692e-a671-4645-a731-93a988de6dd5",
   "metadata": {},
   "source": [
    "### Define Model"
   ]
  },
  {
   "cell_type": "code",
   "execution_count": 47,
   "id": "dfeba381-b518-4125-b2a4-958b7dffd552",
   "metadata": {},
   "outputs": [],
   "source": [
    "class RankingDefinitionModel(tf.keras.Model):\n",
    "    def __init__(self):\n",
    "        super().__init__()\n",
    "        embedding_dimension = 32\n",
    "\n",
    "        # Compute embeddings for users.\n",
    "        self.user_embeddings = tf.keras.Sequential(\n",
    "            [\n",
    "                tf.keras.layers.StringLookup(\n",
    "                    vocabulary=unique_user_ids_ranking, mask_token=None\n",
    "                ),\n",
    "                tf.keras.layers.Embedding(\n",
    "                    len(unique_user_ids_ranking) + 1, embedding_dimension\n",
    "                ),\n",
    "            ]\n",
    "        )\n",
    "\n",
    "        # Compute embeddings for content_ids.\n",
    "        self.content_embeddings = tf.keras.Sequential(\n",
    "            [\n",
    "                tf.keras.layers.StringLookup(\n",
    "                    vocabulary=unique_content_ids_ranking, mask_token=None\n",
    "                ),\n",
    "                tf.keras.layers.Embedding(\n",
    "                    len(unique_content_ids_ranking) + 1, embedding_dimension\n",
    "                ),\n",
    "            ]\n",
    "        )\n",
    "\n",
    "        # Compute predictions.\n",
    "        self.ratings = tf.keras.Sequential(\n",
    "            [\n",
    "                # Learn multiple dense layers.\n",
    "                tf.keras.layers.Dense(256, activation=\"relu\"),\n",
    "                tf.keras.layers.Dense(64, activation=\"relu\"),\n",
    "                # Make rating predictions in the final layer.\n",
    "                tf.keras.layers.Dense(1),\n",
    "            ]\n",
    "        )\n",
    "\n",
    "    def call(self, inputs):\n",
    "\n",
    "        user_id, content_id = inputs\n",
    "\n",
    "        user_embedding = self.user_embeddings(user_id)\n",
    "        content_embedding = self.content_embeddings(content_id)\n",
    "\n",
    "        return self.ratings(tf.concat([user_embedding, content_embedding], axis=1))"
   ]
  },
  {
   "cell_type": "code",
   "execution_count": 48,
   "id": "2f1ac1e6-b171-4d91-a359-02403376bda1",
   "metadata": {},
   "outputs": [
    {
     "name": "stdout",
     "output_type": "stream",
     "text": [
      "WARNING:tensorflow:Layers in a Sequential model should only have a single input tensor. Received: inputs=['82216a2c7d']. Consider rewriting this model with the Functional API.\n",
      "WARNING:tensorflow:Layers in a Sequential model should only have a single input tensor. Received: inputs=['49a9f915b5']. Consider rewriting this model with the Functional API.\n"
     ]
    },
    {
     "data": {
      "text/plain": [
       "<tf.Tensor: shape=(1, 1), dtype=float32, numpy=array([[0.00753504]], dtype=float32)>"
      ]
     },
     "execution_count": 48,
     "metadata": {},
     "output_type": "execute_result"
    }
   ],
   "source": [
    "# user_id, content_id\n",
    "RankingDefinitionModel()(([USER_ID], [CONTENT_ID]))"
   ]
  },
  {
   "cell_type": "code",
   "execution_count": 49,
   "id": "4c3bedc2-5b35-4f31-88e4-a4565bac3733",
   "metadata": {},
   "outputs": [],
   "source": [
    "TASK_RANKING = tfrs.tasks.Ranking(\n",
    "    loss=tf.keras.losses.MeanSquaredError(),\n",
    "    metrics=[tf.keras.metrics.RootMeanSquaredError()],\n",
    ")"
   ]
  },
  {
   "cell_type": "code",
   "execution_count": 50,
   "id": "eaa94e82-f81c-4cfb-97e8-bef1bf9edc76",
   "metadata": {},
   "outputs": [],
   "source": [
    "class RankingsModel(tfrs.models.Model):\n",
    "    def __init__(self):\n",
    "        super().__init__()\n",
    "        self.ranking_model: tf.keras.Model = RankingDefinitionModel()\n",
    "        self.task: tf.keras.layers.Layer = TASK_RANKING\n",
    "\n",
    "    def call(self, features: Dict[str, tf.Tensor]) -> tf.Tensor:\n",
    "        return self.ranking_model((features[\"user_id\"], features[\"content_id\"]))\n",
    "\n",
    "    def compute_loss(\n",
    "        self, features: Dict[Text, tf.Tensor], training=False\n",
    "    ) -> tf.Tensor:\n",
    "        labels = features.pop(\"engaged_pct\")\n",
    "\n",
    "        rating_predictions = self(features)\n",
    "\n",
    "        # The task computes the loss and the metrics.\n",
    "        return self.task(labels=labels, predictions=rating_predictions)"
   ]
  },
  {
   "cell_type": "markdown",
   "id": "20a8f97c-1c96-4861-b512-afd16c54d77c",
   "metadata": {},
   "source": [
    "### Fit and Evaluate"
   ]
  },
  {
   "cell_type": "code",
   "execution_count": 51,
   "id": "4a2b8c0d-7fc1-4a57-9a0d-64b28e7bc9a8",
   "metadata": {},
   "outputs": [],
   "source": [
    "model_ranking = RankingsModel()\n",
    "model_ranking.compile(optimizer=tf.keras.optimizers.Adagrad(learning_rate=0.1))"
   ]
  },
  {
   "cell_type": "code",
   "execution_count": 52,
   "id": "a08de44c-fe73-4c9c-b0a8-28bbf8c8cc30",
   "metadata": {},
   "outputs": [],
   "source": [
    "cached_train_ranking = train_ranking.shuffle(100_000).batch(8192).cache()\n",
    "cached_test_ranking = test_ranking.batch(4096).cache()"
   ]
  },
  {
   "cell_type": "code",
   "execution_count": 53,
   "id": "033eaf08-9802-4da1-b5e0-bbb0960522ec",
   "metadata": {},
   "outputs": [
    {
     "name": "stdout",
     "output_type": "stream",
     "text": [
      "Epoch 1/5\n",
      "19/19 [==============================] - 2s 58ms/step - root_mean_squared_error: 0.3637 - loss: 0.1309 - regularization_loss: 0.0000e+00 - total_loss: 0.1309\n",
      "Epoch 2/5\n",
      "19/19 [==============================] - 0s 25ms/step - root_mean_squared_error: 0.3494 - loss: 0.1217 - regularization_loss: 0.0000e+00 - total_loss: 0.1217\n",
      "Epoch 3/5\n",
      "19/19 [==============================] - 0s 25ms/step - root_mean_squared_error: 0.3488 - loss: 0.1213 - regularization_loss: 0.0000e+00 - total_loss: 0.1213\n",
      "Epoch 4/5\n",
      "19/19 [==============================] - 0s 18ms/step - root_mean_squared_error: 0.3482 - loss: 0.1208 - regularization_loss: 0.0000e+00 - total_loss: 0.1208\n",
      "Epoch 5/5\n",
      "19/19 [==============================] - 0s 20ms/step - root_mean_squared_error: 0.3474 - loss: 0.1202 - regularization_loss: 0.0000e+00 - total_loss: 0.1202\n"
     ]
    },
    {
     "data": {
      "text/plain": [
       "<keras.callbacks.History at 0x7fbd2f72eeb0>"
      ]
     },
     "execution_count": 53,
     "metadata": {},
     "output_type": "execute_result"
    }
   ],
   "source": [
    "model_ranking.fit(cached_train_ranking, epochs=5)"
   ]
  },
  {
   "cell_type": "code",
   "execution_count": 54,
   "id": "af2bdc40-2cc1-4a2d-80d0-80b9d9809526",
   "metadata": {},
   "outputs": [
    {
     "name": "stdout",
     "output_type": "stream",
     "text": [
      "13/13 [==============================] - 1s 24ms/step - root_mean_squared_error: 0.3481 - loss: 0.1196 - regularization_loss: 0.0000e+00 - total_loss: 0.1196\n"
     ]
    },
    {
     "data": {
      "text/plain": [
       "{'root_mean_squared_error': 0.34809935092926025,\n",
       " 'loss': 0.10958518087863922,\n",
       " 'regularization_loss': 0,\n",
       " 'total_loss': 0.10958518087863922}"
      ]
     },
     "execution_count": 54,
     "metadata": {},
     "output_type": "execute_result"
    }
   ],
   "source": [
    "model_ranking.evaluate(cached_test_ranking, return_dict=True)"
   ]
  },
  {
   "cell_type": "markdown",
   "id": "40ca3b0c-2014-41a1-b483-e077f2f102dc",
   "metadata": {},
   "source": [
    "### Get Content Recommendations - Ranking"
   ]
  },
  {
   "cell_type": "code",
   "execution_count": 57,
   "id": "9022e06d-b026-443f-b467-54957cc1a819",
   "metadata": {},
   "outputs": [
    {
     "name": "stdout",
     "output_type": "stream",
     "text": [
      "content from retrieval (unsorted content_ids):  tf.Tensor(\n",
      "[b'49a9f915b5' b'a533f2f57a' b'20b0745a31' b'487d868f96' b'19e9799800'\n",
      " b'a1671b9953' b'9f943715a3' b'25ad9f4d85' b'd7dad09669' b'73e16a0447'], shape=(10,), dtype=string)\n",
      "----------------\n",
      "Ranked Content\n",
      "Ratings for user 82216a2c7d:\n",
      "content_id | score\n",
      "b'73e16a0447': [[0.36834288]]\n",
      "b'a1671b9953': [[0.367317]]\n",
      "b'487d868f96': [[0.36708573]]\n",
      "b'd7dad09669': [[0.36350384]]\n",
      "b'25ad9f4d85': [[0.35258558]]\n",
      "b'a533f2f57a': [[0.3521912]]\n",
      "b'49a9f915b5': [[0.3467191]]\n",
      "b'19e9799800': [[0.33223924]]\n",
      "b'20b0745a31': [[0.3312234]]\n",
      "b'9f943715a3': [[0.32872432]]\n"
     ]
    }
   ],
   "source": [
    "final_ratings = {}\n",
    "\n",
    "content_ids_from_retrieval = content_ids_recommended[0]\n",
    "print(\"content from retrieval (unsorted content_ids): \", content_ids_from_retrieval)\n",
    "\n",
    "for content_id in content_ids_from_retrieval:\n",
    "    content_id = content_id.numpy()\n",
    "    final_ratings[content_id] = model_ranking(\n",
    "        # user | content_id\n",
    "        {\"user_id\": np.array([f\"{USER_ID}\"]), \"content_id\": np.array([content_id])}\n",
    "    )\n",
    "\n",
    "print(\"----------------\")\n",
    "print(\"Ranked Content\")\n",
    "print(f\"Ratings for user {USER_ID}:\")\n",
    "print(\"content_id | score\")\n",
    "\n",
    "\n",
    "for content_id, score in sorted(\n",
    "    final_ratings.items(), key=lambda x: x[1], reverse=True\n",
    "):\n",
    "    print(f\"{content_id}: {score}\")"
   ]
  },
  {
   "cell_type": "code",
   "execution_count": null,
   "id": "d50c6d98-79b4-4313-b98d-1688cd6fe77e",
   "metadata": {},
   "outputs": [],
   "source": []
  }
 ],
 "metadata": {
  "kernelspec": {
   "display_name": "Python 3",
   "language": "python",
   "name": "python3"
  },
  "language_info": {
   "codemirror_mode": {
    "name": "ipython",
    "version": 3
   },
   "file_extension": ".py",
   "mimetype": "text/x-python",
   "name": "python",
   "nbconvert_exporter": "python",
   "pygments_lexer": "ipython3",
   "version": "3.8.8"
  }
 },
 "nbformat": 4,
 "nbformat_minor": 5
}
