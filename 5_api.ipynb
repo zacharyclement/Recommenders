{
 "cells": [
  {
   "cell_type": "code",
   "execution_count": 1,
   "id": "01ae6eb1-645c-447d-b1f7-bbf07de3978b",
   "metadata": {},
   "outputs": [],
   "source": [
    "import tensorflow as tf\n",
    "import os"
   ]
  },
  {
   "cell_type": "code",
   "execution_count": 3,
   "id": "62d4fe8d-b007-4d18-9ac1-d7be1870f129",
   "metadata": {},
   "outputs": [],
   "source": [
    "USER_ID = \"82216a2c7d\"\n",
    "CONTENT_ID = \"49a9f915b5\""
   ]
  },
  {
   "cell_type": "code",
   "execution_count": 5,
   "id": "59133b62-da00-4d9a-8f6d-cd802ebc136b",
   "metadata": {},
   "outputs": [
    {
     "name": "stdout",
     "output_type": "stream",
     "text": [
      "\n",
      "Recommendations: [[b'49a9f915b5' b'a533f2f57a' b'20b0745a31' b'487d868f96' b'19e9799800'\n",
      "  b'a1671b9953' b'9f943715a3' b'25ad9f4d85' b'd7dad09669' b'73e16a0447']]\n"
     ]
    }
   ],
   "source": [
    " # Load Retrieval; can also be done in TensorFlow Serving.\n",
    "    \n",
    "cwd = os.getcwd()\n",
    "print()\n",
    "path = os.path.join(cwd, \"retrieval_model\")\n",
    "loaded = tf.saved_model.load(path)\n",
    "\n",
    "# Pass a user id in, get top predicted movie titles back.\n",
    "_ , content_ids = loaded([USER_ID])\n",
    "\n",
    "print(f\"Recommendations: {content_ids}\")"
   ]
  },
  {
   "cell_type": "code",
   "execution_count": null,
   "id": "478c5a44-b1ac-493b-8b25-8e36a0f40bc6",
   "metadata": {},
   "outputs": [],
   "source": []
  }
 ],
 "metadata": {
  "kernelspec": {
   "display_name": "Python 3",
   "language": "python",
   "name": "python3"
  },
  "language_info": {
   "codemirror_mode": {
    "name": "ipython",
    "version": 3
   },
   "file_extension": ".py",
   "mimetype": "text/x-python",
   "name": "python",
   "nbconvert_exporter": "python",
   "pygments_lexer": "ipython3",
   "version": "3.8.8"
  }
 },
 "nbformat": 4,
 "nbformat_minor": 5
}
